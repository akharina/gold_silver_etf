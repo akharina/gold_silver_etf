{
 "cells": [
  {
   "cell_type": "code",
   "execution_count": 1,
   "metadata": {},
   "outputs": [],
   "source": [
    "%load_ext autoreload\n",
    "%autoreload 2 \n",
    "import pandas as pd\n",
    "import numpy as np\n",
    "import requests \n",
    "import matplotlib.pyplot as plt\n",
    "import json"
   ]
  },
  {
   "cell_type": "code",
   "execution_count": 2,
   "metadata": {},
   "outputs": [],
   "source": [
    "from data_compilation import call_api_one_symbol\n",
    "from data_compilation import call_all_symbols\n",
    "from data_cleaning import full_clean"
   ]
  },
  {
   "cell_type": "code",
   "execution_count": 3,
   "metadata": {},
   "outputs": [],
   "source": [
    "symbol_list = ['SLV', 'SIL', 'GLD', 'GDX', 'DJI']"
   ]
  },
  {
   "cell_type": "code",
   "execution_count": 4,
   "metadata": {},
   "outputs": [
    {
     "name": "stdout",
     "output_type": "stream",
     "text": [
      "The response code for SLV is 200\n",
      "The response code for SIL is 200\n",
      "The response code for GLD is 200\n",
      "The response code for GDX is 200\n",
      "The response code for DJI is 200\n"
     ]
    }
   ],
   "source": [
    "df = call_all_symbols(symbol_list)"
   ]
  },
  {
   "cell_type": "code",
   "execution_count": 5,
   "metadata": {},
   "outputs": [
    {
     "data": {
      "text/plain": [
       "(17854, 6)"
      ]
     },
     "execution_count": 5,
     "metadata": {},
     "output_type": "execute_result"
    }
   ],
   "source": [
    "df.shape"
   ]
  },
  {
   "cell_type": "code",
   "execution_count": 11,
   "metadata": {},
   "outputs": [
    {
     "data": {
      "text/html": [
       "<div>\n",
       "<style scoped>\n",
       "    .dataframe tbody tr th:only-of-type {\n",
       "        vertical-align: middle;\n",
       "    }\n",
       "\n",
       "    .dataframe tbody tr th {\n",
       "        vertical-align: top;\n",
       "    }\n",
       "\n",
       "    .dataframe thead th {\n",
       "        text-align: right;\n",
       "    }\n",
       "</style>\n",
       "<table border=\"1\" class=\"dataframe\">\n",
       "  <thead>\n",
       "    <tr style=\"text-align: right;\">\n",
       "      <th></th>\n",
       "      <th>date</th>\n",
       "      <th>open</th>\n",
       "      <th>high</th>\n",
       "      <th>low</th>\n",
       "      <th>close</th>\n",
       "      <th>volume</th>\n",
       "      <th>symbol</th>\n",
       "    </tr>\n",
       "  </thead>\n",
       "  <tbody>\n",
       "    <tr>\n",
       "      <th>0</th>\n",
       "      <td>2019-10-07</td>\n",
       "      <td>16.38</td>\n",
       "      <td>16.46</td>\n",
       "      <td>16.28</td>\n",
       "      <td>16.3049</td>\n",
       "      <td>6997796.0</td>\n",
       "      <td>SLV</td>\n",
       "    </tr>\n",
       "    <tr>\n",
       "      <th>1</th>\n",
       "      <td>2019-10-04</td>\n",
       "      <td>16.30</td>\n",
       "      <td>16.46</td>\n",
       "      <td>16.25</td>\n",
       "      <td>16.4100</td>\n",
       "      <td>17178596.0</td>\n",
       "      <td>SLV</td>\n",
       "    </tr>\n",
       "    <tr>\n",
       "      <th>2</th>\n",
       "      <td>2019-10-03</td>\n",
       "      <td>16.38</td>\n",
       "      <td>16.65</td>\n",
       "      <td>16.37</td>\n",
       "      <td>16.4300</td>\n",
       "      <td>24412700.0</td>\n",
       "      <td>SLV</td>\n",
       "    </tr>\n",
       "    <tr>\n",
       "      <th>3</th>\n",
       "      <td>2019-10-02</td>\n",
       "      <td>16.33</td>\n",
       "      <td>16.54</td>\n",
       "      <td>16.27</td>\n",
       "      <td>16.4300</td>\n",
       "      <td>21300800.0</td>\n",
       "      <td>SLV</td>\n",
       "    </tr>\n",
       "    <tr>\n",
       "      <th>4</th>\n",
       "      <td>2019-10-01</td>\n",
       "      <td>15.96</td>\n",
       "      <td>16.21</td>\n",
       "      <td>15.91</td>\n",
       "      <td>16.1500</td>\n",
       "      <td>23278100.0</td>\n",
       "      <td>SLV</td>\n",
       "    </tr>\n",
       "  </tbody>\n",
       "</table>\n",
       "</div>"
      ],
      "text/plain": [
       "        date   open   high    low    close      volume symbol\n",
       "0 2019-10-07  16.38  16.46  16.28  16.3049   6997796.0    SLV\n",
       "1 2019-10-04  16.30  16.46  16.25  16.4100  17178596.0    SLV\n",
       "2 2019-10-03  16.38  16.65  16.37  16.4300  24412700.0    SLV\n",
       "3 2019-10-02  16.33  16.54  16.27  16.4300  21300800.0    SLV\n",
       "4 2019-10-01  15.96  16.21  15.91  16.1500  23278100.0    SLV"
      ]
     },
     "execution_count": 11,
     "metadata": {},
     "output_type": "execute_result"
    }
   ],
   "source": [
    "df_etfs = full_clean()\n",
    "df_etfs.head()"
   ]
  },
  {
   "cell_type": "code",
   "execution_count": 12,
   "metadata": {},
   "outputs": [],
   "source": [
    "df_etfs.to_csv('data/clean_data.csv')"
   ]
  }
 ],
 "metadata": {
  "kernelspec": {
   "display_name": "Python 3",
   "language": "python",
   "name": "python3"
  },
  "language_info": {
   "codemirror_mode": {
    "name": "ipython",
    "version": 3
   },
   "file_extension": ".py",
   "mimetype": "text/x-python",
   "name": "python",
   "nbconvert_exporter": "python",
   "pygments_lexer": "ipython3",
   "version": "3.7.3"
  }
 },
 "nbformat": 4,
 "nbformat_minor": 2
}
