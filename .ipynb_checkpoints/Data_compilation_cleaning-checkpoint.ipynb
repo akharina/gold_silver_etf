{
 "cells": [
  {
   "cell_type": "code",
   "execution_count": 1,
   "metadata": {},
   "outputs": [],
   "source": [
    "#importing requests to get API data\n",
    "import requests\n",
    "import json\n",
    "\n",
    "#importing pandas\n",
    "import pandas as pd\n",
    "from data_compilation import *"
   ]
  },
  {
   "cell_type": "code",
   "execution_count": 2,
   "metadata": {},
   "outputs": [],
   "source": [
    "#script to get API key\n",
    "\n",
    "api_key = get_keys(\"/Users/akharina/.secret/alpha_vantage_API.json\")['api_key']"
   ]
  },
  {
   "cell_type": "code",
   "execution_count": 4,
   "metadata": {},
   "outputs": [
    {
     "ename": "NameError",
     "evalue": "name 'api_key' is not defined",
     "output_type": "error",
     "traceback": [
      "\u001b[0;31m------------------------------------------------------------------------\u001b[0m",
      "\u001b[0;31mNameError\u001b[0m                              Traceback (most recent call last)",
      "\u001b[0;32m<ipython-input-4-00650951d8f0>\u001b[0m in \u001b[0;36m<module>\u001b[0;34m\u001b[0m\n\u001b[1;32m     14\u001b[0m \u001b[0;31m#     return df\u001b[0m\u001b[0;34m\u001b[0m\u001b[0;34m\u001b[0m\u001b[0;34m\u001b[0m\u001b[0m\n\u001b[1;32m     15\u001b[0m \u001b[0;34m\u001b[0m\u001b[0m\n\u001b[0;32m---> 16\u001b[0;31m \u001b[0mdf_slv\u001b[0m\u001b[0;34m=\u001b[0m\u001b[0mvantage_point\u001b[0m\u001b[0;34m(\u001b[0m\u001b[0;34m'SLV'\u001b[0m\u001b[0;34m)\u001b[0m\u001b[0;34m\u001b[0m\u001b[0;34m\u001b[0m\u001b[0m\n\u001b[0m",
      "\u001b[0;32m~/Documents/BootCamp/Curriculum/mod-3-Probability/precious-metals-etfs/data_compilation.py\u001b[0m in \u001b[0;36mvantage_point\u001b[0;34m(symbol)\u001b[0m\n\u001b[1;32m     19\u001b[0m               \u001b[0;34m\"symbol\"\u001b[0m\u001b[0;34m:\u001b[0m \u001b[0;34mf'{symbol}'\u001b[0m\u001b[0;34m,\u001b[0m\u001b[0;34m\u001b[0m\u001b[0;34m\u001b[0m\u001b[0m\n\u001b[1;32m     20\u001b[0m               \u001b[0;34m\"outputsize\"\u001b[0m\u001b[0;34m:\u001b[0m \u001b[0;34m'full'\u001b[0m\u001b[0;34m,\u001b[0m\u001b[0;34m\u001b[0m\u001b[0;34m\u001b[0m\u001b[0m\n\u001b[0;32m---> 21\u001b[0;31m               \"apikey\": api_key}\n\u001b[0m\u001b[1;32m     22\u001b[0m \u001b[0;34m\u001b[0m\u001b[0m\n\u001b[1;32m     23\u001b[0m     \u001b[0mresponse\u001b[0m \u001b[0;34m=\u001b[0m \u001b[0mrequests\u001b[0m\u001b[0;34m.\u001b[0m\u001b[0mget\u001b[0m\u001b[0;34m(\u001b[0m\u001b[0mURL\u001b[0m\u001b[0;34m,\u001b[0m \u001b[0mPARAMS\u001b[0m\u001b[0;34m)\u001b[0m\u001b[0;34m\u001b[0m\u001b[0;34m\u001b[0m\u001b[0m\n",
      "\u001b[0;31mNameError\u001b[0m: name 'api_key' is not defined"
     ]
    }
   ],
   "source": [
    "#script to compile data into dataframe per symbol\n",
    "# def vantage_point(symbol):\n",
    "#     URL = 'https://www.alphavantage.co/query?'\n",
    "#     PARAMS = {\"function\":'TIME_SERIES_DAILY',\n",
    "#               \"symbol\":f'{symbol}',\n",
    "#               \"outputsize\":'full',\n",
    "#               \"apikey\":api_key}\n",
    "    \n",
    "#     response = requests.get(URL,PARAMS)\n",
    "#     print(f\"{symbol} response code: {response.status_code}\")\n",
    "#     df = pd.DataFrame(response.json()['Time Series (Daily)']).T\n",
    "#     df.columns = [f'{symbol}_open',f'{symbol}_high',f'{symbol}_low',f'{symbol}_close',f'{symbol}_volume']\n",
    "#     df.to_csv(f\"data/raw/{symbol}.csv\")\n",
    "#     return df\n",
    "\n",
    "df_slv=vantage_point('SLV')"
   ]
  },
  {
   "cell_type": "code",
   "execution_count": null,
   "metadata": {},
   "outputs": [],
   "source": [
    "df_slv.head()"
   ]
  },
  {
   "cell_type": "code",
   "execution_count": null,
   "metadata": {
    "scrolled": true
   },
   "outputs": [],
   "source": [
    "#Compile data for all symbols\n",
    "df_slv = vantage_point('SLV')\n",
    "df_sil = vantage_point('SIL')\n",
    "df_gld = vantage_point('GLD')\n",
    "df_gdx = vantage_point('GDX')\n",
    "df_dji = vantage_point('DJI')"
   ]
  },
  {
   "cell_type": "code",
   "execution_count": null,
   "metadata": {
    "scrolled": true
   },
   "outputs": [],
   "source": [
    "df_slv.shape,df_sil.shape,df_gld.shape,df_gdx.shape,df_dji.shape"
   ]
  },
  {
   "cell_type": "code",
   "execution_count": null,
   "metadata": {},
   "outputs": [],
   "source": [
    "#merge all datasets starting from largest\n",
    "\n",
    "df_dji_gld = df_dji.join(df_gld,how='left')\n",
    "df_bullion = df_dji_gld.join(df_slv,how='left')\n",
    "df_all = df_bullion.join(df_gdx,how='left').join(df_sil,how='left')\n",
    "\n",
    "#save completed dirty data into csv:\n",
    "df_all.to_csv(\"data/raw/dirty_data.csv\")"
   ]
  },
  {
   "cell_type": "code",
   "execution_count": null,
   "metadata": {
    "scrolled": true
   },
   "outputs": [],
   "source": [
    "df_all.isna().sum()"
   ]
  },
  {
   "cell_type": "code",
   "execution_count": null,
   "metadata": {},
   "outputs": [],
   "source": [
    "df_all.shape"
   ]
  },
  {
   "cell_type": "code",
   "execution_count": null,
   "metadata": {},
   "outputs": [],
   "source": [
    "import seaborn as sns\n",
    "import matplotlib.pyplot as plt\n",
    "%matplotlib inline"
   ]
  },
  {
   "cell_type": "code",
   "execution_count": null,
   "metadata": {},
   "outputs": [],
   "source": [
    "plt.plot(df_all.DJI_open);"
   ]
  },
  {
   "cell_type": "code",
   "execution_count": null,
   "metadata": {},
   "outputs": [],
   "source": [
    "\n",
    "import json\n",
    "import requests\n",
    "import pandas as pd\n",
    "''' This script compiles data from Alpha Vantage API\n",
    "   and transforms the JSON output into a dataframe and CSV file'''\n",
    "def get_keys(path):\n",
    "   '''get API key'''\n",
    "    with open(path) as f:\n",
    "    return json.load(f)\n",
    "\n",
    "def call_api_one_symbol(symbol, api_key, verbose=True):\n",
    "   '''call API and compile data for each symbol'''\n",
    "       URL = 'https://www.alphavantage.co/query?'\n",
    "       PARAMS = {'function': 'TIME_SERIES_DAILY',\n",
    "             'symbol': symbol,\n",
    "             'outputsize': 'full',\n",
    "             'apikey': api_key\n",
    "             }\n",
    "    response = requests.get(URL, PARAMS)\n",
    "    if response.status_code == 200:\n",
    "        if verbose:\n",
    "            print(f'The response code for {symbol} is {response.status_code}')\n",
    "    else:\n",
    "       raise ValueError(f'Error getting data from {url} API. Response code: {response.status_code}')\n",
    "    df = pd.DataFrame(response.json()['Time Series (Daily)'])\n",
    "    df['symbol'] = symbol\n",
    "    return df\n",
    "\n",
    "def call_all_symbols(symbol_list):\n",
    "'''Calls the API for each symbol in symbol_list and returns\n",
    "pandas dataframe in long format, concatenating all dfs'''\n",
    "   for i, symbol in enumerate(symbol_list):\n",
    "        if i == 0:\n",
    "            df = call_api_one_symbol(symbol)\n",
    "        else:\n",
    "            df = pd.concat(df, call_api_one_symbol(symbol))\n",
    "        return df"
   ]
  }
 ],
 "metadata": {
  "kernelspec": {
   "display_name": "Python 3",
   "language": "python",
   "name": "python3"
  },
  "language_info": {
   "codemirror_mode": {
    "name": "ipython",
    "version": 3
   },
   "file_extension": ".py",
   "mimetype": "text/x-python",
   "name": "python",
   "nbconvert_exporter": "python",
   "pygments_lexer": "ipython3",
   "version": "3.7.3"
  }
 },
 "nbformat": 4,
 "nbformat_minor": 2
}
