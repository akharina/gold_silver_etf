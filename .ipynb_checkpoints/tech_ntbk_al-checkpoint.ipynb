{
 "cells": [
  {
   "cell_type": "code",
   "execution_count": 1,
   "metadata": {},
   "outputs": [
    {
     "name": "stdout",
     "output_type": "stream",
     "text": [
      "Requirement already satisfied: pandas-profiling in /Users/alyssaliguori/anaconda3/lib/python3.7/site-packages (2.3.0)\n",
      "Requirement already satisfied: jinja2>=2.8 in /Users/alyssaliguori/anaconda3/lib/python3.7/site-packages (from pandas-profiling) (2.10.1)\n",
      "Requirement already satisfied: pandas>=0.19 in /Users/alyssaliguori/anaconda3/lib/python3.7/site-packages (from pandas-profiling) (0.24.2)\n",
      "Requirement already satisfied: missingno>=0.4.2 in /Users/alyssaliguori/anaconda3/lib/python3.7/site-packages (from pandas-profiling) (0.4.2)\n",
      "Requirement already satisfied: phik>=0.9.8 in /Users/alyssaliguori/anaconda3/lib/python3.7/site-packages (from pandas-profiling) (0.9.8)\n",
      "Requirement already satisfied: confuse>=1.0.0 in /Users/alyssaliguori/anaconda3/lib/python3.7/site-packages (from pandas-profiling) (1.0.0)\n",
      "Requirement already satisfied: astropy in /Users/alyssaliguori/anaconda3/lib/python3.7/site-packages (from pandas-profiling) (3.2.1)\n",
      "Requirement already satisfied: matplotlib>=1.4 in /Users/alyssaliguori/anaconda3/lib/python3.7/site-packages (from pandas-profiling) (3.1.0)\n",
      "Requirement already satisfied: htmlmin>=0.1.12 in /Users/alyssaliguori/anaconda3/lib/python3.7/site-packages (from pandas-profiling) (0.1.12)\n",
      "Requirement already satisfied: MarkupSafe>=0.23 in /Users/alyssaliguori/anaconda3/lib/python3.7/site-packages (from jinja2>=2.8->pandas-profiling) (1.1.1)\n",
      "Requirement already satisfied: pytz>=2011k in /Users/alyssaliguori/anaconda3/lib/python3.7/site-packages (from pandas>=0.19->pandas-profiling) (2019.1)\n",
      "Requirement already satisfied: numpy>=1.12.0 in /Users/alyssaliguori/anaconda3/lib/python3.7/site-packages (from pandas>=0.19->pandas-profiling) (1.16.4)\n",
      "Requirement already satisfied: python-dateutil>=2.5.0 in /Users/alyssaliguori/anaconda3/lib/python3.7/site-packages (from pandas>=0.19->pandas-profiling) (2.8.0)\n",
      "Requirement already satisfied: scipy in /Users/alyssaliguori/anaconda3/lib/python3.7/site-packages (from missingno>=0.4.2->pandas-profiling) (1.3.0)\n",
      "Requirement already satisfied: seaborn in /Users/alyssaliguori/anaconda3/lib/python3.7/site-packages (from missingno>=0.4.2->pandas-profiling) (0.9.0)\n",
      "Requirement already satisfied: pytest>=4.0.2 in /Users/alyssaliguori/anaconda3/lib/python3.7/site-packages (from phik>=0.9.8->pandas-profiling) (5.1.2)\n",
      "Requirement already satisfied: nbconvert>=5.3.1 in /Users/alyssaliguori/anaconda3/lib/python3.7/site-packages (from phik>=0.9.8->pandas-profiling) (5.5.0)\n",
      "Requirement already satisfied: pytest-pylint>=0.13.0 in /Users/alyssaliguori/anaconda3/lib/python3.7/site-packages (from phik>=0.9.8->pandas-profiling) (0.14.1)\n",
      "Requirement already satisfied: jupyter-client>=5.2.3 in /Users/alyssaliguori/anaconda3/lib/python3.7/site-packages (from phik>=0.9.8->pandas-profiling) (5.3.1)\n",
      "Requirement already satisfied: numba>=0.38.1 in /Users/alyssaliguori/anaconda3/lib/python3.7/site-packages (from phik>=0.9.8->pandas-profiling) (0.44.1)\n",
      "Requirement already satisfied: pyyaml in /Users/alyssaliguori/anaconda3/lib/python3.7/site-packages (from confuse>=1.0.0->pandas-profiling) (5.1.1)\n",
      "Requirement already satisfied: cycler>=0.10 in /Users/alyssaliguori/anaconda3/lib/python3.7/site-packages (from matplotlib>=1.4->pandas-profiling) (0.10.0)\n",
      "Requirement already satisfied: kiwisolver>=1.0.1 in /Users/alyssaliguori/anaconda3/lib/python3.7/site-packages (from matplotlib>=1.4->pandas-profiling) (1.1.0)\n",
      "Requirement already satisfied: pyparsing!=2.0.4,!=2.1.2,!=2.1.6,>=2.0.1 in /Users/alyssaliguori/anaconda3/lib/python3.7/site-packages (from matplotlib>=1.4->pandas-profiling) (2.4.0)\n",
      "Requirement already satisfied: six>=1.5 in /Users/alyssaliguori/anaconda3/lib/python3.7/site-packages (from python-dateutil>=2.5.0->pandas>=0.19->pandas-profiling) (1.12.0)\n",
      "Requirement already satisfied: py>=1.5.0 in /Users/alyssaliguori/anaconda3/lib/python3.7/site-packages (from pytest>=4.0.2->phik>=0.9.8->pandas-profiling) (1.8.0)\n",
      "Requirement already satisfied: packaging in /Users/alyssaliguori/anaconda3/lib/python3.7/site-packages (from pytest>=4.0.2->phik>=0.9.8->pandas-profiling) (19.0)\n",
      "Requirement already satisfied: attrs>=17.4.0 in /Users/alyssaliguori/anaconda3/lib/python3.7/site-packages (from pytest>=4.0.2->phik>=0.9.8->pandas-profiling) (19.1.0)\n",
      "Requirement already satisfied: more-itertools>=4.0.0 in /Users/alyssaliguori/anaconda3/lib/python3.7/site-packages (from pytest>=4.0.2->phik>=0.9.8->pandas-profiling) (7.0.0)\n",
      "Requirement already satisfied: atomicwrites>=1.0 in /Users/alyssaliguori/anaconda3/lib/python3.7/site-packages (from pytest>=4.0.2->phik>=0.9.8->pandas-profiling) (1.3.0)\n",
      "Requirement already satisfied: pluggy<1.0,>=0.12 in /Users/alyssaliguori/anaconda3/lib/python3.7/site-packages (from pytest>=4.0.2->phik>=0.9.8->pandas-profiling) (0.12.0)\n",
      "Requirement already satisfied: wcwidth in /Users/alyssaliguori/anaconda3/lib/python3.7/site-packages (from pytest>=4.0.2->phik>=0.9.8->pandas-profiling) (0.1.7)\n",
      "Requirement already satisfied: importlib-metadata>=0.12 in /Users/alyssaliguori/anaconda3/lib/python3.7/site-packages (from pytest>=4.0.2->phik>=0.9.8->pandas-profiling) (0.17)\n",
      "Requirement already satisfied: testpath in /Users/alyssaliguori/anaconda3/lib/python3.7/site-packages (from nbconvert>=5.3.1->phik>=0.9.8->pandas-profiling) (0.4.2)\n",
      "Requirement already satisfied: pygments in /Users/alyssaliguori/anaconda3/lib/python3.7/site-packages (from nbconvert>=5.3.1->phik>=0.9.8->pandas-profiling) (2.4.2)\n",
      "Requirement already satisfied: pandocfilters>=1.4.1 in /Users/alyssaliguori/anaconda3/lib/python3.7/site-packages (from nbconvert>=5.3.1->phik>=0.9.8->pandas-profiling) (1.4.2)\n",
      "Requirement already satisfied: mistune>=0.8.1 in /Users/alyssaliguori/anaconda3/lib/python3.7/site-packages (from nbconvert>=5.3.1->phik>=0.9.8->pandas-profiling) (0.8.4)\n",
      "Requirement already satisfied: defusedxml in /Users/alyssaliguori/anaconda3/lib/python3.7/site-packages (from nbconvert>=5.3.1->phik>=0.9.8->pandas-profiling) (0.6.0)\n",
      "Requirement already satisfied: traitlets>=4.2 in /Users/alyssaliguori/anaconda3/lib/python3.7/site-packages (from nbconvert>=5.3.1->phik>=0.9.8->pandas-profiling) (4.3.2)\n",
      "Requirement already satisfied: entrypoints>=0.2.2 in /Users/alyssaliguori/anaconda3/lib/python3.7/site-packages (from nbconvert>=5.3.1->phik>=0.9.8->pandas-profiling) (0.3)\n",
      "Requirement already satisfied: nbformat>=4.4 in /Users/alyssaliguori/anaconda3/lib/python3.7/site-packages (from nbconvert>=5.3.1->phik>=0.9.8->pandas-profiling) (4.4.0)\n",
      "Requirement already satisfied: jupyter-core in /Users/alyssaliguori/anaconda3/lib/python3.7/site-packages (from nbconvert>=5.3.1->phik>=0.9.8->pandas-profiling) (4.5.0)\n",
      "Requirement already satisfied: bleach in /Users/alyssaliguori/anaconda3/lib/python3.7/site-packages (from nbconvert>=5.3.1->phik>=0.9.8->pandas-profiling) (3.1.0)\n",
      "Requirement already satisfied: pylint>=1.4.5 in /Users/alyssaliguori/anaconda3/lib/python3.7/site-packages (from pytest-pylint>=0.13.0->phik>=0.9.8->pandas-profiling) (2.3.1)\n",
      "Requirement already satisfied: pyzmq>=13 in /Users/alyssaliguori/anaconda3/lib/python3.7/site-packages (from jupyter-client>=5.2.3->phik>=0.9.8->pandas-profiling) (18.0.0)\n",
      "Requirement already satisfied: tornado>=4.1 in /Users/alyssaliguori/anaconda3/lib/python3.7/site-packages (from jupyter-client>=5.2.3->phik>=0.9.8->pandas-profiling) (6.0.3)\n",
      "Requirement already satisfied: llvmlite>=0.29.0 in /Users/alyssaliguori/anaconda3/lib/python3.7/site-packages (from numba>=0.38.1->phik>=0.9.8->pandas-profiling) (0.29.0)\n",
      "Requirement already satisfied: setuptools in /Users/alyssaliguori/anaconda3/lib/python3.7/site-packages (from kiwisolver>=1.0.1->matplotlib>=1.4->pandas-profiling) (41.0.1)\n",
      "Requirement already satisfied: zipp>=0.5 in /Users/alyssaliguori/anaconda3/lib/python3.7/site-packages (from importlib-metadata>=0.12->pytest>=4.0.2->phik>=0.9.8->pandas-profiling) (0.5.1)\n",
      "Requirement already satisfied: ipython-genutils in /Users/alyssaliguori/anaconda3/lib/python3.7/site-packages (from traitlets>=4.2->nbconvert>=5.3.1->phik>=0.9.8->pandas-profiling) (0.2.0)\n",
      "Requirement already satisfied: decorator in /Users/alyssaliguori/anaconda3/lib/python3.7/site-packages (from traitlets>=4.2->nbconvert>=5.3.1->phik>=0.9.8->pandas-profiling) (4.4.0)\n",
      "Requirement already satisfied: jsonschema!=2.5.0,>=2.4 in /Users/alyssaliguori/anaconda3/lib/python3.7/site-packages (from nbformat>=4.4->nbconvert>=5.3.1->phik>=0.9.8->pandas-profiling) (3.0.1)\n"
     ]
    },
    {
     "name": "stdout",
     "output_type": "stream",
     "text": [
      "Requirement already satisfied: webencodings in /Users/alyssaliguori/anaconda3/lib/python3.7/site-packages (from bleach->nbconvert>=5.3.1->phik>=0.9.8->pandas-profiling) (0.5.1)\r\n",
      "Requirement already satisfied: astroid<3,>=2.2.0 in /Users/alyssaliguori/anaconda3/lib/python3.7/site-packages (from pylint>=1.4.5->pytest-pylint>=0.13.0->phik>=0.9.8->pandas-profiling) (2.2.5)\r\n",
      "Requirement already satisfied: isort<5,>=4.2.5 in /Users/alyssaliguori/anaconda3/lib/python3.7/site-packages (from pylint>=1.4.5->pytest-pylint>=0.13.0->phik>=0.9.8->pandas-profiling) (4.3.21)\r\n",
      "Requirement already satisfied: mccabe<0.7,>=0.6 in /Users/alyssaliguori/anaconda3/lib/python3.7/site-packages (from pylint>=1.4.5->pytest-pylint>=0.13.0->phik>=0.9.8->pandas-profiling) (0.6.1)\r\n",
      "Requirement already satisfied: pyrsistent>=0.14.0 in /Users/alyssaliguori/anaconda3/lib/python3.7/site-packages (from jsonschema!=2.5.0,>=2.4->nbformat>=4.4->nbconvert>=5.3.1->phik>=0.9.8->pandas-profiling) (0.14.11)\r\n",
      "Requirement already satisfied: wrapt in /Users/alyssaliguori/anaconda3/lib/python3.7/site-packages (from astroid<3,>=2.2.0->pylint>=1.4.5->pytest-pylint>=0.13.0->phik>=0.9.8->pandas-profiling) (1.11.2)\r\n",
      "Requirement already satisfied: typed-ast>=1.3.0; implementation_name == \"cpython\" in /Users/alyssaliguori/anaconda3/lib/python3.7/site-packages (from astroid<3,>=2.2.0->pylint>=1.4.5->pytest-pylint>=0.13.0->phik>=0.9.8->pandas-profiling) (1.4.0)\r\n",
      "Requirement already satisfied: lazy-object-proxy in /Users/alyssaliguori/anaconda3/lib/python3.7/site-packages (from astroid<3,>=2.2.0->pylint>=1.4.5->pytest-pylint>=0.13.0->phik>=0.9.8->pandas-profiling) (1.4.1)\r\n"
     ]
    }
   ],
   "source": [
    "# import requests library to make API calls \n",
    "import requests\n",
    "\n",
    "# import pandas \n",
    "import pandas as pd\n",
    "import json\n",
    "!pip install pandas-profiling\n",
    "import pandas_profiling as pp;"
   ]
  },
  {
   "cell_type": "code",
   "execution_count": 2,
   "metadata": {},
   "outputs": [],
   "source": [
    "def get_keys(path):\n",
    "    with open(path) as f:\n",
    "        return json.load(f)\n",
    "\n",
    "keys = get_keys(\"/Users/alyssaliguori/secret/alpha_vantage_api.json\")\n",
    "api_key = keys['api_key']"
   ]
  },
  {
   "cell_type": "code",
   "execution_count": 3,
   "metadata": {},
   "outputs": [],
   "source": [
    "# define a function to call Alpha Vantage API\n",
    "def call_alphavantage(etf): \n",
    "    URL = 'https://www.alphavantage.co/query?'\n",
    "    PARAMS = {'function': 'TIME_SERIES_DAILY', \n",
    "              'symbol': etf, \n",
    "              'apikey': api_key,\n",
    "              'outputsize': 'full'\n",
    "             }\n",
    "    response = requests.get(URL, params=PARAMS)\n",
    "    print('status code:', response.status_code)\n",
    "    df = pd.DataFrame(response.json()['Time Series (Daily)'])\n",
    "    return df"
   ]
  },
  {
   "cell_type": "code",
   "execution_count": 4,
   "metadata": {},
   "outputs": [],
   "source": [
    "# define a function that renames columns after calling the API and formatting as a df \n",
    "def call_api_and_rename(etf):\n",
    "    df = call_alphavantage(etf)        \n",
    "    df = df.T\n",
    "    df.columns = ['open_{}'.format(etf), \n",
    "                  'high_{}'.format(etf),\n",
    "                  'low_{}'.format(etf),\n",
    "                  'close_{}'.format(etf),\n",
    "                  'volume_{}'.format(etf)] \n",
    "    return df"
   ]
  },
  {
   "cell_type": "code",
   "execution_count": 5,
   "metadata": {},
   "outputs": [
    {
     "name": "stdout",
     "output_type": "stream",
     "text": [
      "status code: 200\n",
      "status code: 200\n",
      "status code: 200\n",
      "status code: 200\n",
      "status code: 200\n"
     ]
    }
   ],
   "source": [
    "# call function and set resulting df equal to variable \n",
    "df_gld = call_api_and_rename('GLD') # gold bullion\n",
    "df_gdx = call_api_and_rename('GDX') # gold mining\n",
    "df_slv = call_api_and_rename('SLV') # silver bullion\n",
    "df_sil = call_api_and_rename('SIL') # silver mining\n",
    "df_index = call_api_and_rename('DJI') # Dow Jones Industrial Average "
   ]
  },
  {
   "cell_type": "code",
   "execution_count": 6,
   "metadata": {},
   "outputs": [
    {
     "data": {
      "text/plain": [
       "((3745, 5), (3367, 5), (3383, 5), (2383, 5), (4971, 5))"
      ]
     },
     "execution_count": 6,
     "metadata": {},
     "output_type": "execute_result"
    }
   ],
   "source": [
    "df_gld.shape, df_gdx.shape, df_slv.shape, df_sil.shape, df_index.shape"
   ]
  },
  {
   "cell_type": "code",
   "execution_count": null,
   "metadata": {},
   "outputs": [],
   "source": [
    "df_gdx.T.describe()\n",
    "pp.ProfileReport(df_gdx)"
   ]
  },
  {
   "cell_type": "code",
   "execution_count": 7,
   "metadata": {},
   "outputs": [
    {
     "data": {
      "text/plain": [
       "2383"
      ]
     },
     "execution_count": 7,
     "metadata": {},
     "output_type": "execute_result"
    }
   ],
   "source": [
    "# join all five pandas dataframes together \n",
    "df_index_gld = df_index.join(df_gld, how='left')\n",
    "df_index_gld_slv = df_index_gld.join(df_slv, how='left')\n",
    "df_index_gld_slv_gdx = df_index_gld_slv.join(df_gdx, how='left')\n",
    "df_etfs = df_index_gld_slv_gdx.join(df_sil, how='inner')\n",
    "len(df_etfs)"
   ]
  },
  {
   "cell_type": "code",
   "execution_count": 8,
   "metadata": {},
   "outputs": [
    {
     "data": {
      "text/html": [
       "<div>\n",
       "<style scoped>\n",
       "    .dataframe tbody tr th:only-of-type {\n",
       "        vertical-align: middle;\n",
       "    }\n",
       "\n",
       "    .dataframe tbody tr th {\n",
       "        vertical-align: top;\n",
       "    }\n",
       "\n",
       "    .dataframe thead th {\n",
       "        text-align: right;\n",
       "    }\n",
       "</style>\n",
       "<table border=\"1\" class=\"dataframe\">\n",
       "  <thead>\n",
       "    <tr style=\"text-align: right;\">\n",
       "      <th></th>\n",
       "      <th>open_GLD</th>\n",
       "      <th>high_GLD</th>\n",
       "      <th>low_GLD</th>\n",
       "      <th>close_GLD</th>\n",
       "      <th>volume_GLD</th>\n",
       "      <th>open_GDX</th>\n",
       "      <th>high_GDX</th>\n",
       "      <th>low_GDX</th>\n",
       "      <th>close_GDX</th>\n",
       "      <th>volume_GDX</th>\n",
       "      <th>...</th>\n",
       "      <th>open_SIL</th>\n",
       "      <th>high_SIL</th>\n",
       "      <th>low_SIL</th>\n",
       "      <th>close_SIL</th>\n",
       "      <th>volume_SIL</th>\n",
       "      <th>open_DJI</th>\n",
       "      <th>high_DJI</th>\n",
       "      <th>low_DJI</th>\n",
       "      <th>close_DJI</th>\n",
       "      <th>volume_DJI</th>\n",
       "    </tr>\n",
       "  </thead>\n",
       "  <tbody>\n",
       "    <tr>\n",
       "      <th>2019-10-04</th>\n",
       "      <td>141.4800</td>\n",
       "      <td>142.3100</td>\n",
       "      <td>141.1400</td>\n",
       "      <td>141.9000</td>\n",
       "      <td>9652594</td>\n",
       "      <td>27.1500</td>\n",
       "      <td>27.9100</td>\n",
       "      <td>27.1400</td>\n",
       "      <td>27.8700</td>\n",
       "      <td>48876566</td>\n",
       "      <td>...</td>\n",
       "      <td>28.2900</td>\n",
       "      <td>28.9123</td>\n",
       "      <td>28.1154</td>\n",
       "      <td>28.8700</td>\n",
       "      <td>157979</td>\n",
       "      <td>26271.6992</td>\n",
       "      <td>26590.7402</td>\n",
       "      <td>26271.6992</td>\n",
       "      <td>26573.7207</td>\n",
       "      <td>224487374</td>\n",
       "    </tr>\n",
       "    <tr>\n",
       "      <th>2019-10-03</th>\n",
       "      <td>141.3600</td>\n",
       "      <td>143.2500</td>\n",
       "      <td>141.2900</td>\n",
       "      <td>141.9000</td>\n",
       "      <td>12396100</td>\n",
       "      <td>27.4100</td>\n",
       "      <td>28.0500</td>\n",
       "      <td>27.2400</td>\n",
       "      <td>27.2500</td>\n",
       "      <td>63344000</td>\n",
       "      <td>...</td>\n",
       "      <td>28.3900</td>\n",
       "      <td>29.0000</td>\n",
       "      <td>28.3000</td>\n",
       "      <td>28.3100</td>\n",
       "      <td>177600</td>\n",
       "      <td>26039.0195</td>\n",
       "      <td>26205.1992</td>\n",
       "      <td>25743.4609</td>\n",
       "      <td>26201.0391</td>\n",
       "      <td>241610000</td>\n",
       "    </tr>\n",
       "    <tr>\n",
       "      <th>2019-10-02</th>\n",
       "      <td>140.7900</td>\n",
       "      <td>141.8800</td>\n",
       "      <td>140.4600</td>\n",
       "      <td>141.2600</td>\n",
       "      <td>11914300</td>\n",
       "      <td>27.4700</td>\n",
       "      <td>27.5000</td>\n",
       "      <td>27.0200</td>\n",
       "      <td>27.4100</td>\n",
       "      <td>65837200</td>\n",
       "      <td>...</td>\n",
       "      <td>28.5800</td>\n",
       "      <td>28.6000</td>\n",
       "      <td>28.1400</td>\n",
       "      <td>28.4100</td>\n",
       "      <td>160000</td>\n",
       "      <td>26425.8594</td>\n",
       "      <td>26438.0391</td>\n",
       "      <td>25974.1191</td>\n",
       "      <td>26078.6191</td>\n",
       "      <td>309640000</td>\n",
       "    </tr>\n",
       "    <tr>\n",
       "      <th>2019-10-01</th>\n",
       "      <td>138.0700</td>\n",
       "      <td>140.1900</td>\n",
       "      <td>137.8000</td>\n",
       "      <td>139.6300</td>\n",
       "      <td>12476200</td>\n",
       "      <td>26.6200</td>\n",
       "      <td>27.4700</td>\n",
       "      <td>26.5100</td>\n",
       "      <td>26.9200</td>\n",
       "      <td>68625600</td>\n",
       "      <td>...</td>\n",
       "      <td>27.9500</td>\n",
       "      <td>28.6400</td>\n",
       "      <td>27.8500</td>\n",
       "      <td>28.2200</td>\n",
       "      <td>160400</td>\n",
       "      <td>26962.5391</td>\n",
       "      <td>27046.2109</td>\n",
       "      <td>26562.2207</td>\n",
       "      <td>26573.0391</td>\n",
       "      <td>260110000</td>\n",
       "    </tr>\n",
       "    <tr>\n",
       "      <th>2019-09-30</th>\n",
       "      <td>139.7700</td>\n",
       "      <td>140.2100</td>\n",
       "      <td>138.0300</td>\n",
       "      <td>138.8700</td>\n",
       "      <td>15459100</td>\n",
       "      <td>26.9900</td>\n",
       "      <td>27.3500</td>\n",
       "      <td>26.5400</td>\n",
       "      <td>26.7100</td>\n",
       "      <td>73206900</td>\n",
       "      <td>...</td>\n",
       "      <td>28.5600</td>\n",
       "      <td>28.9000</td>\n",
       "      <td>27.9200</td>\n",
       "      <td>28.1100</td>\n",
       "      <td>357600</td>\n",
       "      <td>26852.3301</td>\n",
       "      <td>26998.8594</td>\n",
       "      <td>26852.3301</td>\n",
       "      <td>26916.8301</td>\n",
       "      <td>222680000</td>\n",
       "    </tr>\n",
       "  </tbody>\n",
       "</table>\n",
       "<p>5 rows × 25 columns</p>\n",
       "</div>"
      ],
      "text/plain": [
       "            open_GLD  high_GLD   low_GLD close_GLD volume_GLD open_GDX  \\\n",
       "2019-10-04  141.4800  142.3100  141.1400  141.9000    9652594  27.1500   \n",
       "2019-10-03  141.3600  143.2500  141.2900  141.9000   12396100  27.4100   \n",
       "2019-10-02  140.7900  141.8800  140.4600  141.2600   11914300  27.4700   \n",
       "2019-10-01  138.0700  140.1900  137.8000  139.6300   12476200  26.6200   \n",
       "2019-09-30  139.7700  140.2100  138.0300  138.8700   15459100  26.9900   \n",
       "\n",
       "           high_GDX  low_GDX close_GDX volume_GDX  ... open_SIL high_SIL  \\\n",
       "2019-10-04  27.9100  27.1400   27.8700   48876566  ...  28.2900  28.9123   \n",
       "2019-10-03  28.0500  27.2400   27.2500   63344000  ...  28.3900  29.0000   \n",
       "2019-10-02  27.5000  27.0200   27.4100   65837200  ...  28.5800  28.6000   \n",
       "2019-10-01  27.4700  26.5100   26.9200   68625600  ...  27.9500  28.6400   \n",
       "2019-09-30  27.3500  26.5400   26.7100   73206900  ...  28.5600  28.9000   \n",
       "\n",
       "            low_SIL close_SIL volume_SIL    open_DJI    high_DJI     low_DJI  \\\n",
       "2019-10-04  28.1154   28.8700     157979  26271.6992  26590.7402  26271.6992   \n",
       "2019-10-03  28.3000   28.3100     177600  26039.0195  26205.1992  25743.4609   \n",
       "2019-10-02  28.1400   28.4100     160000  26425.8594  26438.0391  25974.1191   \n",
       "2019-10-01  27.8500   28.2200     160400  26962.5391  27046.2109  26562.2207   \n",
       "2019-09-30  27.9200   28.1100     357600  26852.3301  26998.8594  26852.3301   \n",
       "\n",
       "             close_DJI volume_DJI  \n",
       "2019-10-04  26573.7207  224487374  \n",
       "2019-10-03  26201.0391  241610000  \n",
       "2019-10-02  26078.6191  309640000  \n",
       "2019-10-01  26573.0391  260110000  \n",
       "2019-09-30  26916.8301  222680000  \n",
       "\n",
       "[5 rows x 25 columns]"
      ]
     },
     "execution_count": 8,
     "metadata": {},
     "output_type": "execute_result"
    }
   ],
   "source": [
    "# view records for combined df \n",
    "df_etfs.head()"
   ]
  },
  {
   "cell_type": "code",
   "execution_count": 24,
   "metadata": {},
   "outputs": [
    {
     "data": {
      "text/plain": [
       "open_GLD      float64\n",
       "high_GLD      float64\n",
       "low_GLD       float64\n",
       "close_GLD     float64\n",
       "volume_GLD      int64\n",
       "open_GDX      float64\n",
       "high_GDX      float64\n",
       "low_GDX       float64\n",
       "close_GDX     float64\n",
       "volume_GDX      int64\n",
       "open_SLV      float64\n",
       "high_SLV      float64\n",
       "low_SLV       float64\n",
       "close_SLV     float64\n",
       "volume_SLV      int64\n",
       "open_SIL      float64\n",
       "high_SIL      float64\n",
       "low_SIL       float64\n",
       "close_SIL     float64\n",
       "volume_SIL      int64\n",
       "open_DJI      float64\n",
       "high_DJI      float64\n",
       "low_DJI       float64\n",
       "close_DJI     float64\n",
       "volume_DJI      int64\n",
       "dtype: object"
      ]
     },
     "execution_count": 24,
     "metadata": {},
     "output_type": "execute_result"
    }
   ],
   "source": [
    "# convert index to datetime data type\n",
    "df_etfs = df_etfs.apply(pd.to_numeric)\n",
    "df_etfs.index = pd.to_datetime(df_etfs.index)\n",
    "type(df_etfs.index)\n",
    "df_etfs.dtypes"
   ]
  },
  {
   "cell_type": "code",
   "execution_count": null,
   "metadata": {},
   "outputs": [],
   "source": []
  }
 ],
 "metadata": {
  "kernelspec": {
   "display_name": "Python 3",
   "language": "python",
   "name": "python3"
  },
  "language_info": {
   "codemirror_mode": {
    "name": "ipython",
    "version": 3
   },
   "file_extension": ".py",
   "mimetype": "text/x-python",
   "name": "python",
   "nbconvert_exporter": "python",
   "pygments_lexer": "ipython3",
   "version": "3.7.3"
  }
 },
 "nbformat": 4,
 "nbformat_minor": 2
}
