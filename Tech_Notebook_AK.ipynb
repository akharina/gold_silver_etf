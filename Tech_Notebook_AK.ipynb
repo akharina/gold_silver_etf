{
 "cells": [
  {
   "cell_type": "code",
   "execution_count": 4,
   "metadata": {},
   "outputs": [],
   "source": [
    "%load_ext autoreload\n",
    "%autoreload 2 \n",
    "import pandas as pd\n",
    "import numpy as np\n",
    "import requests \n",
    "import matplotlib.pyplot as plt\n",
    "import json"
   ]
  },
  {
   "cell_type": "code",
   "execution_count": 5,
   "metadata": {},
   "outputs": [],
   "source": [
    "from data_compilation import call_all_symbols\n",
    "from data_cleaning import full_clean"
   ]
  },
  {
   "cell_type": "code",
   "execution_count": 6,
   "metadata": {},
   "outputs": [],
   "source": [
    "symbol_list = ['SLV', 'SIL', 'GLD', 'GDX', 'DJI']"
   ]
  },
  {
   "cell_type": "code",
   "execution_count": 7,
   "metadata": {},
   "outputs": [
    {
     "name": "stdout",
     "output_type": "stream",
     "text": [
      "The response code for SLV is 200\n",
      "The response code for SIL is 200\n",
      "The response code for GLD is 200\n",
      "The response code for GDX is 200\n",
      "The response code for DJI is 200\n"
     ]
    }
   ],
   "source": [
    "df = call_all_symbols(symbol_list)"
   ]
  },
  {
   "cell_type": "code",
   "execution_count": 8,
   "metadata": {},
   "outputs": [],
   "source": [
    "from data_cleaning import full_clean"
   ]
  },
  {
   "cell_type": "code",
   "execution_count": 9,
   "metadata": {},
   "outputs": [],
   "source": [
    "#Cleaning data\n",
    "df_clean = full_clean()"
   ]
  },
  {
   "cell_type": "code",
   "execution_count": 10,
   "metadata": {
    "scrolled": true
   },
   "outputs": [
    {
     "name": "stderr",
     "output_type": "stream",
     "text": [
      "//anaconda3/lib/python3.7/site-packages/pandas/plotting/_converter.py:129: FutureWarning: Using an implicitly registered datetime converter for a matplotlib plotting method. The converter was registered by pandas on import. Future versions of pandas will require you to explicitly register matplotlib converters.\n",
      "\n",
      "To register the converters:\n",
      "\t>>> from pandas.plotting import register_matplotlib_converters\n",
      "\t>>> register_matplotlib_converters()\n",
      "  warnings.warn(msg, FutureWarning)\n"
     ]
    },
    {
     "data": {
      "image/png": "[encoded data removed]",
      "text/plain": [
       "<Figure size 432x288 with 1 Axes>"
      ]
     },
     "metadata": {
      "needs_background": "light"
     },
     "output_type": "display_data"
    }
   ],
   "source": [
    "df_clean_SLV = df_clean.loc[df_clean['symbol'] == 'SLV']\n",
    "df_clean_GLD = df_clean.loc[df_clean['symbol'] == 'GLD']\n",
    "plt.plot(df_clean_SLV['date'], df_clean_SLV['close'])\n",
    "plt.plot(df_clean_GLD['date'], df_clean_GLD['close']);"
   ]
  },
  {
   "cell_type": "code",
   "execution_count": 11,
   "metadata": {
    "scrolled": true
   },
   "outputs": [
    {
     "data": {
      "text/html": [
       "<div>\n",
       "<style scoped>\n",
       "    .dataframe tbody tr th:only-of-type {\n",
       "        vertical-align: middle;\n",
       "    }\n",
       "\n",
       "    .dataframe tbody tr th {\n",
       "        vertical-align: top;\n",
       "    }\n",
       "\n",
       "    .dataframe thead th {\n",
       "        text-align: right;\n",
       "    }\n",
       "</style>\n",
       "<table border=\"1\" class=\"dataframe\">\n",
       "  <thead>\n",
       "    <tr style=\"text-align: right;\">\n",
       "      <th></th>\n",
       "      <th>date</th>\n",
       "      <th>open</th>\n",
       "      <th>high</th>\n",
       "      <th>low</th>\n",
       "      <th>close</th>\n",
       "      <th>volume</th>\n",
       "      <th>symbol</th>\n",
       "      <th>daily_movement</th>\n",
       "      <th>daily_Rn</th>\n",
       "    </tr>\n",
       "  </thead>\n",
       "  <tbody>\n",
       "    <tr>\n",
       "      <th>0</th>\n",
       "      <td>2019-10-08</td>\n",
       "      <td>16.60</td>\n",
       "      <td>16.66</td>\n",
       "      <td>16.49</td>\n",
       "      <td>16.61</td>\n",
       "      <td>19326217.0</td>\n",
       "      <td>SLV</td>\n",
       "      <td>-0.000602</td>\n",
       "      <td>0.00</td>\n",
       "    </tr>\n",
       "    <tr>\n",
       "      <th>1</th>\n",
       "      <td>2019-10-07</td>\n",
       "      <td>16.38</td>\n",
       "      <td>16.46</td>\n",
       "      <td>16.28</td>\n",
       "      <td>16.30</td>\n",
       "      <td>8359926.0</td>\n",
       "      <td>SLV</td>\n",
       "      <td>0.004884</td>\n",
       "      <td>-0.31</td>\n",
       "    </tr>\n",
       "    <tr>\n",
       "      <th>2</th>\n",
       "      <td>2019-10-04</td>\n",
       "      <td>16.30</td>\n",
       "      <td>16.46</td>\n",
       "      <td>16.25</td>\n",
       "      <td>16.41</td>\n",
       "      <td>17200800.0</td>\n",
       "      <td>SLV</td>\n",
       "      <td>-0.006748</td>\n",
       "      <td>0.11</td>\n",
       "    </tr>\n",
       "    <tr>\n",
       "      <th>3</th>\n",
       "      <td>2019-10-03</td>\n",
       "      <td>16.38</td>\n",
       "      <td>16.65</td>\n",
       "      <td>16.37</td>\n",
       "      <td>16.43</td>\n",
       "      <td>24412700.0</td>\n",
       "      <td>SLV</td>\n",
       "      <td>-0.003053</td>\n",
       "      <td>0.02</td>\n",
       "    </tr>\n",
       "    <tr>\n",
       "      <th>4</th>\n",
       "      <td>2019-10-02</td>\n",
       "      <td>16.33</td>\n",
       "      <td>16.54</td>\n",
       "      <td>16.27</td>\n",
       "      <td>16.43</td>\n",
       "      <td>21300800.0</td>\n",
       "      <td>SLV</td>\n",
       "      <td>-0.006124</td>\n",
       "      <td>0.00</td>\n",
       "    </tr>\n",
       "    <tr>\n",
       "      <th>5</th>\n",
       "      <td>2019-10-01</td>\n",
       "      <td>15.96</td>\n",
       "      <td>16.21</td>\n",
       "      <td>15.91</td>\n",
       "      <td>16.15</td>\n",
       "      <td>23278100.0</td>\n",
       "      <td>SLV</td>\n",
       "      <td>-0.011905</td>\n",
       "      <td>-0.28</td>\n",
       "    </tr>\n",
       "    <tr>\n",
       "      <th>6</th>\n",
       "      <td>2019-09-30</td>\n",
       "      <td>16.03</td>\n",
       "      <td>16.10</td>\n",
       "      <td>15.83</td>\n",
       "      <td>15.92</td>\n",
       "      <td>29218300.0</td>\n",
       "      <td>SLV</td>\n",
       "      <td>0.006862</td>\n",
       "      <td>-0.23</td>\n",
       "    </tr>\n",
       "    <tr>\n",
       "      <th>7</th>\n",
       "      <td>2019-09-27</td>\n",
       "      <td>16.26</td>\n",
       "      <td>16.49</td>\n",
       "      <td>16.19</td>\n",
       "      <td>16.36</td>\n",
       "      <td>25234800.0</td>\n",
       "      <td>SLV</td>\n",
       "      <td>-0.006150</td>\n",
       "      <td>0.44</td>\n",
       "    </tr>\n",
       "    <tr>\n",
       "      <th>8</th>\n",
       "      <td>2019-09-26</td>\n",
       "      <td>16.76</td>\n",
       "      <td>16.89</td>\n",
       "      <td>16.63</td>\n",
       "      <td>16.67</td>\n",
       "      <td>20319100.0</td>\n",
       "      <td>SLV</td>\n",
       "      <td>0.005370</td>\n",
       "      <td>0.31</td>\n",
       "    </tr>\n",
       "    <tr>\n",
       "      <th>9</th>\n",
       "      <td>2019-09-25</td>\n",
       "      <td>17.29</td>\n",
       "      <td>17.35</td>\n",
       "      <td>16.67</td>\n",
       "      <td>16.71</td>\n",
       "      <td>29406000.0</td>\n",
       "      <td>SLV</td>\n",
       "      <td>0.033545</td>\n",
       "      <td>0.04</td>\n",
       "    </tr>\n",
       "    <tr>\n",
       "      <th>10</th>\n",
       "      <td>2019-09-24</td>\n",
       "      <td>17.20</td>\n",
       "      <td>17.46</td>\n",
       "      <td>17.07</td>\n",
       "      <td>17.44</td>\n",
       "      <td>27612500.0</td>\n",
       "      <td>SLV</td>\n",
       "      <td>-0.013953</td>\n",
       "      <td>0.73</td>\n",
       "    </tr>\n",
       "    <tr>\n",
       "      <th>11</th>\n",
       "      <td>2019-09-23</td>\n",
       "      <td>17.29</td>\n",
       "      <td>17.51</td>\n",
       "      <td>17.26</td>\n",
       "      <td>17.51</td>\n",
       "      <td>24136900.0</td>\n",
       "      <td>SLV</td>\n",
       "      <td>-0.012724</td>\n",
       "      <td>0.07</td>\n",
       "    </tr>\n",
       "    <tr>\n",
       "      <th>12</th>\n",
       "      <td>2019-09-20</td>\n",
       "      <td>16.65</td>\n",
       "      <td>16.80</td>\n",
       "      <td>16.61</td>\n",
       "      <td>16.80</td>\n",
       "      <td>14256300.0</td>\n",
       "      <td>SLV</td>\n",
       "      <td>-0.009009</td>\n",
       "      <td>-0.71</td>\n",
       "    </tr>\n",
       "    <tr>\n",
       "      <th>13</th>\n",
       "      <td>2019-09-19</td>\n",
       "      <td>16.72</td>\n",
       "      <td>16.75</td>\n",
       "      <td>16.61</td>\n",
       "      <td>16.62</td>\n",
       "      <td>10522200.0</td>\n",
       "      <td>SLV</td>\n",
       "      <td>0.005981</td>\n",
       "      <td>-0.18</td>\n",
       "    </tr>\n",
       "    <tr>\n",
       "      <th>14</th>\n",
       "      <td>2019-09-18</td>\n",
       "      <td>16.75</td>\n",
       "      <td>16.84</td>\n",
       "      <td>16.38</td>\n",
       "      <td>16.55</td>\n",
       "      <td>28967300.0</td>\n",
       "      <td>SLV</td>\n",
       "      <td>0.011940</td>\n",
       "      <td>-0.07</td>\n",
       "    </tr>\n",
       "    <tr>\n",
       "      <th>15</th>\n",
       "      <td>2019-09-17</td>\n",
       "      <td>16.73</td>\n",
       "      <td>16.92</td>\n",
       "      <td>16.66</td>\n",
       "      <td>16.86</td>\n",
       "      <td>12763400.0</td>\n",
       "      <td>SLV</td>\n",
       "      <td>-0.007770</td>\n",
       "      <td>0.31</td>\n",
       "    </tr>\n",
       "    <tr>\n",
       "      <th>16</th>\n",
       "      <td>2019-09-16</td>\n",
       "      <td>16.71</td>\n",
       "      <td>16.84</td>\n",
       "      <td>16.60</td>\n",
       "      <td>16.74</td>\n",
       "      <td>21190000.0</td>\n",
       "      <td>SLV</td>\n",
       "      <td>-0.001795</td>\n",
       "      <td>-0.12</td>\n",
       "    </tr>\n",
       "    <tr>\n",
       "      <th>17</th>\n",
       "      <td>2019-09-13</td>\n",
       "      <td>16.90</td>\n",
       "      <td>16.94</td>\n",
       "      <td>16.28</td>\n",
       "      <td>16.31</td>\n",
       "      <td>42317000.0</td>\n",
       "      <td>SLV</td>\n",
       "      <td>0.034911</td>\n",
       "      <td>-0.43</td>\n",
       "    </tr>\n",
       "    <tr>\n",
       "      <th>18</th>\n",
       "      <td>2019-09-12</td>\n",
       "      <td>16.98</td>\n",
       "      <td>17.11</td>\n",
       "      <td>16.85</td>\n",
       "      <td>16.92</td>\n",
       "      <td>29348700.0</td>\n",
       "      <td>SLV</td>\n",
       "      <td>0.003534</td>\n",
       "      <td>0.61</td>\n",
       "    </tr>\n",
       "    <tr>\n",
       "      <th>19</th>\n",
       "      <td>2019-09-11</td>\n",
       "      <td>16.80</td>\n",
       "      <td>16.98</td>\n",
       "      <td>16.79</td>\n",
       "      <td>16.95</td>\n",
       "      <td>16979400.0</td>\n",
       "      <td>SLV</td>\n",
       "      <td>-0.008929</td>\n",
       "      <td>0.03</td>\n",
       "    </tr>\n",
       "  </tbody>\n",
       "</table>\n",
       "</div>"
      ],
      "text/plain": [
       "         date   open   high    low  close      volume symbol  daily_movement  \\\n",
       "0  2019-10-08  16.60  16.66  16.49  16.61  19326217.0    SLV       -0.000602   \n",
       "1  2019-10-07  16.38  16.46  16.28  16.30   8359926.0    SLV        0.004884   \n",
       "2  2019-10-04  16.30  16.46  16.25  16.41  17200800.0    SLV       -0.006748   \n",
       "3  2019-10-03  16.38  16.65  16.37  16.43  24412700.0    SLV       -0.003053   \n",
       "4  2019-10-02  16.33  16.54  16.27  16.43  21300800.0    SLV       -0.006124   \n",
       "5  2019-10-01  15.96  16.21  15.91  16.15  23278100.0    SLV       -0.011905   \n",
       "6  2019-09-30  16.03  16.10  15.83  15.92  29218300.0    SLV        0.006862   \n",
       "7  2019-09-27  16.26  16.49  16.19  16.36  25234800.0    SLV       -0.006150   \n",
       "8  2019-09-26  16.76  16.89  16.63  16.67  20319100.0    SLV        0.005370   \n",
       "9  2019-09-25  17.29  17.35  16.67  16.71  29406000.0    SLV        0.033545   \n",
       "10 2019-09-24  17.20  17.46  17.07  17.44  27612500.0    SLV       -0.013953   \n",
       "11 2019-09-23  17.29  17.51  17.26  17.51  24136900.0    SLV       -0.012724   \n",
       "12 2019-09-20  16.65  16.80  16.61  16.80  14256300.0    SLV       -0.009009   \n",
       "13 2019-09-19  16.72  16.75  16.61  16.62  10522200.0    SLV        0.005981   \n",
       "14 2019-09-18  16.75  16.84  16.38  16.55  28967300.0    SLV        0.011940   \n",
       "15 2019-09-17  16.73  16.92  16.66  16.86  12763400.0    SLV       -0.007770   \n",
       "16 2019-09-16  16.71  16.84  16.60  16.74  21190000.0    SLV       -0.001795   \n",
       "17 2019-09-13  16.90  16.94  16.28  16.31  42317000.0    SLV        0.034911   \n",
       "18 2019-09-12  16.98  17.11  16.85  16.92  29348700.0    SLV        0.003534   \n",
       "19 2019-09-11  16.80  16.98  16.79  16.95  16979400.0    SLV       -0.008929   \n",
       "\n",
       "    daily_Rn  \n",
       "0       0.00  \n",
       "1      -0.31  \n",
       "2       0.11  \n",
       "3       0.02  \n",
       "4       0.00  \n",
       "5      -0.28  \n",
       "6      -0.23  \n",
       "7       0.44  \n",
       "8       0.31  \n",
       "9       0.04  \n",
       "10      0.73  \n",
       "11      0.07  \n",
       "12     -0.71  \n",
       "13     -0.18  \n",
       "14     -0.07  \n",
       "15      0.31  \n",
       "16     -0.12  \n",
       "17     -0.43  \n",
       "18      0.61  \n",
       "19      0.03  "
      ]
     },
     "execution_count": 11,
     "metadata": {},
     "output_type": "execute_result"
    }
   ],
   "source": [
    "df_clean['daily_movement'] = (df_clean.open-df_clean.close)/df_clean.open\n",
    "df_clean['daily_Rn'] = df_clean['close']-df_clean['close'].shift(1)\n",
    "df_clean = df_clean.fillna(value=0)\n",
    "df_clean.head(20)"
   ]
  },
  {
   "cell_type": "code",
   "execution_count": 222,
   "metadata": {
    "scrolled": true
   },
   "outputs": [
    {
     "data": {
      "text/plain": [
       "True    3384\n",
       "Name: date, dtype: int64"
      ]
     },
     "execution_count": 222,
     "metadata": {},
     "output_type": "execute_result"
    }
   ],
   "source": [
    "df_clean_SLV = df_clean.loc[df_clean['symbol'] == 'SLV'][['date','symbol','open','close','daily_movement','daily_Rn']]\n",
    "df_clean_GLD = df_clean.loc[df_clean['symbol'] == 'GLD'][['date','symbol','open','close','daily_movement','daily_Rn']]\n",
    "df_clean_SLV.date.isin(df_clean_GLD.date).value_counts()"
   ]
  },
  {
   "cell_type": "code",
   "execution_count": 223,
   "metadata": {},
   "outputs": [
    {
     "data": {
      "image/png": "[encoded data removed]",
      "text/plain": [
       "<Figure size 432x288 with 1 Axes>"
      ]
     },
     "metadata": {
      "needs_background": "light"
     },
     "output_type": "display_data"
    }
   ],
   "source": [
    "df_clean_SLV['scale'] = df_clean_SLV['close']/df_clean_SLV.iloc[3379]['close']\n",
    "df_clean_GLD['scale'] = df_clean_GLD['close']/df_clean_GLD.iloc[3379]['close']\n",
    "\n",
    "plt.plot(df_clean_SLV['date'], df_clean_SLV['scale'],label='Silver Price')\n",
    "plt.plot(df_clean_GLD['date'], df_clean_GLD['scale'],label='Gold Price')\n",
    "plt.title(\"Silver Price vs Gold Price, Normalized to 2006/05/04\")\n",
    "plt.legend();"
   ]
  },
  {
   "cell_type": "code",
   "execution_count": 224,
   "metadata": {},
   "outputs": [
    {
     "name": "stdout",
     "output_type": "stream",
     "text": [
      "(3384, 15)\n"
     ]
    }
   ],
   "source": [
    "df_slv_vs_gld = pd.merge(df_clean_SLV,\n",
    "                         df_clean_GLD,\n",
    "                         how='left',\n",
    "                         on='date',\n",
    "                         suffixes=('_SLV', '_GLD'))\n",
    "df_slv_vs_gld['delta'] = df_slv_vs_gld['daily_movement_SLV']-df_slv_vs_gld['daily_movement_GLD']\n",
    "df_slv_vs_gld['delta_Rn'] = df_slv_vs_gld['daily_Rn_SLV']-df_slv_vs_gld['daily_Rn_GLD']\n",
    "print(df_slv_vs_gld.shape)\n",
    "\n",
    "\n"
   ]
  },
  {
   "cell_type": "code",
   "execution_count": 191,
   "metadata": {},
   "outputs": [],
   "source": [
    "import seaborn as sns\n",
    "import matplotlib.pyplot as plt"
   ]
  },
  {
   "cell_type": "code",
   "execution_count": 216,
   "metadata": {},
   "outputs": [
    {
     "data": {
      "image/png": "[encoded data removed]",
      "text/plain": [
       "<Figure size 432x288 with 4 Axes>"
      ]
     },
     "metadata": {
      "needs_background": "light"
     },
     "output_type": "display_data"
    }
   ],
   "source": [
    "fig,ax = plt.subplots(2,2)\n",
    "\n",
    "sns.boxplot(df_slv_vs_gld['daily_movement_SLV'],ax=ax[0,0])\n",
    "sns.distplot(df_slv_vs_gld['daily_movement_SLV'],ax=ax[0,1],label='silver')\n",
    "sns.boxplot(df_slv_vs_gld['daily_movement_GLD'],ax=ax[1,0])\n",
    "sns.distplot(df_slv_vs_gld['daily_movement_GLD'],ax=ax[1,1],label='gold')\n",
    "fig.legend();"
   ]
  },
  {
   "cell_type": "code",
   "execution_count": 217,
   "metadata": {},
   "outputs": [
    {
     "data": {
      "image/png": "[encoded data removed]",
      "text/plain": [
       "<Figure size 432x288 with 1 Axes>"
      ]
     },
     "metadata": {
      "needs_background": "light"
     },
     "output_type": "display_data"
    },
    {
     "data": {
      "image/png": "[encoded data removed]",
      "text/plain": [
       "<Figure size 432x288 with 1 Axes>"
      ]
     },
     "metadata": {
      "needs_background": "light"
     },
     "output_type": "display_data"
    }
   ],
   "source": [
    "import statsmodels.api as sm\n",
    "# fig,ax = plt.subplots(2,1)\n",
    "ax[0] = sm.qqplot(df_slv_vs_gld['daily_movement_SLV'], line = 'r')\n",
    "plt.title('Silver daily movement')\n",
    "\n",
    "ax[1] = sm.qqplot(df_slv_vs_gld['daily_movement_GLD'], line = 'r')\n",
    "plt.title('Gold daily movement')\n",
    "\n",
    "plt.show()"
   ]
  },
  {
   "cell_type": "code",
   "execution_count": 234,
   "metadata": {},
   "outputs": [
    {
     "data": {
      "text/html": [
       "<div>\n",
       "<style scoped>\n",
       "    .dataframe tbody tr th:only-of-type {\n",
       "        vertical-align: middle;\n",
       "    }\n",
       "\n",
       "    .dataframe tbody tr th {\n",
       "        vertical-align: top;\n",
       "    }\n",
       "\n",
       "    .dataframe thead th {\n",
       "        text-align: right;\n",
       "    }\n",
       "</style>\n",
       "<table border=\"1\" class=\"dataframe\">\n",
       "  <thead>\n",
       "    <tr style=\"text-align: right;\">\n",
       "      <th></th>\n",
       "      <th>date</th>\n",
       "      <th>symbol_SLV</th>\n",
       "      <th>open_SLV</th>\n",
       "      <th>close_SLV</th>\n",
       "      <th>daily_movement_SLV</th>\n",
       "      <th>daily_Rn_SLV</th>\n",
       "      <th>scale_SLV</th>\n",
       "      <th>symbol_GLD</th>\n",
       "      <th>open_GLD</th>\n",
       "      <th>close_GLD</th>\n",
       "      <th>daily_movement_GLD</th>\n",
       "      <th>daily_Rn_GLD</th>\n",
       "      <th>scale_GLD</th>\n",
       "      <th>delta</th>\n",
       "      <th>delta_Rn</th>\n",
       "    </tr>\n",
       "  </thead>\n",
       "  <tbody>\n",
       "    <tr>\n",
       "      <th>1</th>\n",
       "      <td>2019-10-04</td>\n",
       "      <td>SLV</td>\n",
       "      <td>16.30</td>\n",
       "      <td>16.41</td>\n",
       "      <td>-0.006748</td>\n",
       "      <td>0.006726</td>\n",
       "      <td>1.172143</td>\n",
       "      <td>GLD</td>\n",
       "      <td>141.48</td>\n",
       "      <td>141.90</td>\n",
       "      <td>-0.002969</td>\n",
       "      <td>0.008564</td>\n",
       "      <td>2.102845</td>\n",
       "      <td>-0.003780</td>\n",
       "      <td>-0.001838</td>\n",
       "    </tr>\n",
       "    <tr>\n",
       "      <th>2</th>\n",
       "      <td>2019-10-03</td>\n",
       "      <td>SLV</td>\n",
       "      <td>16.38</td>\n",
       "      <td>16.43</td>\n",
       "      <td>-0.003053</td>\n",
       "      <td>0.001218</td>\n",
       "      <td>1.173571</td>\n",
       "      <td>GLD</td>\n",
       "      <td>141.36</td>\n",
       "      <td>141.90</td>\n",
       "      <td>-0.003820</td>\n",
       "      <td>0.000000</td>\n",
       "      <td>2.102845</td>\n",
       "      <td>0.000768</td>\n",
       "      <td>0.001218</td>\n",
       "    </tr>\n",
       "    <tr>\n",
       "      <th>3</th>\n",
       "      <td>2019-10-02</td>\n",
       "      <td>SLV</td>\n",
       "      <td>16.33</td>\n",
       "      <td>16.43</td>\n",
       "      <td>-0.006124</td>\n",
       "      <td>0.000000</td>\n",
       "      <td>1.173571</td>\n",
       "      <td>GLD</td>\n",
       "      <td>140.79</td>\n",
       "      <td>141.26</td>\n",
       "      <td>-0.003338</td>\n",
       "      <td>-0.004520</td>\n",
       "      <td>2.093361</td>\n",
       "      <td>-0.002785</td>\n",
       "      <td>0.004520</td>\n",
       "    </tr>\n",
       "    <tr>\n",
       "      <th>4</th>\n",
       "      <td>2019-10-01</td>\n",
       "      <td>SLV</td>\n",
       "      <td>15.96</td>\n",
       "      <td>16.15</td>\n",
       "      <td>-0.011905</td>\n",
       "      <td>-0.017189</td>\n",
       "      <td>1.153571</td>\n",
       "      <td>GLD</td>\n",
       "      <td>138.07</td>\n",
       "      <td>139.63</td>\n",
       "      <td>-0.011299</td>\n",
       "      <td>-0.011606</td>\n",
       "      <td>2.069206</td>\n",
       "      <td>-0.000606</td>\n",
       "      <td>-0.005583</td>\n",
       "    </tr>\n",
       "    <tr>\n",
       "      <th>5</th>\n",
       "      <td>2019-09-30</td>\n",
       "      <td>SLV</td>\n",
       "      <td>16.03</td>\n",
       "      <td>15.92</td>\n",
       "      <td>0.006862</td>\n",
       "      <td>-0.014344</td>\n",
       "      <td>1.137143</td>\n",
       "      <td>GLD</td>\n",
       "      <td>139.77</td>\n",
       "      <td>138.87</td>\n",
       "      <td>0.006439</td>\n",
       "      <td>-0.005458</td>\n",
       "      <td>2.057943</td>\n",
       "      <td>0.000423</td>\n",
       "      <td>-0.008886</td>\n",
       "    </tr>\n",
       "  </tbody>\n",
       "</table>\n",
       "</div>"
      ],
      "text/plain": [
       "        date symbol_SLV  open_SLV  close_SLV  daily_movement_SLV  \\\n",
       "1 2019-10-04        SLV     16.30      16.41           -0.006748   \n",
       "2 2019-10-03        SLV     16.38      16.43           -0.003053   \n",
       "3 2019-10-02        SLV     16.33      16.43           -0.006124   \n",
       "4 2019-10-01        SLV     15.96      16.15           -0.011905   \n",
       "5 2019-09-30        SLV     16.03      15.92            0.006862   \n",
       "\n",
       "   daily_Rn_SLV  scale_SLV symbol_GLD  open_GLD  close_GLD  \\\n",
       "1      0.006726   1.172143        GLD    141.48     141.90   \n",
       "2      0.001218   1.173571        GLD    141.36     141.90   \n",
       "3      0.000000   1.173571        GLD    140.79     141.26   \n",
       "4     -0.017189   1.153571        GLD    138.07     139.63   \n",
       "5     -0.014344   1.137143        GLD    139.77     138.87   \n",
       "\n",
       "   daily_movement_GLD  daily_Rn_GLD  scale_GLD     delta  delta_Rn  \n",
       "1           -0.002969      0.008564   2.102845 -0.003780 -0.001838  \n",
       "2           -0.003820      0.000000   2.102845  0.000768  0.001218  \n",
       "3           -0.003338     -0.004520   2.093361 -0.002785  0.004520  \n",
       "4           -0.011299     -0.011606   2.069206 -0.000606 -0.005583  \n",
       "5            0.006439     -0.005458   2.057943  0.000423 -0.008886  "
      ]
     },
     "execution_count": 234,
     "metadata": {},
     "output_type": "execute_result"
    }
   ],
   "source": [
    "data = df_slv_vs_gld[(np.abs(stats.zscore(df_slv_vs_gld[['daily_Rn_SLV','daily_Rn_GLD','daily_movement_SLV','daily_movement_GLD','delta','delta_Rn']])) < 3).all(axis=1)]\n",
    "data.head()"
   ]
  },
  {
   "cell_type": "code",
   "execution_count": 205,
   "metadata": {},
   "outputs": [
    {
     "data": {
      "image/png": "[encoded data removed]",
      "text/plain": [
       "<Figure size 432x288 with 4 Axes>"
      ]
     },
     "metadata": {
      "needs_background": "light"
     },
     "output_type": "display_data"
    }
   ],
   "source": [
    "fig,ax = plt.subplots(2,2)\n",
    "\n",
    "sns.boxplot(data['daily_movement_SLV'],ax=ax[0,0])\n",
    "sns.distplot(data['daily_movement_SLV'],ax=ax[0,1],label='silver')\n",
    "sns.boxplot(data['daily_movement_GLD'],ax=ax[1,0])\n",
    "sns.distplot(data['daily_movement_GLD'][:750],ax=ax[1,1],label='gold')\n",
    "fig.legend();"
   ]
  },
  {
   "cell_type": "code",
   "execution_count": 206,
   "metadata": {},
   "outputs": [
    {
     "data": {
      "text/plain": [
       "(-1.6528793981223417, 0.09877447768925207)"
      ]
     },
     "execution_count": 206,
     "metadata": {},
     "output_type": "execute_result"
    }
   ],
   "source": [
    "import scipy.stats as stats\n",
    "t,p = stats.ttest_rel(data['daily_movement_GLD'][:750],data['daily_movement_SLV'][:750])\n",
    "t,p"
   ]
  },
  {
   "cell_type": "code",
   "execution_count": 207,
   "metadata": {},
   "outputs": [
    {
     "data": {
      "text/plain": [
       "(-0.5910082371544634, 0.5546932019769484)"
      ]
     },
     "execution_count": 207,
     "metadata": {},
     "output_type": "execute_result"
    }
   ],
   "source": [
    "import scipy.stats as stats\n",
    "t,p = stats.ttest_rel(data['daily_Rn_GLD'][:750],data['daily_Rn_SLV'][:750])\n",
    "t,p"
   ]
  },
  {
   "cell_type": "markdown",
   "metadata": {},
   "source": [
    "## Looking at weekly volatility"
   ]
  },
  {
   "cell_type": "code",
   "execution_count": 220,
   "metadata": {},
   "outputs": [
    {
     "data": {
      "text/html": [
       "<div>\n",
       "<style scoped>\n",
       "    .dataframe tbody tr th:only-of-type {\n",
       "        vertical-align: middle;\n",
       "    }\n",
       "\n",
       "    .dataframe tbody tr th {\n",
       "        vertical-align: top;\n",
       "    }\n",
       "\n",
       "    .dataframe thead th {\n",
       "        text-align: right;\n",
       "    }\n",
       "</style>\n",
       "<table border=\"1\" class=\"dataframe\">\n",
       "  <thead>\n",
       "    <tr style=\"text-align: right;\">\n",
       "      <th></th>\n",
       "      <th>date</th>\n",
       "      <th>symbol</th>\n",
       "      <th>close</th>\n",
       "      <th>daily_movement</th>\n",
       "      <th>daily_Rn</th>\n",
       "      <th>scale</th>\n",
       "    </tr>\n",
       "  </thead>\n",
       "  <tbody>\n",
       "    <tr>\n",
       "      <th>5768</th>\n",
       "      <td>2019-10-07</td>\n",
       "      <td>GLD</td>\n",
       "      <td>140.69</td>\n",
       "      <td>0.003330</td>\n",
       "      <td>2.255994</td>\n",
       "      <td>2.084914</td>\n",
       "    </tr>\n",
       "    <tr>\n",
       "      <th>5769</th>\n",
       "      <td>2019-10-04</td>\n",
       "      <td>GLD</td>\n",
       "      <td>141.90</td>\n",
       "      <td>-0.002969</td>\n",
       "      <td>0.008564</td>\n",
       "      <td>2.102845</td>\n",
       "    </tr>\n",
       "    <tr>\n",
       "      <th>5770</th>\n",
       "      <td>2019-10-03</td>\n",
       "      <td>GLD</td>\n",
       "      <td>141.90</td>\n",
       "      <td>-0.003820</td>\n",
       "      <td>0.000000</td>\n",
       "      <td>2.102845</td>\n",
       "    </tr>\n",
       "    <tr>\n",
       "      <th>5771</th>\n",
       "      <td>2019-10-02</td>\n",
       "      <td>GLD</td>\n",
       "      <td>141.26</td>\n",
       "      <td>-0.003338</td>\n",
       "      <td>-0.004520</td>\n",
       "      <td>2.093361</td>\n",
       "    </tr>\n",
       "    <tr>\n",
       "      <th>5772</th>\n",
       "      <td>2019-10-01</td>\n",
       "      <td>GLD</td>\n",
       "      <td>139.63</td>\n",
       "      <td>-0.011299</td>\n",
       "      <td>-0.011606</td>\n",
       "      <td>2.069206</td>\n",
       "    </tr>\n",
       "  </tbody>\n",
       "</table>\n",
       "</div>"
      ],
      "text/plain": [
       "           date symbol   close  daily_movement  daily_Rn     scale\n",
       "5768 2019-10-07    GLD  140.69        0.003330  2.255994  2.084914\n",
       "5769 2019-10-04    GLD  141.90       -0.002969  0.008564  2.102845\n",
       "5770 2019-10-03    GLD  141.90       -0.003820  0.000000  2.102845\n",
       "5771 2019-10-02    GLD  141.26       -0.003338 -0.004520  2.093361\n",
       "5772 2019-10-01    GLD  139.63       -0.011299 -0.011606  2.069206"
      ]
     },
     "execution_count": 220,
     "metadata": {},
     "output_type": "execute_result"
    }
   ],
   "source": [
    "df_clean_GLD.head()"
   ]
  },
  {
   "cell_type": "code",
   "execution_count": 248,
   "metadata": {},
   "outputs": [
    {
     "name": "stdout",
     "output_type": "stream",
     "text": [
      "(261, 9)\n"
     ]
    },
    {
     "data": {
      "text/html": [
       "<div>\n",
       "<style scoped>\n",
       "    .dataframe tbody tr th:only-of-type {\n",
       "        vertical-align: middle;\n",
       "    }\n",
       "\n",
       "    .dataframe tbody tr th {\n",
       "        vertical-align: top;\n",
       "    }\n",
       "\n",
       "    .dataframe thead th {\n",
       "        text-align: right;\n",
       "    }\n",
       "</style>\n",
       "<table border=\"1\" class=\"dataframe\">\n",
       "  <thead>\n",
       "    <tr style=\"text-align: right;\">\n",
       "      <th></th>\n",
       "      <th>date</th>\n",
       "      <th>open_SLV</th>\n",
       "      <th>close_SLV</th>\n",
       "      <th>wk_movement_SLV</th>\n",
       "      <th>wk_Rn_SLV</th>\n",
       "      <th>open_GLD</th>\n",
       "      <th>close_GLD</th>\n",
       "      <th>wk_movement_GLD</th>\n",
       "      <th>wk_Rn_GLD</th>\n",
       "    </tr>\n",
       "  </thead>\n",
       "  <tbody>\n",
       "    <tr>\n",
       "      <th>257</th>\n",
       "      <td>2014-11-09</td>\n",
       "      <td>15.01200</td>\n",
       "      <td>15.084</td>\n",
       "      <td>-0.004796</td>\n",
       "      <td>-0.003177</td>\n",
       "      <td>111.026</td>\n",
       "      <td>111.402</td>\n",
       "      <td>-0.003387</td>\n",
       "      <td>-0.005604</td>\n",
       "    </tr>\n",
       "    <tr>\n",
       "      <th>258</th>\n",
       "      <td>2014-11-02</td>\n",
       "      <td>16.16124</td>\n",
       "      <td>16.122</td>\n",
       "      <td>0.002428</td>\n",
       "      <td>0.066550</td>\n",
       "      <td>116.388</td>\n",
       "      <td>116.084</td>\n",
       "      <td>0.002612</td>\n",
       "      <td>0.041169</td>\n",
       "    </tr>\n",
       "    <tr>\n",
       "      <th>259</th>\n",
       "      <td>2014-10-26</td>\n",
       "      <td>16.62784</td>\n",
       "      <td>16.600</td>\n",
       "      <td>0.001674</td>\n",
       "      <td>0.029218</td>\n",
       "      <td>119.394</td>\n",
       "      <td>119.206</td>\n",
       "      <td>0.001575</td>\n",
       "      <td>0.026539</td>\n",
       "    </tr>\n",
       "    <tr>\n",
       "      <th>260</th>\n",
       "      <td>2014-10-19</td>\n",
       "      <td>16.67012</td>\n",
       "      <td>16.674</td>\n",
       "      <td>-0.000233</td>\n",
       "      <td>0.004448</td>\n",
       "      <td>118.806</td>\n",
       "      <td>118.862</td>\n",
       "      <td>-0.000471</td>\n",
       "      <td>-0.002890</td>\n",
       "    </tr>\n",
       "    <tr>\n",
       "      <th>261</th>\n",
       "      <td>2014-10-12</td>\n",
       "      <td>16.59600</td>\n",
       "      <td>16.604</td>\n",
       "      <td>-0.000482</td>\n",
       "      <td>-0.004207</td>\n",
       "      <td>116.812</td>\n",
       "      <td>117.018</td>\n",
       "      <td>-0.001764</td>\n",
       "      <td>-0.015635</td>\n",
       "    </tr>\n",
       "  </tbody>\n",
       "</table>\n",
       "</div>"
      ],
      "text/plain": [
       "          date  open_SLV  close_SLV  wk_movement_SLV  wk_Rn_SLV  open_GLD  \\\n",
       "257 2014-11-09  15.01200     15.084        -0.004796  -0.003177   111.026   \n",
       "258 2014-11-02  16.16124     16.122         0.002428   0.066550   116.388   \n",
       "259 2014-10-26  16.62784     16.600         0.001674   0.029218   119.394   \n",
       "260 2014-10-19  16.67012     16.674        -0.000233   0.004448   118.806   \n",
       "261 2014-10-12  16.59600     16.604        -0.000482  -0.004207   116.812   \n",
       "\n",
       "     close_GLD  wk_movement_GLD  wk_Rn_GLD  \n",
       "257    111.402        -0.003387  -0.005604  \n",
       "258    116.084         0.002612   0.041169  \n",
       "259    119.206         0.001575   0.026539  \n",
       "260    118.862        -0.000471  -0.002890  \n",
       "261    117.018        -0.001764  -0.015635  "
      ]
     },
     "execution_count": 248,
     "metadata": {},
     "output_type": "execute_result"
    }
   ],
   "source": [
    "gld_weekly = df_clean_GLD.groupby(['symbol',pd.Grouper(key='date',freq='W')]).mean().reset_index().sort_values('date',ascending=False)[['date','open','close']]\n",
    "slv_weekly = df_clean_SLV.groupby(['symbol',pd.Grouper(key='date',freq='W')]).mean().reset_index().sort_values('date',ascending=False)[['date','open','close']]\n",
    "\n",
    "gld_weekly['wk_movement'] = (gld_weekly.open-gld_weekly.close)/gld_weekly.open\n",
    "slv_weekly['wk_movement'] = (slv_weekly.open-slv_weekly.close)/slv_weekly.open\n",
    "\n",
    "gld_weekly['wk_Rn'] = np.log(gld_weekly['close']/gld_weekly['close'].shift(1))\n",
    "slv_weekly['wk_Rn'] = np.log(slv_weekly['close']/slv_weekly['close'].shift(1))\n",
    "gld_weekly = gld_weekly.fillna(value=0)\n",
    "slv_weekly = slv_weekly.fillna(value=0)\n",
    "\n",
    "df_slv_vs_gld_wk = pd.merge(slv_weekly,\n",
    "                            gld_weekly,\n",
    "                            how='left',\n",
    "                            on='date',\n",
    "                            suffixes=('_SLV', '_GLD'))\n",
    "\n",
    "df_slv_vs_gld_wk = df_slv_vs_gld_wk[(np.abs(stats.zscore(df_slv_vs_gld_wk[['wk_Rn_SLV','wk_Rn_GLD','wk_movement_SLV','wk_movement_GLD']])) < 3).all(axis=1)]\n",
    "data.head()\n",
    "\n",
    "df_slv_vs_gld_wk = df_slv_vs_gld_wk.loc[df_slv_vs_gld_wk.date>'2014-10-06']\n",
    "print(df_slv_vs_gld_wk.shape)\n",
    "df_slv_vs_gld_wk.tail()\n"
   ]
  },
  {
   "cell_type": "code",
   "execution_count": 249,
   "metadata": {
    "scrolled": false
   },
   "outputs": [
    {
     "data": {
      "image/png": "[encoded data removed]",
      "text/plain": [
       "<Figure size 432x288 with 4 Axes>"
      ]
     },
     "metadata": {
      "needs_background": "light"
     },
     "output_type": "display_data"
    }
   ],
   "source": [
    "fig,row = plt.subplots(2,1, tight_layout=True)\n",
    "\n",
    "sns.boxplot(df_slv_vs_gld_wk['wk_movement_SLV'],ax=ax[0,0])\n",
    "sns.distplot(df_slv_vs_gld_wk['wk_movement_SLV'],ax=ax[0,1],label='silver')\n",
    "sns.boxplot(df_slv_vs_gld_wk['wk_movement_GLD'],ax=ax[1,0])\n",
    "sns.distplot(df_slv_vs_gld_wk['wk_movement_GLD'],ax=ax[1,1],label='gold')\n",
    "fig.legend();"
   ]
  },
  {
   "cell_type": "code",
   "execution_count": 250,
   "metadata": {},
   "outputs": [
    {
     "data": {
      "image/png": "[encoded data removed]",
      "text/plain": [
       "<Figure size 432x288 with 4 Axes>"
      ]
     },
     "metadata": {
      "needs_background": "light"
     },
     "output_type": "display_data"
    }
   ],
   "source": [
    "fig,ax = plt.subplots(2,2, tight_layout=True)\n",
    "\n",
    "sns.boxplot(df_slv_vs_gld_wk['wk_Rn_SLV'],ax=ax[0,0])\n",
    "sns.distplot(df_slv_vs_gld_wk['wk_Rn_SLV'],ax=ax[0,1],label='silver')\n",
    "sns.boxplot(df_slv_vs_gld_wk['wk_Rn_GLD'],ax=ax[1,0])\n",
    "sns.distplot(df_slv_vs_gld_wk['wk_Rn_GLD'],ax=ax[1,1],label='gold')\n",
    "fig.legend();"
   ]
  },
  {
   "cell_type": "code",
   "execution_count": 252,
   "metadata": {},
   "outputs": [
    {
     "data": {
      "text/plain": [
       "(2.4433028325928396, 0.01521925074267192)"
      ]
     },
     "execution_count": 252,
     "metadata": {},
     "output_type": "execute_result"
    }
   ],
   "source": [
    "t,p = stats.ttest_rel(df_slv_vs_gld_wk['wk_movement_SLV'],df_slv_vs_gld_wk['wk_movement_GLD'])\n",
    "t,p"
   ]
  },
  {
   "cell_type": "code",
   "execution_count": 254,
   "metadata": {},
   "outputs": [
    {
     "data": {
      "text/plain": [
       "(0.654477091585105, 0.5133830003297393)"
      ]
     },
     "execution_count": 254,
     "metadata": {},
     "output_type": "execute_result"
    }
   ],
   "source": [
    "t,p = stats.ttest_rel(df_slv_vs_gld_wk['wk_Rn_SLV'],df_slv_vs_gld_wk['wk_Rn_GLD'])\n",
    "t,p"
   ]
  },
  {
   "cell_type": "markdown",
   "metadata": {},
   "source": [
    "## Looking at monthly volatility"
   ]
  },
  {
   "cell_type": "code",
   "execution_count": 255,
   "metadata": {},
   "outputs": [
    {
     "name": "stdout",
     "output_type": "stream",
     "text": [
      "(61, 9)\n"
     ]
    },
    {
     "data": {
      "text/html": [
       "<div>\n",
       "<style scoped>\n",
       "    .dataframe tbody tr th:only-of-type {\n",
       "        vertical-align: middle;\n",
       "    }\n",
       "\n",
       "    .dataframe tbody tr th {\n",
       "        vertical-align: top;\n",
       "    }\n",
       "\n",
       "    .dataframe thead th {\n",
       "        text-align: right;\n",
       "    }\n",
       "</style>\n",
       "<table border=\"1\" class=\"dataframe\">\n",
       "  <thead>\n",
       "    <tr style=\"text-align: right;\">\n",
       "      <th></th>\n",
       "      <th>date</th>\n",
       "      <th>open_SLV</th>\n",
       "      <th>close_SLV</th>\n",
       "      <th>mo_movement_SLV</th>\n",
       "      <th>mo_Rn_SLV</th>\n",
       "      <th>open_GLD</th>\n",
       "      <th>close_GLD</th>\n",
       "      <th>mo_movement_GLD</th>\n",
       "      <th>mo_Rn_GLD</th>\n",
       "    </tr>\n",
       "  </thead>\n",
       "  <tbody>\n",
       "    <tr>\n",
       "      <th>56</th>\n",
       "      <td>2015-02-28</td>\n",
       "      <td>16.086826</td>\n",
       "      <td>16.057368</td>\n",
       "      <td>0.001831</td>\n",
       "      <td>0.031903</td>\n",
       "      <td>117.954247</td>\n",
       "      <td>117.773684</td>\n",
       "      <td>0.001531</td>\n",
       "      <td>0.039910</td>\n",
       "    </tr>\n",
       "    <tr>\n",
       "      <th>57</th>\n",
       "      <td>2015-01-31</td>\n",
       "      <td>16.437505</td>\n",
       "      <td>16.461500</td>\n",
       "      <td>-0.001460</td>\n",
       "      <td>0.024856</td>\n",
       "      <td>120.128000</td>\n",
       "      <td>120.384500</td>\n",
       "      <td>-0.002135</td>\n",
       "      <td>0.021926</td>\n",
       "    </tr>\n",
       "    <tr>\n",
       "      <th>58</th>\n",
       "      <td>2014-12-31</td>\n",
       "      <td>15.612955</td>\n",
       "      <td>15.553636</td>\n",
       "      <td>0.003799</td>\n",
       "      <td>-0.056730</td>\n",
       "      <td>115.381364</td>\n",
       "      <td>115.193636</td>\n",
       "      <td>0.001627</td>\n",
       "      <td>-0.044076</td>\n",
       "    </tr>\n",
       "    <tr>\n",
       "      <th>59</th>\n",
       "      <td>2014-11-30</td>\n",
       "      <td>15.295258</td>\n",
       "      <td>15.340000</td>\n",
       "      <td>-0.002925</td>\n",
       "      <td>-0.013831</td>\n",
       "      <td>112.952316</td>\n",
       "      <td>113.049474</td>\n",
       "      <td>-0.000860</td>\n",
       "      <td>-0.018789</td>\n",
       "    </tr>\n",
       "    <tr>\n",
       "      <th>60</th>\n",
       "      <td>2014-10-31</td>\n",
       "      <td>16.490630</td>\n",
       "      <td>16.478696</td>\n",
       "      <td>0.000724</td>\n",
       "      <td>0.071605</td>\n",
       "      <td>117.636522</td>\n",
       "      <td>117.563913</td>\n",
       "      <td>0.000617</td>\n",
       "      <td>0.039157</td>\n",
       "    </tr>\n",
       "  </tbody>\n",
       "</table>\n",
       "</div>"
      ],
      "text/plain": [
       "         date   open_SLV  close_SLV  mo_movement_SLV  mo_Rn_SLV    open_GLD  \\\n",
       "56 2015-02-28  16.086826  16.057368         0.001831   0.031903  117.954247   \n",
       "57 2015-01-31  16.437505  16.461500        -0.001460   0.024856  120.128000   \n",
       "58 2014-12-31  15.612955  15.553636         0.003799  -0.056730  115.381364   \n",
       "59 2014-11-30  15.295258  15.340000        -0.002925  -0.013831  112.952316   \n",
       "60 2014-10-31  16.490630  16.478696         0.000724   0.071605  117.636522   \n",
       "\n",
       "     close_GLD  mo_movement_GLD  mo_Rn_GLD  \n",
       "56  117.773684         0.001531   0.039910  \n",
       "57  120.384500        -0.002135   0.021926  \n",
       "58  115.193636         0.001627  -0.044076  \n",
       "59  113.049474        -0.000860  -0.018789  \n",
       "60  117.563913         0.000617   0.039157  "
      ]
     },
     "execution_count": 255,
     "metadata": {},
     "output_type": "execute_result"
    }
   ],
   "source": [
    "gld_monthly = df_clean_GLD.groupby(['symbol',pd.Grouper(key='date',freq='M')]).mean().reset_index().sort_values('date',ascending=False)[['date','open','close']]\n",
    "slv_monthly = df_clean_SLV.groupby(['symbol',pd.Grouper(key='date',freq='M')]).mean().reset_index().sort_values('date',ascending=False)[['date','open','close']]\n",
    "\n",
    "gld_monthly['mo_movement'] = (gld_monthly.open-gld_monthly.close)/gld_monthly.open\n",
    "slv_monthly['mo_movement'] = (slv_monthly.open-slv_monthly.close)/slv_monthly.open\n",
    "\n",
    "gld_monthly['mo_Rn'] = np.log(gld_monthly['close']/gld_monthly['close'].shift(1))\n",
    "slv_monthly['mo_Rn'] = np.log(slv_monthly['close']/slv_monthly['close'].shift(1))\n",
    "gld_monthly = gld_monthly.fillna(value=0)\n",
    "slv_monthly = slv_monthly.fillna(value=0)\n",
    "\n",
    "df_slv_vs_gld_mo = pd.merge(slv_monthly,\n",
    "                            gld_monthly,\n",
    "                            how='left',\n",
    "                            on='date',\n",
    "                            suffixes=('_SLV', '_GLD'))\n",
    "\n",
    "df_slv_vs_gld_mo = df_slv_vs_gld_mo[(np.abs(stats.zscore(df_slv_vs_gld_mo[['mo_Rn_SLV','mo_Rn_GLD','mo_movement_SLV','mo_movement_GLD']])) < 3).all(axis=1)]\n",
    "\n",
    "df_slv_vs_gld_mo = df_slv_vs_gld_mo.loc[df_slv_vs_gld_mo.date>'2014-10-06']\n",
    "print(df_slv_vs_gld_mo.shape)\n",
    "df_slv_vs_gld_mo.tail()\n"
   ]
  },
  {
   "cell_type": "code",
   "execution_count": 256,
   "metadata": {},
   "outputs": [
    {
     "data": {
      "image/png": "[encoded data removed]",
      "text/plain": [
       "<Figure size 432x288 with 4 Axes>"
      ]
     },
     "metadata": {
      "needs_background": "light"
     },
     "output_type": "display_data"
    }
   ],
   "source": [
    "fig,ax = plt.subplots(2,2, tight_layout=True)\n",
    "\n",
    "sns.boxplot(df_slv_vs_gld_mo['mo_movement_SLV'],ax=ax[0,0])\n",
    "sns.distplot(df_slv_vs_gld_mo['mo_movement_SLV'],ax=ax[0,1],label='silver')\n",
    "sns.boxplot(df_slv_vs_gld_mo['mo_movement_GLD'],ax=ax[1,0])\n",
    "sns.distplot(df_slv_vs_gld_mo['mo_movement_GLD'],ax=ax[1,1],label='gold')\n",
    "fig.legend();"
   ]
  },
  {
   "cell_type": "code",
   "execution_count": 257,
   "metadata": {},
   "outputs": [
    {
     "data": {
      "image/png": "[encoded data removed]",
      "text/plain": [
       "<Figure size 432x288 with 4 Axes>"
      ]
     },
     "metadata": {
      "needs_background": "light"
     },
     "output_type": "display_data"
    }
   ],
   "source": [
    "fig,ax = plt.subplots(2,2, tight_layout=True)\n",
    "\n",
    "sns.boxplot(df_slv_vs_gld_mo['mo_Rn_SLV'],ax=ax[0,0])\n",
    "sns.distplot(df_slv_vs_gld_mo['mo_Rn_SLV'],ax=ax[0,1],label='silver')\n",
    "sns.boxplot(df_slv_vs_gld_mo['mo_Rn_GLD'],ax=ax[1,0])\n",
    "sns.distplot(df_slv_vs_gld_mo['mo_Rn_GLD'],ax=ax[1,1],label='gold')\n",
    "fig.legend();"
   ]
  },
  {
   "cell_type": "code",
   "execution_count": 258,
   "metadata": {},
   "outputs": [
    {
     "data": {
      "text/plain": [
       "(2.291870814776643, 0.025437488662358173)"
      ]
     },
     "execution_count": 258,
     "metadata": {},
     "output_type": "execute_result"
    }
   ],
   "source": [
    "t,p = stats.ttest_rel(df_slv_vs_gld_mo['mo_movement_SLV'],df_slv_vs_gld_mo['mo_movement_GLD'])\n",
    "t,p"
   ]
  },
  {
   "cell_type": "code",
   "execution_count": 259,
   "metadata": {},
   "outputs": [
    {
     "data": {
      "text/plain": [
       "(0.9403459936038002, 0.3508106317266598)"
      ]
     },
     "execution_count": 259,
     "metadata": {},
     "output_type": "execute_result"
    }
   ],
   "source": [
    "t,p = stats.ttest_rel(df_slv_vs_gld_mo['mo_Rn_SLV'],df_slv_vs_gld_mo['mo_Rn_GLD'])\n",
    "t,p"
   ]
  },
  {
   "cell_type": "code",
   "execution_count": 12,
   "metadata": {},
   "outputs": [],
   "source": [
    "from statsmodels.stats.power import  tt_solve_power"
   ]
  },
  {
   "cell_type": "code",
   "execution_count": null,
   "metadata": {},
   "outputs": [],
   "source": [
    "tt_solve_power(e)"
   ]
  },
  {
   "cell_type": "code",
   "execution_count": 13,
   "metadata": {},
   "outputs": [
    {
     "ename": "IndentationError",
     "evalue": "expected an indented block (hypothesis_tests.py, line 85)",
     "output_type": "error",
     "traceback": [
      "Traceback \u001b[0;36m(most recent call last)\u001b[0m:\n",
      "  File \u001b[1;32m\"//anaconda3/lib/python3.7/site-packages/IPython/core/interactiveshell.py\"\u001b[0m, line \u001b[1;32m3325\u001b[0m, in \u001b[1;35mrun_code\u001b[0m\n    exec(code_obj, self.user_global_ns, self.user_ns)\n",
      "\u001b[0;36m  File \u001b[0;32m\"<ipython-input-13-83c6067558c2>\"\u001b[0;36m, line \u001b[0;32m1\u001b[0;36m, in \u001b[0;35m<module>\u001b[0;36m\u001b[0m\n\u001b[0;31m    from hypothesis_tests import hypothesis_test_three_prep\u001b[0m\n",
      "\u001b[0;36m  File \u001b[0;32m\"/Users/akharina/Documents/BootCamp/Curriculum/mod-3-Probability/precious-metals-etfs/hypothesis_tests.py\"\u001b[0;36m, line \u001b[0;32m85\u001b[0m\n\u001b[0;31m    type options: day, week, month'''\u001b[0m\n\u001b[0m                                     \n^\u001b[0m\n\u001b[0;31mIndentationError\u001b[0m\u001b[0;31m:\u001b[0m expected an indented block\n"
     ]
    }
   ],
   "source": [
    "from hypothesis_tests import hypothesis_test_three_prep"
   ]
  },
  {
   "cell_type": "code",
   "execution_count": null,
   "metadata": {},
   "outputs": [],
   "source": []
  }
 ],
 "metadata": {
  "kernelspec": {
   "display_name": "Python 3",
   "language": "python",
   "name": "python3"
  },
  "language_info": {
   "codemirror_mode": {
    "name": "ipython",
    "version": 3
   },
   "file_extension": ".py",
   "mimetype": "text/x-python",
   "name": "python",
   "nbconvert_exporter": "python",
   "pygments_lexer": "ipython3",
   "version": "3.7.3"
  }
 },
 "nbformat": 4,
 "nbformat_minor": 2
}
