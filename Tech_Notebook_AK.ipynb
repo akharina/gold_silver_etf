{
 "cells": [
  {
   "cell_type": "code",
   "execution_count": 14,
   "metadata": {},
   "outputs": [
    {
     "name": "stdout",
     "output_type": "stream",
     "text": [
      "The autoreload extension is already loaded. To reload it, use:\n",
      "  %reload_ext autoreload\n"
     ]
    }
   ],
   "source": [
    "%load_ext autoreload\n",
    "%autoreload 2 \n",
    "import pandas as pd\n",
    "import numpy as np\n",
    "import requests \n",
    "import matplotlib.pyplot as plt\n",
    "import json"
   ]
  },
  {
   "cell_type": "code",
   "execution_count": 5,
   "metadata": {},
   "outputs": [],
   "source": [
    "from data_compilation import call_all_symbols\n",
    "from data_cleaning import full_clean"
   ]
  },
  {
   "cell_type": "code",
   "execution_count": 6,
   "metadata": {},
   "outputs": [],
   "source": [
    "symbol_list = ['SLV', 'SIL', 'GLD', 'GDX', 'DJI']"
   ]
  },
  {
   "cell_type": "code",
   "execution_count": 7,
   "metadata": {},
   "outputs": [
    {
     "name": "stdout",
     "output_type": "stream",
     "text": [
      "The response code for SLV is 200\n",
      "The response code for SIL is 200\n",
      "The response code for GLD is 200\n",
      "The response code for GDX is 200\n",
      "The response code for DJI is 200\n"
     ]
    }
   ],
   "source": [
    "df = call_all_symbols(symbol_list)"
   ]
  },
  {
   "cell_type": "code",
   "execution_count": 15,
   "metadata": {},
   "outputs": [],
   "source": [
    "from data_cleaning import full_clean"
   ]
  },
  {
   "cell_type": "code",
   "execution_count": 16,
   "metadata": {},
   "outputs": [],
   "source": [
    "#Cleaning data\n",
    "df_clean = full_clean()"
   ]
  },
  {
   "cell_type": "code",
   "execution_count": 10,
   "metadata": {
    "scrolled": true
   },
   "outputs": [
    {
     "name": "stderr",
     "output_type": "stream",
     "text": [
      "//anaconda3/lib/python3.7/site-packages/pandas/plotting/_converter.py:129: FutureWarning: Using an implicitly registered datetime converter for a matplotlib plotting method. The converter was registered by pandas on import. Future versions of pandas will require you to explicitly register matplotlib converters.\n",
      "\n",
      "To register the converters:\n",
      "\t>>> from pandas.plotting import register_matplotlib_converters\n",
      "\t>>> register_matplotlib_converters()\n",
      "  warnings.warn(msg, FutureWarning)\n"
     ]
    },
    {
     "data": {
      "image/png": "[encoded data removed]",
      "text/plain": [
       "<Figure size 432x288 with 1 Axes>"
      ]
     },
     "metadata": {
      "needs_background": "light"
     },
     "output_type": "display_data"
    }
   ],
   "source": [
    "df_clean_SLV = df_clean.loc[df_clean['symbol'] == 'SLV']\n",
    "df_clean_GLD = df_clean.loc[df_clean['symbol'] == 'GLD']\n",
    "plt.plot(df_clean_SLV['date'], df_clean_SLV['close'])\n",
    "plt.plot(df_clean_GLD['date'], df_clean_GLD['close']);"
   ]
  },
  {
   "cell_type": "code",
   "execution_count": 11,
   "metadata": {
    "scrolled": true
   },
   "outputs": [
    {
     "data": {
      "text/html": [
       "<div>\n",
       "<style scoped>\n",
       "    .dataframe tbody tr th:only-of-type {\n",
       "        vertical-align: middle;\n",
       "    }\n",
       "\n",
       "    .dataframe tbody tr th {\n",
       "        vertical-align: top;\n",
       "    }\n",
       "\n",
       "    .dataframe thead th {\n",
       "        text-align: right;\n",
       "    }\n",
       "</style>\n",
       "<table border=\"1\" class=\"dataframe\">\n",
       "  <thead>\n",
       "    <tr style=\"text-align: right;\">\n",
       "      <th></th>\n",
       "      <th>date</th>\n",
       "      <th>open</th>\n",
       "      <th>high</th>\n",
       "      <th>low</th>\n",
       "      <th>close</th>\n",
       "      <th>volume</th>\n",
       "      <th>symbol</th>\n",
       "      <th>daily_movement</th>\n",
       "      <th>daily_Rn</th>\n",
       "    </tr>\n",
       "  </thead>\n",
       "  <tbody>\n",
       "    <tr>\n",
       "      <th>0</th>\n",
       "      <td>2019-10-08</td>\n",
       "      <td>16.60</td>\n",
       "      <td>16.66</td>\n",
       "      <td>16.49</td>\n",
       "      <td>16.61</td>\n",
       "      <td>19326217.0</td>\n",
       "      <td>SLV</td>\n",
       "      <td>-0.000602</td>\n",
       "      <td>0.00</td>\n",
       "    </tr>\n",
       "    <tr>\n",
       "      <th>1</th>\n",
       "      <td>2019-10-07</td>\n",
       "      <td>16.38</td>\n",
       "      <td>16.46</td>\n",
       "      <td>16.28</td>\n",
       "      <td>16.30</td>\n",
       "      <td>8359926.0</td>\n",
       "      <td>SLV</td>\n",
       "      <td>0.004884</td>\n",
       "      <td>-0.31</td>\n",
       "    </tr>\n",
       "    <tr>\n",
       "      <th>2</th>\n",
       "      <td>2019-10-04</td>\n",
       "      <td>16.30</td>\n",
       "      <td>16.46</td>\n",
       "      <td>16.25</td>\n",
       "      <td>16.41</td>\n",
       "      <td>17200800.0</td>\n",
       "      <td>SLV</td>\n",
       "      <td>-0.006748</td>\n",
       "      <td>0.11</td>\n",
       "    </tr>\n",
       "    <tr>\n",
       "      <th>3</th>\n",
       "      <td>2019-10-03</td>\n",
       "      <td>16.38</td>\n",
       "      <td>16.65</td>\n",
       "      <td>16.37</td>\n",
       "      <td>16.43</td>\n",
       "      <td>24412700.0</td>\n",
       "      <td>SLV</td>\n",
       "      <td>-0.003053</td>\n",
       "      <td>0.02</td>\n",
       "    </tr>\n",
       "    <tr>\n",
       "      <th>4</th>\n",
       "      <td>2019-10-02</td>\n",
       "      <td>16.33</td>\n",
       "      <td>16.54</td>\n",
       "      <td>16.27</td>\n",
       "      <td>16.43</td>\n",
       "      <td>21300800.0</td>\n",
       "      <td>SLV</td>\n",
       "      <td>-0.006124</td>\n",
       "      <td>0.00</td>\n",
       "    </tr>\n",
       "    <tr>\n",
       "      <th>5</th>\n",
       "      <td>2019-10-01</td>\n",
       "      <td>15.96</td>\n",
       "      <td>16.21</td>\n",
       "      <td>15.91</td>\n",
       "      <td>16.15</td>\n",
       "      <td>23278100.0</td>\n",
       "      <td>SLV</td>\n",
       "      <td>-0.011905</td>\n",
       "      <td>-0.28</td>\n",
       "    </tr>\n",
       "    <tr>\n",
       "      <th>6</th>\n",
       "      <td>2019-09-30</td>\n",
       "      <td>16.03</td>\n",
       "      <td>16.10</td>\n",
       "      <td>15.83</td>\n",
       "      <td>15.92</td>\n",
       "      <td>29218300.0</td>\n",
       "      <td>SLV</td>\n",
       "      <td>0.006862</td>\n",
       "      <td>-0.23</td>\n",
       "    </tr>\n",
       "    <tr>\n",
       "      <th>7</th>\n",
       "      <td>2019-09-27</td>\n",
       "      <td>16.26</td>\n",
       "      <td>16.49</td>\n",
       "      <td>16.19</td>\n",
       "      <td>16.36</td>\n",
       "      <td>25234800.0</td>\n",
       "      <td>SLV</td>\n",
       "      <td>-0.006150</td>\n",
       "      <td>0.44</td>\n",
       "    </tr>\n",
       "    <tr>\n",
       "      <th>8</th>\n",
       "      <td>2019-09-26</td>\n",
       "      <td>16.76</td>\n",
       "      <td>16.89</td>\n",
       "      <td>16.63</td>\n",
       "      <td>16.67</td>\n",
       "      <td>20319100.0</td>\n",
       "      <td>SLV</td>\n",
       "      <td>0.005370</td>\n",
       "      <td>0.31</td>\n",
       "    </tr>\n",
       "    <tr>\n",
       "      <th>9</th>\n",
       "      <td>2019-09-25</td>\n",
       "      <td>17.29</td>\n",
       "      <td>17.35</td>\n",
       "      <td>16.67</td>\n",
       "      <td>16.71</td>\n",
       "      <td>29406000.0</td>\n",
       "      <td>SLV</td>\n",
       "      <td>0.033545</td>\n",
       "      <td>0.04</td>\n",
       "    </tr>\n",
       "    <tr>\n",
       "      <th>10</th>\n",
       "      <td>2019-09-24</td>\n",
       "      <td>17.20</td>\n",
       "      <td>17.46</td>\n",
       "      <td>17.07</td>\n",
       "      <td>17.44</td>\n",
       "      <td>27612500.0</td>\n",
       "      <td>SLV</td>\n",
       "      <td>-0.013953</td>\n",
       "      <td>0.73</td>\n",
       "    </tr>\n",
       "    <tr>\n",
       "      <th>11</th>\n",
       "      <td>2019-09-23</td>\n",
       "      <td>17.29</td>\n",
       "      <td>17.51</td>\n",
       "      <td>17.26</td>\n",
       "      <td>17.51</td>\n",
       "      <td>24136900.0</td>\n",
       "      <td>SLV</td>\n",
       "      <td>-0.012724</td>\n",
       "      <td>0.07</td>\n",
       "    </tr>\n",
       "    <tr>\n",
       "      <th>12</th>\n",
       "      <td>2019-09-20</td>\n",
       "      <td>16.65</td>\n",
       "      <td>16.80</td>\n",
       "      <td>16.61</td>\n",
       "      <td>16.80</td>\n",
       "      <td>14256300.0</td>\n",
       "      <td>SLV</td>\n",
       "      <td>-0.009009</td>\n",
       "      <td>-0.71</td>\n",
       "    </tr>\n",
       "    <tr>\n",
       "      <th>13</th>\n",
       "      <td>2019-09-19</td>\n",
       "      <td>16.72</td>\n",
       "      <td>16.75</td>\n",
       "      <td>16.61</td>\n",
       "      <td>16.62</td>\n",
       "      <td>10522200.0</td>\n",
       "      <td>SLV</td>\n",
       "      <td>0.005981</td>\n",
       "      <td>-0.18</td>\n",
       "    </tr>\n",
       "    <tr>\n",
       "      <th>14</th>\n",
       "      <td>2019-09-18</td>\n",
       "      <td>16.75</td>\n",
       "      <td>16.84</td>\n",
       "      <td>16.38</td>\n",
       "      <td>16.55</td>\n",
       "      <td>28967300.0</td>\n",
       "      <td>SLV</td>\n",
       "      <td>0.011940</td>\n",
       "      <td>-0.07</td>\n",
       "    </tr>\n",
       "    <tr>\n",
       "      <th>15</th>\n",
       "      <td>2019-09-17</td>\n",
       "      <td>16.73</td>\n",
       "      <td>16.92</td>\n",
       "      <td>16.66</td>\n",
       "      <td>16.86</td>\n",
       "      <td>12763400.0</td>\n",
       "      <td>SLV</td>\n",
       "      <td>-0.007770</td>\n",
       "      <td>0.31</td>\n",
       "    </tr>\n",
       "    <tr>\n",
       "      <th>16</th>\n",
       "      <td>2019-09-16</td>\n",
       "      <td>16.71</td>\n",
       "      <td>16.84</td>\n",
       "      <td>16.60</td>\n",
       "      <td>16.74</td>\n",
       "      <td>21190000.0</td>\n",
       "      <td>SLV</td>\n",
       "      <td>-0.001795</td>\n",
       "      <td>-0.12</td>\n",
       "    </tr>\n",
       "    <tr>\n",
       "      <th>17</th>\n",
       "      <td>2019-09-13</td>\n",
       "      <td>16.90</td>\n",
       "      <td>16.94</td>\n",
       "      <td>16.28</td>\n",
       "      <td>16.31</td>\n",
       "      <td>42317000.0</td>\n",
       "      <td>SLV</td>\n",
       "      <td>0.034911</td>\n",
       "      <td>-0.43</td>\n",
       "    </tr>\n",
       "    <tr>\n",
       "      <th>18</th>\n",
       "      <td>2019-09-12</td>\n",
       "      <td>16.98</td>\n",
       "      <td>17.11</td>\n",
       "      <td>16.85</td>\n",
       "      <td>16.92</td>\n",
       "      <td>29348700.0</td>\n",
       "      <td>SLV</td>\n",
       "      <td>0.003534</td>\n",
       "      <td>0.61</td>\n",
       "    </tr>\n",
       "    <tr>\n",
       "      <th>19</th>\n",
       "      <td>2019-09-11</td>\n",
       "      <td>16.80</td>\n",
       "      <td>16.98</td>\n",
       "      <td>16.79</td>\n",
       "      <td>16.95</td>\n",
       "      <td>16979400.0</td>\n",
       "      <td>SLV</td>\n",
       "      <td>-0.008929</td>\n",
       "      <td>0.03</td>\n",
       "    </tr>\n",
       "  </tbody>\n",
       "</table>\n",
       "</div>"
      ],
      "text/plain": [
       "         date   open   high    low  close      volume symbol  daily_movement  \\\n",
       "0  2019-10-08  16.60  16.66  16.49  16.61  19326217.0    SLV       -0.000602   \n",
       "1  2019-10-07  16.38  16.46  16.28  16.30   8359926.0    SLV        0.004884   \n",
       "2  2019-10-04  16.30  16.46  16.25  16.41  17200800.0    SLV       -0.006748   \n",
       "3  2019-10-03  16.38  16.65  16.37  16.43  24412700.0    SLV       -0.003053   \n",
       "4  2019-10-02  16.33  16.54  16.27  16.43  21300800.0    SLV       -0.006124   \n",
       "5  2019-10-01  15.96  16.21  15.91  16.15  23278100.0    SLV       -0.011905   \n",
       "6  2019-09-30  16.03  16.10  15.83  15.92  29218300.0    SLV        0.006862   \n",
       "7  2019-09-27  16.26  16.49  16.19  16.36  25234800.0    SLV       -0.006150   \n",
       "8  2019-09-26  16.76  16.89  16.63  16.67  20319100.0    SLV        0.005370   \n",
       "9  2019-09-25  17.29  17.35  16.67  16.71  29406000.0    SLV        0.033545   \n",
       "10 2019-09-24  17.20  17.46  17.07  17.44  27612500.0    SLV       -0.013953   \n",
       "11 2019-09-23  17.29  17.51  17.26  17.51  24136900.0    SLV       -0.012724   \n",
       "12 2019-09-20  16.65  16.80  16.61  16.80  14256300.0    SLV       -0.009009   \n",
       "13 2019-09-19  16.72  16.75  16.61  16.62  10522200.0    SLV        0.005981   \n",
       "14 2019-09-18  16.75  16.84  16.38  16.55  28967300.0    SLV        0.011940   \n",
       "15 2019-09-17  16.73  16.92  16.66  16.86  12763400.0    SLV       -0.007770   \n",
       "16 2019-09-16  16.71  16.84  16.60  16.74  21190000.0    SLV       -0.001795   \n",
       "17 2019-09-13  16.90  16.94  16.28  16.31  42317000.0    SLV        0.034911   \n",
       "18 2019-09-12  16.98  17.11  16.85  16.92  29348700.0    SLV        0.003534   \n",
       "19 2019-09-11  16.80  16.98  16.79  16.95  16979400.0    SLV       -0.008929   \n",
       "\n",
       "    daily_Rn  \n",
       "0       0.00  \n",
       "1      -0.31  \n",
       "2       0.11  \n",
       "3       0.02  \n",
       "4       0.00  \n",
       "5      -0.28  \n",
       "6      -0.23  \n",
       "7       0.44  \n",
       "8       0.31  \n",
       "9       0.04  \n",
       "10      0.73  \n",
       "11      0.07  \n",
       "12     -0.71  \n",
       "13     -0.18  \n",
       "14     -0.07  \n",
       "15      0.31  \n",
       "16     -0.12  \n",
       "17     -0.43  \n",
       "18      0.61  \n",
       "19      0.03  "
      ]
     },
     "execution_count": 11,
     "metadata": {},
     "output_type": "execute_result"
    }
   ],
   "source": [
    "df_clean['daily_movement'] = (df_clean.open-df_clean.close)/df_clean.open\n",
    "df_clean['daily_Rn'] = df_clean['close']-df_clean['close'].shift(1)\n",
    "df_clean = df_clean.fillna(value=0)\n",
    "df_clean.head(20)"
   ]
  },
  {
   "cell_type": "code",
   "execution_count": 222,
   "metadata": {
    "scrolled": true
   },
   "outputs": [
    {
     "data": {
      "text/plain": [
       "True    3384\n",
       "Name: date, dtype: int64"
      ]
     },
     "execution_count": 222,
     "metadata": {},
     "output_type": "execute_result"
    }
   ],
   "source": [
    "df_clean_SLV = df_clean.loc[df_clean['symbol'] == 'SLV'][['date','symbol','open','close','daily_movement','daily_Rn']]\n",
    "df_clean_GLD = df_clean.loc[df_clean['symbol'] == 'GLD'][['date','symbol','open','close','daily_movement','daily_Rn']]\n",
    "df_clean_SLV.date.isin(df_clean_GLD.date).value_counts()"
   ]
  },
  {
   "cell_type": "code",
   "execution_count": 223,
   "metadata": {},
   "outputs": [
    {
     "data": {
      "image/png": "[encoded data removed]",
      "text/plain": [
       "<Figure size 432x288 with 1 Axes>"
      ]
     },
     "metadata": {
      "needs_background": "light"
     },
     "output_type": "display_data"
    }
   ],
   "source": [
    "df_clean_SLV['scale'] = df_clean_SLV['close']/df_clean_SLV.iloc[3379]['close']\n",
    "df_clean_GLD['scale'] = df_clean_GLD['close']/df_clean_GLD.iloc[3379]['close']\n",
    "\n",
    "plt.plot(df_clean_SLV['date'], df_clean_SLV['scale'],label='Silver Price')\n",
    "plt.plot(df_clean_GLD['date'], df_clean_GLD['scale'],label='Gold Price')\n",
    "plt.title(\"Silver Price vs Gold Price, Normalized to 2006/05/04\")\n",
    "plt.legend();"
   ]
  },
  {
   "cell_type": "code",
   "execution_count": 224,
   "metadata": {},
   "outputs": [
    {
     "name": "stdout",
     "output_type": "stream",
     "text": [
      "(3384, 15)\n"
     ]
    }
   ],
   "source": [
    "df_slv_vs_gld = pd.merge(df_clean_SLV,\n",
    "                         df_clean_GLD,\n",
    "                         how='left',\n",
    "                         on='date',\n",
    "                         suffixes=('_SLV', '_GLD'))\n",
    "df_slv_vs_gld['delta'] = df_slv_vs_gld['daily_movement_SLV']-df_slv_vs_gld['daily_movement_GLD']\n",
    "df_slv_vs_gld['delta_Rn'] = df_slv_vs_gld['daily_Rn_SLV']-df_slv_vs_gld['daily_Rn_GLD']\n",
    "print(df_slv_vs_gld.shape)\n",
    "\n",
    "\n"
   ]
  },
  {
   "cell_type": "code",
   "execution_count": 191,
   "metadata": {},
   "outputs": [],
   "source": [
    "import seaborn as sns\n",
    "import matplotlib.pyplot as plt"
   ]
  },
  {
   "cell_type": "code",
   "execution_count": 216,
   "metadata": {},
   "outputs": [
    {
     "data": {
      "image/png": "[encoded data removed]",
      "text/plain": [
       "<Figure size 432x288 with 4 Axes>"
      ]
     },
     "metadata": {
      "needs_background": "light"
     },
     "output_type": "display_data"
    }
   ],
   "source": [
    "fig,ax = plt.subplots(2,2)\n",
    "\n",
    "sns.boxplot(df_slv_vs_gld['daily_movement_SLV'],ax=ax[0,0])\n",
    "sns.distplot(df_slv_vs_gld['daily_movement_SLV'],ax=ax[0,1],label='silver')\n",
    "sns.boxplot(df_slv_vs_gld['daily_movement_GLD'],ax=ax[1,0])\n",
    "sns.distplot(df_slv_vs_gld['daily_movement_GLD'],ax=ax[1,1],label='gold')\n",
    "fig.legend();"
   ]
  },
  {
   "cell_type": "code",
   "execution_count": 217,
   "metadata": {},
   "outputs": [
    {
     "data": {
      "image/png": "[encoded data removed]",
      "text/plain": [
       "<Figure size 432x288 with 1 Axes>"
      ]
     },
     "metadata": {
      "needs_background": "light"
     },
     "output_type": "display_data"
    },
    {
     "data": {
      "image/png": "[encoded data removed]",
      "text/plain": [
       "<Figure size 432x288 with 1 Axes>"
      ]
     },
     "metadata": {
      "needs_background": "light"
     },
     "output_type": "display_data"
    }
   ],
   "source": [
    "import statsmodels.api as sm\n",
    "# fig,ax = plt.subplots(2,1)\n",
    "ax[0] = sm.qqplot(df_slv_vs_gld['daily_movement_SLV'], line = 'r')\n",
    "plt.title('Silver daily movement')\n",
    "\n",
    "ax[1] = sm.qqplot(df_slv_vs_gld['daily_movement_GLD'], line = 'r')\n",
    "plt.title('Gold daily movement')\n",
    "\n",
    "plt.show()"
   ]
  },
  {
   "cell_type": "code",
   "execution_count": 234,
   "metadata": {},
   "outputs": [
    {
     "data": {
      "text/html": [
       "<div>\n",
       "<style scoped>\n",
       "    .dataframe tbody tr th:only-of-type {\n",
       "        vertical-align: middle;\n",
       "    }\n",
       "\n",
       "    .dataframe tbody tr th {\n",
       "        vertical-align: top;\n",
       "    }\n",
       "\n",
       "    .dataframe thead th {\n",
       "        text-align: right;\n",
       "    }\n",
       "</style>\n",
       "<table border=\"1\" class=\"dataframe\">\n",
       "  <thead>\n",
       "    <tr style=\"text-align: right;\">\n",
       "      <th></th>\n",
       "      <th>date</th>\n",
       "      <th>symbol_SLV</th>\n",
       "      <th>open_SLV</th>\n",
       "      <th>close_SLV</th>\n",
       "      <th>daily_movement_SLV</th>\n",
       "      <th>daily_Rn_SLV</th>\n",
       "      <th>scale_SLV</th>\n",
       "      <th>symbol_GLD</th>\n",
       "      <th>open_GLD</th>\n",
       "      <th>close_GLD</th>\n",
       "      <th>daily_movement_GLD</th>\n",
       "      <th>daily_Rn_GLD</th>\n",
       "      <th>scale_GLD</th>\n",
       "      <th>delta</th>\n",
       "      <th>delta_Rn</th>\n",
       "    </tr>\n",
       "  </thead>\n",
       "  <tbody>\n",
       "    <tr>\n",
       "      <th>1</th>\n",
       "      <td>2019-10-04</td>\n",
       "      <td>SLV</td>\n",
       "      <td>16.30</td>\n",
       "      <td>16.41</td>\n",
       "      <td>-0.006748</td>\n",
       "      <td>0.006726</td>\n",
       "      <td>1.172143</td>\n",
       "      <td>GLD</td>\n",
       "      <td>141.48</td>\n",
       "      <td>141.90</td>\n",
       "      <td>-0.002969</td>\n",
       "      <td>0.008564</td>\n",
       "      <td>2.102845</td>\n",
       "      <td>-0.003780</td>\n",
       "      <td>-0.001838</td>\n",
       "    </tr>\n",
       "    <tr>\n",
       "      <th>2</th>\n",
       "      <td>2019-10-03</td>\n",
       "      <td>SLV</td>\n",
       "      <td>16.38</td>\n",
       "      <td>16.43</td>\n",
       "      <td>-0.003053</td>\n",
       "      <td>0.001218</td>\n",
       "      <td>1.173571</td>\n",
       "      <td>GLD</td>\n",
       "      <td>141.36</td>\n",
       "      <td>141.90</td>\n",
       "      <td>-0.003820</td>\n",
       "      <td>0.000000</td>\n",
       "      <td>2.102845</td>\n",
       "      <td>0.000768</td>\n",
       "      <td>0.001218</td>\n",
       "    </tr>\n",
       "    <tr>\n",
       "      <th>3</th>\n",
       "      <td>2019-10-02</td>\n",
       "      <td>SLV</td>\n",
       "      <td>16.33</td>\n",
       "      <td>16.43</td>\n",
       "      <td>-0.006124</td>\n",
       "      <td>0.000000</td>\n",
       "      <td>1.173571</td>\n",
       "      <td>GLD</td>\n",
       "      <td>140.79</td>\n",
       "      <td>141.26</td>\n",
       "      <td>-0.003338</td>\n",
       "      <td>-0.004520</td>\n",
       "      <td>2.093361</td>\n",
       "      <td>-0.002785</td>\n",
       "      <td>0.004520</td>\n",
       "    </tr>\n",
       "    <tr>\n",
       "      <th>4</th>\n",
       "      <td>2019-10-01</td>\n",
       "      <td>SLV</td>\n",
       "      <td>15.96</td>\n",
       "      <td>16.15</td>\n",
       "      <td>-0.011905</td>\n",
       "      <td>-0.017189</td>\n",
       "      <td>1.153571</td>\n",
       "      <td>GLD</td>\n",
       "      <td>138.07</td>\n",
       "      <td>139.63</td>\n",
       "      <td>-0.011299</td>\n",
       "      <td>-0.011606</td>\n",
       "      <td>2.069206</td>\n",
       "      <td>-0.000606</td>\n",
       "      <td>-0.005583</td>\n",
       "    </tr>\n",
       "    <tr>\n",
       "      <th>5</th>\n",
       "      <td>2019-09-30</td>\n",
       "      <td>SLV</td>\n",
       "      <td>16.03</td>\n",
       "      <td>15.92</td>\n",
       "      <td>0.006862</td>\n",
       "      <td>-0.014344</td>\n",
       "      <td>1.137143</td>\n",
       "      <td>GLD</td>\n",
       "      <td>139.77</td>\n",
       "      <td>138.87</td>\n",
       "      <td>0.006439</td>\n",
       "      <td>-0.005458</td>\n",
       "      <td>2.057943</td>\n",
       "      <td>0.000423</td>\n",
       "      <td>-0.008886</td>\n",
       "    </tr>\n",
       "  </tbody>\n",
       "</table>\n",
       "</div>"
      ],
      "text/plain": [
       "        date symbol_SLV  open_SLV  close_SLV  daily_movement_SLV  \\\n",
       "1 2019-10-04        SLV     16.30      16.41           -0.006748   \n",
       "2 2019-10-03        SLV     16.38      16.43           -0.003053   \n",
       "3 2019-10-02        SLV     16.33      16.43           -0.006124   \n",
       "4 2019-10-01        SLV     15.96      16.15           -0.011905   \n",
       "5 2019-09-30        SLV     16.03      15.92            0.006862   \n",
       "\n",
       "   daily_Rn_SLV  scale_SLV symbol_GLD  open_GLD  close_GLD  \\\n",
       "1      0.006726   1.172143        GLD    141.48     141.90   \n",
       "2      0.001218   1.173571        GLD    141.36     141.90   \n",
       "3      0.000000   1.173571        GLD    140.79     141.26   \n",
       "4     -0.017189   1.153571        GLD    138.07     139.63   \n",
       "5     -0.014344   1.137143        GLD    139.77     138.87   \n",
       "\n",
       "   daily_movement_GLD  daily_Rn_GLD  scale_GLD     delta  delta_Rn  \n",
       "1           -0.002969      0.008564   2.102845 -0.003780 -0.001838  \n",
       "2           -0.003820      0.000000   2.102845  0.000768  0.001218  \n",
       "3           -0.003338     -0.004520   2.093361 -0.002785  0.004520  \n",
       "4           -0.011299     -0.011606   2.069206 -0.000606 -0.005583  \n",
       "5            0.006439     -0.005458   2.057943  0.000423 -0.008886  "
      ]
     },
     "execution_count": 234,
     "metadata": {},
     "output_type": "execute_result"
    }
   ],
   "source": [
    "data = df_slv_vs_gld[(np.abs(stats.zscore(df_slv_vs_gld[['daily_Rn_SLV','daily_Rn_GLD','daily_movement_SLV','daily_movement_GLD','delta','delta_Rn']])) < 3).all(axis=1)]\n",
    "data.head()"
   ]
  },
  {
   "cell_type": "code",
   "execution_count": 205,
   "metadata": {},
   "outputs": [
    {
     "data": {
      "image/png": "[encoded data removed]",
      "text/plain": [
       "<Figure size 432x288 with 4 Axes>"
      ]
     },
     "metadata": {
      "needs_background": "light"
     },
     "output_type": "display_data"
    }
   ],
   "source": [
    "fig,ax = plt.subplots(2,2)\n",
    "\n",
    "sns.boxplot(data['daily_movement_SLV'],ax=ax[0,0])\n",
    "sns.distplot(data['daily_movement_SLV'],ax=ax[0,1],label='silver')\n",
    "sns.boxplot(data['daily_movement_GLD'],ax=ax[1,0])\n",
    "sns.distplot(data['daily_movement_GLD'][:750],ax=ax[1,1],label='gold')\n",
    "fig.legend();"
   ]
  },
  {
   "cell_type": "code",
   "execution_count": 206,
   "metadata": {},
   "outputs": [
    {
     "data": {
      "text/plain": [
       "(-1.6528793981223417, 0.09877447768925207)"
      ]
     },
     "execution_count": 206,
     "metadata": {},
     "output_type": "execute_result"
    }
   ],
   "source": [
    "import scipy.stats as stats\n",
    "t,p = stats.ttest_rel(data['daily_movement_GLD'][:750],data['daily_movement_SLV'][:750])\n",
    "t,p"
   ]
  },
  {
   "cell_type": "code",
   "execution_count": 207,
   "metadata": {},
   "outputs": [
    {
     "data": {
      "text/plain": [
       "(-0.5910082371544634, 0.5546932019769484)"
      ]
     },
     "execution_count": 207,
     "metadata": {},
     "output_type": "execute_result"
    }
   ],
   "source": [
    "import scipy.stats as stats\n",
    "t,p = stats.ttest_rel(data['daily_Rn_GLD'][:750],data['daily_Rn_SLV'][:750])\n",
    "t,p"
   ]
  },
  {
   "cell_type": "markdown",
   "metadata": {},
   "source": [
    "## Looking at weekly volatility"
   ]
  },
  {
   "cell_type": "code",
   "execution_count": 220,
   "metadata": {},
   "outputs": [
    {
     "data": {
      "text/html": [
       "<div>\n",
       "<style scoped>\n",
       "    .dataframe tbody tr th:only-of-type {\n",
       "        vertical-align: middle;\n",
       "    }\n",
       "\n",
       "    .dataframe tbody tr th {\n",
       "        vertical-align: top;\n",
       "    }\n",
       "\n",
       "    .dataframe thead th {\n",
       "        text-align: right;\n",
       "    }\n",
       "</style>\n",
       "<table border=\"1\" class=\"dataframe\">\n",
       "  <thead>\n",
       "    <tr style=\"text-align: right;\">\n",
       "      <th></th>\n",
       "      <th>date</th>\n",
       "      <th>symbol</th>\n",
       "      <th>close</th>\n",
       "      <th>daily_movement</th>\n",
       "      <th>daily_Rn</th>\n",
       "      <th>scale</th>\n",
       "    </tr>\n",
       "  </thead>\n",
       "  <tbody>\n",
       "    <tr>\n",
       "      <th>5768</th>\n",
       "      <td>2019-10-07</td>\n",
       "      <td>GLD</td>\n",
       "      <td>140.69</td>\n",
       "      <td>0.003330</td>\n",
       "      <td>2.255994</td>\n",
       "      <td>2.084914</td>\n",
       "    </tr>\n",
       "    <tr>\n",
       "      <th>5769</th>\n",
       "      <td>2019-10-04</td>\n",
       "      <td>GLD</td>\n",
       "      <td>141.90</td>\n",
       "      <td>-0.002969</td>\n",
       "      <td>0.008564</td>\n",
       "      <td>2.102845</td>\n",
       "    </tr>\n",
       "    <tr>\n",
       "      <th>5770</th>\n",
       "      <td>2019-10-03</td>\n",
       "      <td>GLD</td>\n",
       "      <td>141.90</td>\n",
       "      <td>-0.003820</td>\n",
       "      <td>0.000000</td>\n",
       "      <td>2.102845</td>\n",
       "    </tr>\n",
       "    <tr>\n",
       "      <th>5771</th>\n",
       "      <td>2019-10-02</td>\n",
       "      <td>GLD</td>\n",
       "      <td>141.26</td>\n",
       "      <td>-0.003338</td>\n",
       "      <td>-0.004520</td>\n",
       "      <td>2.093361</td>\n",
       "    </tr>\n",
       "    <tr>\n",
       "      <th>5772</th>\n",
       "      <td>2019-10-01</td>\n",
       "      <td>GLD</td>\n",
       "      <td>139.63</td>\n",
       "      <td>-0.011299</td>\n",
       "      <td>-0.011606</td>\n",
       "      <td>2.069206</td>\n",
       "    </tr>\n",
       "  </tbody>\n",
       "</table>\n",
       "</div>"
      ],
      "text/plain": [
       "           date symbol   close  daily_movement  daily_Rn     scale\n",
       "5768 2019-10-07    GLD  140.69        0.003330  2.255994  2.084914\n",
       "5769 2019-10-04    GLD  141.90       -0.002969  0.008564  2.102845\n",
       "5770 2019-10-03    GLD  141.90       -0.003820  0.000000  2.102845\n",
       "5771 2019-10-02    GLD  141.26       -0.003338 -0.004520  2.093361\n",
       "5772 2019-10-01    GLD  139.63       -0.011299 -0.011606  2.069206"
      ]
     },
     "execution_count": 220,
     "metadata": {},
     "output_type": "execute_result"
    }
   ],
   "source": [
    "df_clean_GLD.head()"
   ]
  },
  {
   "cell_type": "code",
   "execution_count": 248,
   "metadata": {},
   "outputs": [
    {
     "name": "stdout",
     "output_type": "stream",
     "text": [
      "(261, 9)\n"
     ]
    },
    {
     "data": {
      "text/html": [
       "<div>\n",
       "<style scoped>\n",
       "    .dataframe tbody tr th:only-of-type {\n",
       "        vertical-align: middle;\n",
       "    }\n",
       "\n",
       "    .dataframe tbody tr th {\n",
       "        vertical-align: top;\n",
       "    }\n",
       "\n",
       "    .dataframe thead th {\n",
       "        text-align: right;\n",
       "    }\n",
       "</style>\n",
       "<table border=\"1\" class=\"dataframe\">\n",
       "  <thead>\n",
       "    <tr style=\"text-align: right;\">\n",
       "      <th></th>\n",
       "      <th>date</th>\n",
       "      <th>open_SLV</th>\n",
       "      <th>close_SLV</th>\n",
       "      <th>wk_movement_SLV</th>\n",
       "      <th>wk_Rn_SLV</th>\n",
       "      <th>open_GLD</th>\n",
       "      <th>close_GLD</th>\n",
       "      <th>wk_movement_GLD</th>\n",
       "      <th>wk_Rn_GLD</th>\n",
       "    </tr>\n",
       "  </thead>\n",
       "  <tbody>\n",
       "    <tr>\n",
       "      <th>257</th>\n",
       "      <td>2014-11-09</td>\n",
       "      <td>15.01200</td>\n",
       "      <td>15.084</td>\n",
       "      <td>-0.004796</td>\n",
       "      <td>-0.003177</td>\n",
       "      <td>111.026</td>\n",
       "      <td>111.402</td>\n",
       "      <td>-0.003387</td>\n",
       "      <td>-0.005604</td>\n",
       "    </tr>\n",
       "    <tr>\n",
       "      <th>258</th>\n",
       "      <td>2014-11-02</td>\n",
       "      <td>16.16124</td>\n",
       "      <td>16.122</td>\n",
       "      <td>0.002428</td>\n",
       "      <td>0.066550</td>\n",
       "      <td>116.388</td>\n",
       "      <td>116.084</td>\n",
       "      <td>0.002612</td>\n",
       "      <td>0.041169</td>\n",
       "    </tr>\n",
       "    <tr>\n",
       "      <th>259</th>\n",
       "      <td>2014-10-26</td>\n",
       "      <td>16.62784</td>\n",
       "      <td>16.600</td>\n",
       "      <td>0.001674</td>\n",
       "      <td>0.029218</td>\n",
       "      <td>119.394</td>\n",
       "      <td>119.206</td>\n",
       "      <td>0.001575</td>\n",
       "      <td>0.026539</td>\n",
       "    </tr>\n",
       "    <tr>\n",
       "      <th>260</th>\n",
       "      <td>2014-10-19</td>\n",
       "      <td>16.67012</td>\n",
       "      <td>16.674</td>\n",
       "      <td>-0.000233</td>\n",
       "      <td>0.004448</td>\n",
       "      <td>118.806</td>\n",
       "      <td>118.862</td>\n",
       "      <td>-0.000471</td>\n",
       "      <td>-0.002890</td>\n",
       "    </tr>\n",
       "    <tr>\n",
       "      <th>261</th>\n",
       "      <td>2014-10-12</td>\n",
       "      <td>16.59600</td>\n",
       "      <td>16.604</td>\n",
       "      <td>-0.000482</td>\n",
       "      <td>-0.004207</td>\n",
       "      <td>116.812</td>\n",
       "      <td>117.018</td>\n",
       "      <td>-0.001764</td>\n",
       "      <td>-0.015635</td>\n",
       "    </tr>\n",
       "  </tbody>\n",
       "</table>\n",
       "</div>"
      ],
      "text/plain": [
       "          date  open_SLV  close_SLV  wk_movement_SLV  wk_Rn_SLV  open_GLD  \\\n",
       "257 2014-11-09  15.01200     15.084        -0.004796  -0.003177   111.026   \n",
       "258 2014-11-02  16.16124     16.122         0.002428   0.066550   116.388   \n",
       "259 2014-10-26  16.62784     16.600         0.001674   0.029218   119.394   \n",
       "260 2014-10-19  16.67012     16.674        -0.000233   0.004448   118.806   \n",
       "261 2014-10-12  16.59600     16.604        -0.000482  -0.004207   116.812   \n",
       "\n",
       "     close_GLD  wk_movement_GLD  wk_Rn_GLD  \n",
       "257    111.402        -0.003387  -0.005604  \n",
       "258    116.084         0.002612   0.041169  \n",
       "259    119.206         0.001575   0.026539  \n",
       "260    118.862        -0.000471  -0.002890  \n",
       "261    117.018        -0.001764  -0.015635  "
      ]
     },
     "execution_count": 248,
     "metadata": {},
     "output_type": "execute_result"
    }
   ],
   "source": [
    "gld_weekly = df_clean_GLD.groupby(['symbol',pd.Grouper(key='date',freq='W')]).mean().reset_index().sort_values('date',ascending=False)[['date','open','close']]\n",
    "slv_weekly = df_clean_SLV.groupby(['symbol',pd.Grouper(key='date',freq='W')]).mean().reset_index().sort_values('date',ascending=False)[['date','open','close']]\n",
    "\n",
    "gld_weekly['wk_movement'] = (gld_weekly.open-gld_weekly.close)/gld_weekly.open\n",
    "slv_weekly['wk_movement'] = (slv_weekly.open-slv_weekly.close)/slv_weekly.open\n",
    "\n",
    "gld_weekly['wk_Rn'] = np.log(gld_weekly['close']/gld_weekly['close'].shift(1))\n",
    "slv_weekly['wk_Rn'] = np.log(slv_weekly['close']/slv_weekly['close'].shift(1))\n",
    "gld_weekly = gld_weekly.fillna(value=0)\n",
    "slv_weekly = slv_weekly.fillna(value=0)\n",
    "\n",
    "df_slv_vs_gld_wk = pd.merge(slv_weekly,\n",
    "                            gld_weekly,\n",
    "                            how='left',\n",
    "                            on='date',\n",
    "                            suffixes=('_SLV', '_GLD'))\n",
    "\n",
    "df_slv_vs_gld_wk = df_slv_vs_gld_wk[(np.abs(stats.zscore(df_slv_vs_gld_wk[['wk_Rn_SLV','wk_Rn_GLD','wk_movement_SLV','wk_movement_GLD']])) < 3).all(axis=1)]\n",
    "data.head()\n",
    "\n",
    "df_slv_vs_gld_wk = df_slv_vs_gld_wk.loc[df_slv_vs_gld_wk.date>'2014-10-06']\n",
    "print(df_slv_vs_gld_wk.shape)\n",
    "df_slv_vs_gld_wk.tail()\n"
   ]
  },
  {
   "cell_type": "code",
   "execution_count": 249,
   "metadata": {
    "scrolled": false
   },
   "outputs": [
    {
     "data": {
      "image/png": "[encoded data removed]",
      "text/plain": [
       "<Figure size 432x288 with 4 Axes>"
      ]
     },
     "metadata": {
      "needs_background": "light"
     },
     "output_type": "display_data"
    }
   ],
   "source": [
    "fig,row = plt.subplots(2,1, tight_layout=True)\n",
    "\n",
    "sns.boxplot(df_slv_vs_gld_wk['wk_movement_SLV'],ax=ax[0,0])\n",
    "sns.distplot(df_slv_vs_gld_wk['wk_movement_SLV'],ax=ax[0,1],label='silver')\n",
    "sns.boxplot(df_slv_vs_gld_wk['wk_movement_GLD'],ax=ax[1,0])\n",
    "sns.distplot(df_slv_vs_gld_wk['wk_movement_GLD'],ax=ax[1,1],label='gold')\n",
    "fig.legend();"
   ]
  },
  {
   "cell_type": "code",
   "execution_count": 250,
   "metadata": {},
   "outputs": [
    {
     "data": {
      "image/png": "[encoded data removed]",
      "text/plain": [
       "<Figure size 432x288 with 4 Axes>"
      ]
     },
     "metadata": {
      "needs_background": "light"
     },
     "output_type": "display_data"
    }
   ],
   "source": [
    "fig,ax = plt.subplots(2,2, tight_layout=True)\n",
    "\n",
    "sns.boxplot(df_slv_vs_gld_wk['wk_Rn_SLV'],ax=ax[0,0])\n",
    "sns.distplot(df_slv_vs_gld_wk['wk_Rn_SLV'],ax=ax[0,1],label='silver')\n",
    "sns.boxplot(df_slv_vs_gld_wk['wk_Rn_GLD'],ax=ax[1,0])\n",
    "sns.distplot(df_slv_vs_gld_wk['wk_Rn_GLD'],ax=ax[1,1],label='gold')\n",
    "fig.legend();"
   ]
  },
  {
   "cell_type": "code",
   "execution_count": 252,
   "metadata": {},
   "outputs": [
    {
     "data": {
      "text/plain": [
       "(2.4433028325928396, 0.01521925074267192)"
      ]
     },
     "execution_count": 252,
     "metadata": {},
     "output_type": "execute_result"
    }
   ],
   "source": [
    "t,p = stats.ttest_rel(df_slv_vs_gld_wk['wk_movement_SLV'],df_slv_vs_gld_wk['wk_movement_GLD'])\n",
    "t,p"
   ]
  },
  {
   "cell_type": "code",
   "execution_count": 254,
   "metadata": {},
   "outputs": [
    {
     "data": {
      "text/plain": [
       "(0.654477091585105, 0.5133830003297393)"
      ]
     },
     "execution_count": 254,
     "metadata": {},
     "output_type": "execute_result"
    }
   ],
   "source": [
    "t,p = stats.ttest_rel(df_slv_vs_gld_wk['wk_Rn_SLV'],df_slv_vs_gld_wk['wk_Rn_GLD'])\n",
    "t,p"
   ]
  },
  {
   "cell_type": "markdown",
   "metadata": {},
   "source": [
    "## Looking at monthly volatility"
   ]
  },
  {
   "cell_type": "code",
   "execution_count": 255,
   "metadata": {},
   "outputs": [
    {
     "name": "stdout",
     "output_type": "stream",
     "text": [
      "(61, 9)\n"
     ]
    },
    {
     "data": {
      "text/html": [
       "<div>\n",
       "<style scoped>\n",
       "    .dataframe tbody tr th:only-of-type {\n",
       "        vertical-align: middle;\n",
       "    }\n",
       "\n",
       "    .dataframe tbody tr th {\n",
       "        vertical-align: top;\n",
       "    }\n",
       "\n",
       "    .dataframe thead th {\n",
       "        text-align: right;\n",
       "    }\n",
       "</style>\n",
       "<table border=\"1\" class=\"dataframe\">\n",
       "  <thead>\n",
       "    <tr style=\"text-align: right;\">\n",
       "      <th></th>\n",
       "      <th>date</th>\n",
       "      <th>open_SLV</th>\n",
       "      <th>close_SLV</th>\n",
       "      <th>mo_movement_SLV</th>\n",
       "      <th>mo_Rn_SLV</th>\n",
       "      <th>open_GLD</th>\n",
       "      <th>close_GLD</th>\n",
       "      <th>mo_movement_GLD</th>\n",
       "      <th>mo_Rn_GLD</th>\n",
       "    </tr>\n",
       "  </thead>\n",
       "  <tbody>\n",
       "    <tr>\n",
       "      <th>56</th>\n",
       "      <td>2015-02-28</td>\n",
       "      <td>16.086826</td>\n",
       "      <td>16.057368</td>\n",
       "      <td>0.001831</td>\n",
       "      <td>0.031903</td>\n",
       "      <td>117.954247</td>\n",
       "      <td>117.773684</td>\n",
       "      <td>0.001531</td>\n",
       "      <td>0.039910</td>\n",
       "    </tr>\n",
       "    <tr>\n",
       "      <th>57</th>\n",
       "      <td>2015-01-31</td>\n",
       "      <td>16.437505</td>\n",
       "      <td>16.461500</td>\n",
       "      <td>-0.001460</td>\n",
       "      <td>0.024856</td>\n",
       "      <td>120.128000</td>\n",
       "      <td>120.384500</td>\n",
       "      <td>-0.002135</td>\n",
       "      <td>0.021926</td>\n",
       "    </tr>\n",
       "    <tr>\n",
       "      <th>58</th>\n",
       "      <td>2014-12-31</td>\n",
       "      <td>15.612955</td>\n",
       "      <td>15.553636</td>\n",
       "      <td>0.003799</td>\n",
       "      <td>-0.056730</td>\n",
       "      <td>115.381364</td>\n",
       "      <td>115.193636</td>\n",
       "      <td>0.001627</td>\n",
       "      <td>-0.044076</td>\n",
       "    </tr>\n",
       "    <tr>\n",
       "      <th>59</th>\n",
       "      <td>2014-11-30</td>\n",
       "      <td>15.295258</td>\n",
       "      <td>15.340000</td>\n",
       "      <td>-0.002925</td>\n",
       "      <td>-0.013831</td>\n",
       "      <td>112.952316</td>\n",
       "      <td>113.049474</td>\n",
       "      <td>-0.000860</td>\n",
       "      <td>-0.018789</td>\n",
       "    </tr>\n",
       "    <tr>\n",
       "      <th>60</th>\n",
       "      <td>2014-10-31</td>\n",
       "      <td>16.490630</td>\n",
       "      <td>16.478696</td>\n",
       "      <td>0.000724</td>\n",
       "      <td>0.071605</td>\n",
       "      <td>117.636522</td>\n",
       "      <td>117.563913</td>\n",
       "      <td>0.000617</td>\n",
       "      <td>0.039157</td>\n",
       "    </tr>\n",
       "  </tbody>\n",
       "</table>\n",
       "</div>"
      ],
      "text/plain": [
       "         date   open_SLV  close_SLV  mo_movement_SLV  mo_Rn_SLV    open_GLD  \\\n",
       "56 2015-02-28  16.086826  16.057368         0.001831   0.031903  117.954247   \n",
       "57 2015-01-31  16.437505  16.461500        -0.001460   0.024856  120.128000   \n",
       "58 2014-12-31  15.612955  15.553636         0.003799  -0.056730  115.381364   \n",
       "59 2014-11-30  15.295258  15.340000        -0.002925  -0.013831  112.952316   \n",
       "60 2014-10-31  16.490630  16.478696         0.000724   0.071605  117.636522   \n",
       "\n",
       "     close_GLD  mo_movement_GLD  mo_Rn_GLD  \n",
       "56  117.773684         0.001531   0.039910  \n",
       "57  120.384500        -0.002135   0.021926  \n",
       "58  115.193636         0.001627  -0.044076  \n",
       "59  113.049474        -0.000860  -0.018789  \n",
       "60  117.563913         0.000617   0.039157  "
      ]
     },
     "execution_count": 255,
     "metadata": {},
     "output_type": "execute_result"
    }
   ],
   "source": [
    "gld_monthly = df_clean_GLD.groupby(['symbol',pd.Grouper(key='date',freq='M')]).mean().reset_index().sort_values('date',ascending=False)[['date','open','close']]\n",
    "slv_monthly = df_clean_SLV.groupby(['symbol',pd.Grouper(key='date',freq='M')]).mean().reset_index().sort_values('date',ascending=False)[['date','open','close']]\n",
    "\n",
    "gld_monthly['mo_movement'] = (gld_monthly.open-gld_monthly.close)/gld_monthly.open\n",
    "slv_monthly['mo_movement'] = (slv_monthly.open-slv_monthly.close)/slv_monthly.open\n",
    "\n",
    "gld_monthly['mo_Rn'] = np.log(gld_monthly['close']/gld_monthly['close'].shift(1))\n",
    "slv_monthly['mo_Rn'] = np.log(slv_monthly['close']/slv_monthly['close'].shift(1))\n",
    "gld_monthly = gld_monthly.fillna(value=0)\n",
    "slv_monthly = slv_monthly.fillna(value=0)\n",
    "\n",
    "df_slv_vs_gld_mo = pd.merge(slv_monthly,\n",
    "                            gld_monthly,\n",
    "                            how='left',\n",
    "                            on='date',\n",
    "                            suffixes=('_SLV', '_GLD'))\n",
    "\n",
    "df_slv_vs_gld_mo = df_slv_vs_gld_mo[(np.abs(stats.zscore(df_slv_vs_gld_mo[['mo_Rn_SLV','mo_Rn_GLD','mo_movement_SLV','mo_movement_GLD']])) < 3).all(axis=1)]\n",
    "\n",
    "df_slv_vs_gld_mo = df_slv_vs_gld_mo.loc[df_slv_vs_gld_mo.date>'2014-10-06']\n",
    "print(df_slv_vs_gld_mo.shape)\n",
    "df_slv_vs_gld_mo.tail()\n"
   ]
  },
  {
   "cell_type": "code",
   "execution_count": 256,
   "metadata": {
    "scrolled": true
   },
   "outputs": [
    {
     "data": {
      "image/png": "[encoded data removed]",
      "text/plain": [
       "<Figure size 432x288 with 4 Axes>"
      ]
     },
     "metadata": {
      "needs_background": "light"
     },
     "output_type": "display_data"
    }
   ],
   "source": [
    "fig,ax = plt.subplots(2,2, tight_layout=True)\n",
    "\n",
    "sns.boxplot(df_slv_vs_gld_mo['mo_movement_SLV'],ax=ax[0,0])\n",
    "sns.distplot(df_slv_vs_gld_mo['mo_movement_SLV'],ax=ax[0,1],label='silver')\n",
    "sns.boxplot(df_slv_vs_gld_mo['mo_movement_GLD'],ax=ax[1,0])\n",
    "sns.distplot(df_slv_vs_gld_mo['mo_movement_GLD'],ax=ax[1,1],label='gold')\n",
    "fig.legend();"
   ]
  },
  {
   "cell_type": "code",
   "execution_count": 257,
   "metadata": {},
   "outputs": [
    {
     "data": {
      "image/png": "[encoded data removed]",
      "text/plain": [
       "<Figure size 432x288 with 4 Axes>"
      ]
     },
     "metadata": {
      "needs_background": "light"
     },
     "output_type": "display_data"
    }
   ],
   "source": [
    "fig,ax = plt.subplots(2,2, tight_layout=True)\n",
    "\n",
    "sns.boxplot(df_slv_vs_gld_mo['mo_Rn_SLV'],ax=ax[0,0])\n",
    "sns.distplot(df_slv_vs_gld_mo['mo_Rn_SLV'],ax=ax[0,1],label='silver')\n",
    "sns.boxplot(df_slv_vs_gld_mo['mo_Rn_GLD'],ax=ax[1,0])\n",
    "sns.distplot(df_slv_vs_gld_mo['mo_Rn_GLD'],ax=ax[1,1],label='gold')\n",
    "fig.legend();"
   ]
  },
  {
   "cell_type": "code",
   "execution_count": 258,
   "metadata": {},
   "outputs": [
    {
     "data": {
      "text/plain": [
       "(2.291870814776643, 0.025437488662358173)"
      ]
     },
     "execution_count": 258,
     "metadata": {},
     "output_type": "execute_result"
    }
   ],
   "source": [
    "t,p = stats.ttest_rel(df_slv_vs_gld_mo['mo_movement_SLV'],df_slv_vs_gld_mo['mo_movement_GLD'])\n",
    "t,p"
   ]
  },
  {
   "cell_type": "code",
   "execution_count": 259,
   "metadata": {},
   "outputs": [
    {
     "data": {
      "text/plain": [
       "(0.9403459936038002, 0.3508106317266598)"
      ]
     },
     "execution_count": 259,
     "metadata": {},
     "output_type": "execute_result"
    }
   ],
   "source": [
    "t,p = stats.ttest_rel(df_slv_vs_gld_mo['mo_Rn_SLV'],df_slv_vs_gld_mo['mo_Rn_GLD'])\n",
    "t,p"
   ]
  },
  {
   "cell_type": "code",
   "execution_count": 115,
   "metadata": {},
   "outputs": [
    {
     "data": {
      "text/html": [
       "<div>\n",
       "<style scoped>\n",
       "    .dataframe tbody tr th:only-of-type {\n",
       "        vertical-align: middle;\n",
       "    }\n",
       "\n",
       "    .dataframe tbody tr th {\n",
       "        vertical-align: top;\n",
       "    }\n",
       "\n",
       "    .dataframe thead th {\n",
       "        text-align: right;\n",
       "    }\n",
       "</style>\n",
       "<table border=\"1\" class=\"dataframe\">\n",
       "  <thead>\n",
       "    <tr style=\"text-align: right;\">\n",
       "      <th></th>\n",
       "      <th>date</th>\n",
       "      <th>symbol_SLV</th>\n",
       "      <th>open_SLV</th>\n",
       "      <th>close_SLV</th>\n",
       "      <th>pct_day_SLV</th>\n",
       "      <th>pct_wk_SLV</th>\n",
       "      <th>pct_mo_SLV</th>\n",
       "      <th>symbol_GLD</th>\n",
       "      <th>open_GLD</th>\n",
       "      <th>close_GLD</th>\n",
       "      <th>pct_day_GLD</th>\n",
       "      <th>pct_wk_GLD</th>\n",
       "      <th>pct_mo_GLD</th>\n",
       "    </tr>\n",
       "  </thead>\n",
       "  <tbody>\n",
       "    <tr>\n",
       "      <th>0</th>\n",
       "      <td>2019-10-08</td>\n",
       "      <td>SLV</td>\n",
       "      <td>16.60</td>\n",
       "      <td>16.61</td>\n",
       "      <td>0.000000</td>\n",
       "      <td>0.000000</td>\n",
       "      <td>0.000000</td>\n",
       "      <td>GLD</td>\n",
       "      <td>142.03</td>\n",
       "      <td>141.95</td>\n",
       "      <td>0.000000</td>\n",
       "      <td>0.000000</td>\n",
       "      <td>0.000000</td>\n",
       "    </tr>\n",
       "    <tr>\n",
       "      <th>1</th>\n",
       "      <td>2019-10-07</td>\n",
       "      <td>SLV</td>\n",
       "      <td>16.38</td>\n",
       "      <td>16.30</td>\n",
       "      <td>-1.866346</td>\n",
       "      <td>0.000000</td>\n",
       "      <td>0.000000</td>\n",
       "      <td>GLD</td>\n",
       "      <td>141.16</td>\n",
       "      <td>140.69</td>\n",
       "      <td>-0.887636</td>\n",
       "      <td>0.000000</td>\n",
       "      <td>0.000000</td>\n",
       "    </tr>\n",
       "    <tr>\n",
       "      <th>2</th>\n",
       "      <td>2019-10-04</td>\n",
       "      <td>SLV</td>\n",
       "      <td>16.30</td>\n",
       "      <td>16.41</td>\n",
       "      <td>0.674847</td>\n",
       "      <td>0.000000</td>\n",
       "      <td>0.000000</td>\n",
       "      <td>GLD</td>\n",
       "      <td>141.48</td>\n",
       "      <td>141.90</td>\n",
       "      <td>0.860047</td>\n",
       "      <td>0.000000</td>\n",
       "      <td>0.000000</td>\n",
       "    </tr>\n",
       "    <tr>\n",
       "      <th>3</th>\n",
       "      <td>2019-10-03</td>\n",
       "      <td>SLV</td>\n",
       "      <td>16.38</td>\n",
       "      <td>16.43</td>\n",
       "      <td>0.121877</td>\n",
       "      <td>0.000000</td>\n",
       "      <td>0.000000</td>\n",
       "      <td>GLD</td>\n",
       "      <td>141.36</td>\n",
       "      <td>141.90</td>\n",
       "      <td>0.000000</td>\n",
       "      <td>0.000000</td>\n",
       "      <td>0.000000</td>\n",
       "    </tr>\n",
       "    <tr>\n",
       "      <th>4</th>\n",
       "      <td>2019-10-02</td>\n",
       "      <td>SLV</td>\n",
       "      <td>16.33</td>\n",
       "      <td>16.43</td>\n",
       "      <td>0.000000</td>\n",
       "      <td>0.000000</td>\n",
       "      <td>0.000000</td>\n",
       "      <td>GLD</td>\n",
       "      <td>140.79</td>\n",
       "      <td>141.26</td>\n",
       "      <td>-0.451022</td>\n",
       "      <td>0.000000</td>\n",
       "      <td>0.000000</td>\n",
       "    </tr>\n",
       "    <tr>\n",
       "      <th>5</th>\n",
       "      <td>2019-10-01</td>\n",
       "      <td>SLV</td>\n",
       "      <td>15.96</td>\n",
       "      <td>16.15</td>\n",
       "      <td>-1.704200</td>\n",
       "      <td>-2.769416</td>\n",
       "      <td>0.000000</td>\n",
       "      <td>GLD</td>\n",
       "      <td>138.07</td>\n",
       "      <td>139.63</td>\n",
       "      <td>-1.153901</td>\n",
       "      <td>-1.634378</td>\n",
       "      <td>0.000000</td>\n",
       "    </tr>\n",
       "    <tr>\n",
       "      <th>6</th>\n",
       "      <td>2019-09-30</td>\n",
       "      <td>SLV</td>\n",
       "      <td>16.03</td>\n",
       "      <td>15.92</td>\n",
       "      <td>-1.424149</td>\n",
       "      <td>-2.331288</td>\n",
       "      <td>0.000000</td>\n",
       "      <td>GLD</td>\n",
       "      <td>139.77</td>\n",
       "      <td>138.87</td>\n",
       "      <td>-0.544296</td>\n",
       "      <td>-1.293624</td>\n",
       "      <td>0.000000</td>\n",
       "    </tr>\n",
       "    <tr>\n",
       "      <th>7</th>\n",
       "      <td>2019-09-27</td>\n",
       "      <td>SLV</td>\n",
       "      <td>16.26</td>\n",
       "      <td>16.36</td>\n",
       "      <td>2.763819</td>\n",
       "      <td>-0.304692</td>\n",
       "      <td>0.000000</td>\n",
       "      <td>GLD</td>\n",
       "      <td>140.35</td>\n",
       "      <td>141.06</td>\n",
       "      <td>1.577014</td>\n",
       "      <td>-0.591966</td>\n",
       "      <td>0.000000</td>\n",
       "    </tr>\n",
       "    <tr>\n",
       "      <th>8</th>\n",
       "      <td>2019-09-26</td>\n",
       "      <td>SLV</td>\n",
       "      <td>16.76</td>\n",
       "      <td>16.67</td>\n",
       "      <td>1.894866</td>\n",
       "      <td>1.460743</td>\n",
       "      <td>0.000000</td>\n",
       "      <td>GLD</td>\n",
       "      <td>142.19</td>\n",
       "      <td>141.79</td>\n",
       "      <td>0.517510</td>\n",
       "      <td>-0.077519</td>\n",
       "      <td>0.000000</td>\n",
       "    </tr>\n",
       "    <tr>\n",
       "      <th>9</th>\n",
       "      <td>2019-09-25</td>\n",
       "      <td>SLV</td>\n",
       "      <td>17.29</td>\n",
       "      <td>16.71</td>\n",
       "      <td>0.239952</td>\n",
       "      <td>1.704200</td>\n",
       "      <td>0.000000</td>\n",
       "      <td>GLD</td>\n",
       "      <td>144.08</td>\n",
       "      <td>141.83</td>\n",
       "      <td>0.028211</td>\n",
       "      <td>0.403511</td>\n",
       "      <td>0.000000</td>\n",
       "    </tr>\n",
       "    <tr>\n",
       "      <th>13</th>\n",
       "      <td>2019-09-19</td>\n",
       "      <td>SLV</td>\n",
       "      <td>16.72</td>\n",
       "      <td>16.62</td>\n",
       "      <td>-1.071429</td>\n",
       "      <td>-0.299940</td>\n",
       "      <td>0.000000</td>\n",
       "      <td>GLD</td>\n",
       "      <td>141.57</td>\n",
       "      <td>141.28</td>\n",
       "      <td>-1.168241</td>\n",
       "      <td>-0.359687</td>\n",
       "      <td>0.000000</td>\n",
       "    </tr>\n",
       "    <tr>\n",
       "      <th>14</th>\n",
       "      <td>2019-09-18</td>\n",
       "      <td>SLV</td>\n",
       "      <td>16.75</td>\n",
       "      <td>16.55</td>\n",
       "      <td>-0.421179</td>\n",
       "      <td>-0.957510</td>\n",
       "      <td>0.000000</td>\n",
       "      <td>GLD</td>\n",
       "      <td>141.93</td>\n",
       "      <td>140.71</td>\n",
       "      <td>-0.403454</td>\n",
       "      <td>-0.789678</td>\n",
       "      <td>0.000000</td>\n",
       "    </tr>\n",
       "    <tr>\n",
       "      <th>15</th>\n",
       "      <td>2019-09-17</td>\n",
       "      <td>SLV</td>\n",
       "      <td>16.73</td>\n",
       "      <td>16.86</td>\n",
       "      <td>1.873112</td>\n",
       "      <td>-3.325688</td>\n",
       "      <td>0.000000</td>\n",
       "      <td>GLD</td>\n",
       "      <td>141.82</td>\n",
       "      <td>141.60</td>\n",
       "      <td>0.632507</td>\n",
       "      <td>-2.013701</td>\n",
       "      <td>0.000000</td>\n",
       "    </tr>\n",
       "    <tr>\n",
       "      <th>16</th>\n",
       "      <td>2019-09-16</td>\n",
       "      <td>SLV</td>\n",
       "      <td>16.71</td>\n",
       "      <td>16.74</td>\n",
       "      <td>-0.711744</td>\n",
       "      <td>-4.397487</td>\n",
       "      <td>0.000000</td>\n",
       "      <td>GLD</td>\n",
       "      <td>141.60</td>\n",
       "      <td>141.32</td>\n",
       "      <td>-0.197740</td>\n",
       "      <td>-1.690435</td>\n",
       "      <td>0.000000</td>\n",
       "    </tr>\n",
       "    <tr>\n",
       "      <th>17</th>\n",
       "      <td>2019-09-13</td>\n",
       "      <td>SLV</td>\n",
       "      <td>16.90</td>\n",
       "      <td>16.31</td>\n",
       "      <td>-2.568698</td>\n",
       "      <td>-2.916667</td>\n",
       "      <td>0.000000</td>\n",
       "      <td>GLD</td>\n",
       "      <td>141.73</td>\n",
       "      <td>140.15</td>\n",
       "      <td>-0.827908</td>\n",
       "      <td>-1.958727</td>\n",
       "      <td>0.000000</td>\n",
       "    </tr>\n",
       "    <tr>\n",
       "      <th>19</th>\n",
       "      <td>2019-09-11</td>\n",
       "      <td>SLV</td>\n",
       "      <td>16.80</td>\n",
       "      <td>16.95</td>\n",
       "      <td>0.177305</td>\n",
       "      <td>2.416918</td>\n",
       "      <td>0.000000</td>\n",
       "      <td>GLD</td>\n",
       "      <td>140.34</td>\n",
       "      <td>141.03</td>\n",
       "      <td>-0.205208</td>\n",
       "      <td>0.227418</td>\n",
       "      <td>0.000000</td>\n",
       "    </tr>\n",
       "    <tr>\n",
       "      <th>20</th>\n",
       "      <td>2019-09-10</td>\n",
       "      <td>SLV</td>\n",
       "      <td>16.96</td>\n",
       "      <td>16.85</td>\n",
       "      <td>-0.589971</td>\n",
       "      <td>-0.059312</td>\n",
       "      <td>0.000000</td>\n",
       "      <td>GLD</td>\n",
       "      <td>141.23</td>\n",
       "      <td>140.18</td>\n",
       "      <td>-0.602709</td>\n",
       "      <td>-1.002825</td>\n",
       "      <td>0.000000</td>\n",
       "    </tr>\n",
       "    <tr>\n",
       "      <th>21</th>\n",
       "      <td>2019-09-09</td>\n",
       "      <td>SLV</td>\n",
       "      <td>16.93</td>\n",
       "      <td>16.83</td>\n",
       "      <td>-0.118694</td>\n",
       "      <td>0.537634</td>\n",
       "      <td>0.000000</td>\n",
       "      <td>GLD</td>\n",
       "      <td>142.37</td>\n",
       "      <td>141.39</td>\n",
       "      <td>0.863176</td>\n",
       "      <td>0.049533</td>\n",
       "      <td>0.000000</td>\n",
       "    </tr>\n",
       "    <tr>\n",
       "      <th>22</th>\n",
       "      <td>2019-09-06</td>\n",
       "      <td>SLV</td>\n",
       "      <td>17.49</td>\n",
       "      <td>16.87</td>\n",
       "      <td>0.237671</td>\n",
       "      <td>3.433476</td>\n",
       "      <td>0.000000</td>\n",
       "      <td>GLD</td>\n",
       "      <td>143.64</td>\n",
       "      <td>141.92</td>\n",
       "      <td>0.374850</td>\n",
       "      <td>1.262933</td>\n",
       "      <td>0.000000</td>\n",
       "    </tr>\n",
       "    <tr>\n",
       "      <th>23</th>\n",
       "      <td>2019-09-05</td>\n",
       "      <td>SLV</td>\n",
       "      <td>17.98</td>\n",
       "      <td>17.41</td>\n",
       "      <td>3.200948</td>\n",
       "      <td>2.895981</td>\n",
       "      <td>0.000000</td>\n",
       "      <td>GLD</td>\n",
       "      <td>144.98</td>\n",
       "      <td>143.14</td>\n",
       "      <td>0.859639</td>\n",
       "      <td>1.287857</td>\n",
       "      <td>0.000000</td>\n",
       "    </tr>\n",
       "    <tr>\n",
       "      <th>25</th>\n",
       "      <td>2019-09-03</td>\n",
       "      <td>SLV</td>\n",
       "      <td>17.59</td>\n",
       "      <td>17.89</td>\n",
       "      <td>-2.453653</td>\n",
       "      <td>6.172107</td>\n",
       "      <td>7.706201</td>\n",
       "      <td>GLD</td>\n",
       "      <td>144.96</td>\n",
       "      <td>145.75</td>\n",
       "      <td>-0.620483</td>\n",
       "      <td>3.973463</td>\n",
       "      <td>2.676999</td>\n",
       "    </tr>\n",
       "    <tr>\n",
       "      <th>27</th>\n",
       "      <td>2019-08-29</td>\n",
       "      <td>SLV</td>\n",
       "      <td>17.36</td>\n",
       "      <td>17.07</td>\n",
       "      <td>-0.466472</td>\n",
       "      <td>1.185536</td>\n",
       "      <td>4.021938</td>\n",
       "      <td>GLD</td>\n",
       "      <td>145.40</td>\n",
       "      <td>144.12</td>\n",
       "      <td>0.257391</td>\n",
       "      <td>1.550169</td>\n",
       "      <td>1.564482</td>\n",
       "    </tr>\n",
       "    <tr>\n",
       "      <th>28</th>\n",
       "      <td>2019-08-28</td>\n",
       "      <td>SLV</td>\n",
       "      <td>17.15</td>\n",
       "      <td>17.17</td>\n",
       "      <td>0.585823</td>\n",
       "      <td>-1.378518</td>\n",
       "      <td>4.503956</td>\n",
       "      <td>GLD</td>\n",
       "      <td>145.39</td>\n",
       "      <td>145.16</td>\n",
       "      <td>0.721621</td>\n",
       "      <td>1.411206</td>\n",
       "      <td>2.297393</td>\n",
       "    </tr>\n",
       "    <tr>\n",
       "      <th>29</th>\n",
       "      <td>2019-08-27</td>\n",
       "      <td>SLV</td>\n",
       "      <td>16.84</td>\n",
       "      <td>17.03</td>\n",
       "      <td>-0.815376</td>\n",
       "      <td>-7.142857</td>\n",
       "      <td>3.651856</td>\n",
       "      <td>GLD</td>\n",
       "      <td>144.30</td>\n",
       "      <td>145.57</td>\n",
       "      <td>0.282447</td>\n",
       "      <td>-0.743216</td>\n",
       "      <td>3.051111</td>\n",
       "    </tr>\n",
       "    <tr>\n",
       "      <th>31</th>\n",
       "      <td>2019-08-23</td>\n",
       "      <td>SLV</td>\n",
       "      <td>16.04</td>\n",
       "      <td>16.35</td>\n",
       "      <td>-1.029056</td>\n",
       "      <td>-4.664723</td>\n",
       "      <td>2.701005</td>\n",
       "      <td>GLD</td>\n",
       "      <td>141.84</td>\n",
       "      <td>144.17</td>\n",
       "      <td>-0.013871</td>\n",
       "      <td>0.292174</td>\n",
       "      <td>3.816519</td>\n",
       "    </tr>\n",
       "  </tbody>\n",
       "</table>\n",
       "</div>"
      ],
      "text/plain": [
       "         date symbol_SLV  open_SLV  close_SLV  pct_day_SLV  pct_wk_SLV  \\\n",
       "0  2019-10-08        SLV     16.60      16.61     0.000000    0.000000   \n",
       "1  2019-10-07        SLV     16.38      16.30    -1.866346    0.000000   \n",
       "2  2019-10-04        SLV     16.30      16.41     0.674847    0.000000   \n",
       "3  2019-10-03        SLV     16.38      16.43     0.121877    0.000000   \n",
       "4  2019-10-02        SLV     16.33      16.43     0.000000    0.000000   \n",
       "5  2019-10-01        SLV     15.96      16.15    -1.704200   -2.769416   \n",
       "6  2019-09-30        SLV     16.03      15.92    -1.424149   -2.331288   \n",
       "7  2019-09-27        SLV     16.26      16.36     2.763819   -0.304692   \n",
       "8  2019-09-26        SLV     16.76      16.67     1.894866    1.460743   \n",
       "9  2019-09-25        SLV     17.29      16.71     0.239952    1.704200   \n",
       "13 2019-09-19        SLV     16.72      16.62    -1.071429   -0.299940   \n",
       "14 2019-09-18        SLV     16.75      16.55    -0.421179   -0.957510   \n",
       "15 2019-09-17        SLV     16.73      16.86     1.873112   -3.325688   \n",
       "16 2019-09-16        SLV     16.71      16.74    -0.711744   -4.397487   \n",
       "17 2019-09-13        SLV     16.90      16.31    -2.568698   -2.916667   \n",
       "19 2019-09-11        SLV     16.80      16.95     0.177305    2.416918   \n",
       "20 2019-09-10        SLV     16.96      16.85    -0.589971   -0.059312   \n",
       "21 2019-09-09        SLV     16.93      16.83    -0.118694    0.537634   \n",
       "22 2019-09-06        SLV     17.49      16.87     0.237671    3.433476   \n",
       "23 2019-09-05        SLV     17.98      17.41     3.200948    2.895981   \n",
       "25 2019-09-03        SLV     17.59      17.89    -2.453653    6.172107   \n",
       "27 2019-08-29        SLV     17.36      17.07    -0.466472    1.185536   \n",
       "28 2019-08-28        SLV     17.15      17.17     0.585823   -1.378518   \n",
       "29 2019-08-27        SLV     16.84      17.03    -0.815376   -7.142857   \n",
       "31 2019-08-23        SLV     16.04      16.35    -1.029056   -4.664723   \n",
       "\n",
       "    pct_mo_SLV symbol_GLD  open_GLD  close_GLD  pct_day_GLD  pct_wk_GLD  \\\n",
       "0     0.000000        GLD    142.03     141.95     0.000000    0.000000   \n",
       "1     0.000000        GLD    141.16     140.69    -0.887636    0.000000   \n",
       "2     0.000000        GLD    141.48     141.90     0.860047    0.000000   \n",
       "3     0.000000        GLD    141.36     141.90     0.000000    0.000000   \n",
       "4     0.000000        GLD    140.79     141.26    -0.451022    0.000000   \n",
       "5     0.000000        GLD    138.07     139.63    -1.153901   -1.634378   \n",
       "6     0.000000        GLD    139.77     138.87    -0.544296   -1.293624   \n",
       "7     0.000000        GLD    140.35     141.06     1.577014   -0.591966   \n",
       "8     0.000000        GLD    142.19     141.79     0.517510   -0.077519   \n",
       "9     0.000000        GLD    144.08     141.83     0.028211    0.403511   \n",
       "13    0.000000        GLD    141.57     141.28    -1.168241   -0.359687   \n",
       "14    0.000000        GLD    141.93     140.71    -0.403454   -0.789678   \n",
       "15    0.000000        GLD    141.82     141.60     0.632507   -2.013701   \n",
       "16    0.000000        GLD    141.60     141.32    -0.197740   -1.690435   \n",
       "17    0.000000        GLD    141.73     140.15    -0.827908   -1.958727   \n",
       "19    0.000000        GLD    140.34     141.03    -0.205208    0.227418   \n",
       "20    0.000000        GLD    141.23     140.18    -0.602709   -1.002825   \n",
       "21    0.000000        GLD    142.37     141.39     0.863176    0.049533   \n",
       "22    0.000000        GLD    143.64     141.92     0.374850    1.262933   \n",
       "23    0.000000        GLD    144.98     143.14     0.859639    1.287857   \n",
       "25    7.706201        GLD    144.96     145.75    -0.620483    3.973463   \n",
       "27    4.021938        GLD    145.40     144.12     0.257391    1.550169   \n",
       "28    4.503956        GLD    145.39     145.16     0.721621    1.411206   \n",
       "29    3.651856        GLD    144.30     145.57     0.282447   -0.743216   \n",
       "31    2.701005        GLD    141.84     144.17    -0.013871    0.292174   \n",
       "\n",
       "    pct_mo_GLD  \n",
       "0     0.000000  \n",
       "1     0.000000  \n",
       "2     0.000000  \n",
       "3     0.000000  \n",
       "4     0.000000  \n",
       "5     0.000000  \n",
       "6     0.000000  \n",
       "7     0.000000  \n",
       "8     0.000000  \n",
       "9     0.000000  \n",
       "13    0.000000  \n",
       "14    0.000000  \n",
       "15    0.000000  \n",
       "16    0.000000  \n",
       "17    0.000000  \n",
       "19    0.000000  \n",
       "20    0.000000  \n",
       "21    0.000000  \n",
       "22    0.000000  \n",
       "23    0.000000  \n",
       "25    2.676999  \n",
       "27    1.564482  \n",
       "28    2.297393  \n",
       "29    3.051111  \n",
       "31    3.816519  "
      ]
     },
     "execution_count": 115,
     "metadata": {},
     "output_type": "execute_result"
    }
   ],
   "source": [
    "df_clean = df_clean.loc[df_clean['date'] >= '2014-10-06']\n",
    "df_clean_SLV = df_clean.loc[df_clean['symbol'] == 'SLV'][[\n",
    "        'date', 'symbol', 'open', 'close']]\n",
    "df_clean_GLD = df_clean.loc[df_clean['symbol'] == 'GLD'][[\n",
    "        'date', 'symbol', 'open', 'close']]\n",
    "\n",
    "df_clean_SLV['pct_day'] = df_clean_SLV['close'].pct_change(periods=1)*100\n",
    "df_clean_GLD['pct_day'] = df_clean_GLD['close'].pct_change(periods=1)*100\n",
    "\n",
    "df_clean_SLV['pct_wk'] = df_clean_SLV['close'].pct_change(periods=5)*100\n",
    "df_clean_GLD['pct_wk'] = df_clean_GLD['close'].pct_change(periods=5)*100\n",
    "\n",
    "df_clean_SLV['pct_mo'] = df_clean_SLV['close'].pct_change(periods=25)*100\n",
    "df_clean_GLD['pct_mo'] = df_clean_GLD['close'].pct_change(periods=25)*100\n",
    "\n",
    "df_clean_GLD = df_clean_GLD.fillna(value=0)\n",
    "df_clean_SLV = df_clean_SLV.fillna(value=0)\n",
    "\n",
    "\n",
    "\n",
    "df_slv_vs_gld = pd.merge(df_clean_SLV,\n",
    "                                    df_clean_GLD,\n",
    "                                    how='left',\n",
    "                                    on='date',\n",
    "                                    suffixes=('_SLV', '_GLD'))\n",
    "\n",
    "# Remove outliers\n",
    "df_slv_vs_gld = df_slv_vs_gld[(\n",
    "np.abs(stats.zscore(df_slv_vs_gld[['pct_day_SLV','pct_day_GLD','pct_wk_SLV', 'pct_wk_GLD','pct_mo_SLV','pct_mo_GLD']])) < 2.5).all(axis=1)]\n",
    "\n",
    "df_slv_vs_gld.head(25)\n",
    "\n"
   ]
  },
  {
   "cell_type": "code",
   "execution_count": 75,
   "metadata": {},
   "outputs": [],
   "source": [
    "import scipy.stats as stats\n",
    "import seaborn as sns\n",
    "import statsmodels.api as sm\n",
    "import statsmodels.stats.power as smp"
   ]
  },
  {
   "cell_type": "code",
   "execution_count": 106,
   "metadata": {
    "scrolled": true
   },
   "outputs": [
    {
     "name": "stdout",
     "output_type": "stream",
     "text": [
      "NormaltestResult(statistic=38.50979638325366, pvalue=4.3421414380188196e-09)\n"
     ]
    },
    {
     "data": {
      "image/png": "[encoded data removed]",
      "text/plain": [
       "<Figure size 432x288 with 2 Axes>"
      ]
     },
     "metadata": {
      "needs_background": "light"
     },
     "output_type": "display_data"
    }
   ],
   "source": [
    "a_day = df_slv_vs_gld['pct_day_SLV'][1:]\n",
    "b_day = df_slv_vs_gld['pct_day_GLD'][1:]\n",
    "\n",
    "day_movement_diff = np.array(a_day)-np.array(b_day)\n",
    "print(stats.normaltest(day_movement_diff))\n",
    "fig,ax = plt.subplots(1,2, tight_layout=True)\n",
    "sns.boxplot(day_movement_diff,ax=ax[0])\n",
    "sns.distplot(day_movement_diff,ax=ax[1]);"
   ]
  },
  {
   "cell_type": "code",
   "execution_count": 145,
   "metadata": {
    "scrolled": true
   },
   "outputs": [
    {
     "data": {
      "image/png": "[encoded data removed]",
      "text/plain": [
       "<Figure size 432x288 with 1 Axes>"
      ]
     },
     "metadata": {},
     "output_type": "display_data"
    }
   ],
   "source": [
    "plt.figure(tight_layout=True)\n",
    "plt.style.use('fivethirtyeight')\n",
    "plt.plot(df_slv_vs_gld['date'],df_slv_vs_gld['pct_day_SLV'],alpha = 0.8,label='SLV',linewidth=1.5,c='silver')\n",
    "plt.plot(df_slv_vs_gld['date'],df_slv_vs_gld['pct_day_GLD'],alpha = 0.8,label='GLD',linewidth=1.5,c='gold')\n",
    "plt.legend()\n",
    "plt.ylabel('% change')\n",
    "plt.title('Daily Price Change Over Time')\n",
    "plt.savefig('img/daily_price_change');"
   ]
  },
  {
   "cell_type": "code",
   "execution_count": null,
   "metadata": {},
   "outputs": [],
   "source": [
    "plt.plot(df_slv_vs_gld['date'][1:],day_movement_diff);"
   ]
  },
  {
   "cell_type": "code",
   "execution_count": 107,
   "metadata": {
    "scrolled": true
   },
   "outputs": [
    {
     "data": {
      "image/png": "[encoded data removed]",
      "text/plain": [
       "<Figure size 432x288 with 1 Axes>"
      ]
     },
     "metadata": {
      "needs_background": "light"
     },
     "output_type": "display_data"
    }
   ],
   "source": [
    "sm.qqplot(day_movement_diff, line = 'r');"
   ]
  },
  {
   "cell_type": "code",
   "execution_count": 108,
   "metadata": {},
   "outputs": [
    {
     "data": {
      "text/plain": [
       "(0.2989142373890784, 0.7650602517043895)"
      ]
     },
     "execution_count": 108,
     "metadata": {},
     "output_type": "execute_result"
    }
   ],
   "source": [
    "t_day,p_day = stats.ttest_rel(a_day,b_day)\n",
    "t_day,p_day"
   ]
  },
  {
   "cell_type": "code",
   "execution_count": 109,
   "metadata": {},
   "outputs": [
    {
     "name": "stdout",
     "output_type": "stream",
     "text": [
      "x_bar:0.006216425786544298\n",
      " sample_std:0.7003266923666716\n",
      " t-score:0.2989142373890784\n"
     ]
    }
   ],
   "source": [
    "x_bar_day = day_movement_diff.mean()\n",
    "Sdiff_day = day_movement_diff.std()\n",
    "dof = len(day_movement_diff)-1\n",
    "t_wk = (x_bar_day - 0)/(Sdiff_day/np.sqrt(len(day_movement_diff)))\n",
    "\n",
    "print(f\"x_bar:{x_bar_day}\\n sample_std:{Sdiff_day}\\n t-score:{t_day}\")"
   ]
  },
  {
   "cell_type": "code",
   "execution_count": 110,
   "metadata": {},
   "outputs": [
    {
     "name": "stdout",
     "output_type": "stream",
     "text": [
      "confidence interval = -0.03 - 0.04\n"
     ]
    }
   ],
   "source": [
    "tscore = (stats.t.ppf(1-0.05, dof))\n",
    "rangemin_day = x_bar_day - (tscore * (Sdiff_day/np.sqrt(len(day_movement_diff))))\n",
    "rangemax_day = x_bar_day + (tscore * (Sdiff_day/np.sqrt(len(day_movement_diff))))\n",
    "\n",
    "print(f\"confidence interval = {round(rangemin_day,2)} - {round(rangemax_day,2)}\")"
   ]
  },
  {
   "cell_type": "code",
   "execution_count": 111,
   "metadata": {},
   "outputs": [
    {
     "name": "stdout",
     "output_type": "stream",
     "text": [
      "effect size = 0.00691860586957366, power = 0.07898875499632729\n"
     ]
    }
   ],
   "source": [
    "spooled_S_day = np.sqrt(((a_day.std()**2 + b_day.std()**2)/2))\n",
    "coh_d_day = (a_day.mean() - b_day.mean()) / spooled_S_day\n",
    "power_day = smp.ttest_power(coh_d_day, nobs=len(day_movement_diff), alpha=0.05, alternative='larger')\n",
    "print(f\"effect size = {coh_d_day}, power = {power_day}\")"
   ]
  },
  {
   "cell_type": "code",
   "execution_count": null,
   "metadata": {},
   "outputs": [],
   "source": []
  },
  {
   "cell_type": "code",
   "execution_count": 99,
   "metadata": {
    "scrolled": false
   },
   "outputs": [
    {
     "name": "stdout",
     "output_type": "stream",
     "text": [
      "NormaltestResult(statistic=40.06557770006935, pvalue=1.9946667362958377e-09)\n"
     ]
    },
    {
     "data": {
      "image/png": "[encoded data removed]",
      "text/plain": [
       "<Figure size 432x288 with 2 Axes>"
      ]
     },
     "metadata": {
      "needs_background": "light"
     },
     "output_type": "display_data"
    }
   ],
   "source": [
    "a_wk = df_slv_vs_gld['pct_wk_SLV'][5:]\n",
    "b_wk = df_slv_vs_gld['pct_wk_GLD'][5:]\n",
    "\n",
    "week_movement_diff = np.array(a_wk)-np.array(b_wk)\n",
    "print(stats.normaltest(week_movement_diff))\n",
    "fig,ax = plt.subplots(1,2, tight_layout=True)\n",
    "sns.boxplot(week_movement_diff,ax=ax[0])\n",
    "sns.distplot(week_movement_diff,ax=ax[1]);"
   ]
  },
  {
   "cell_type": "code",
   "execution_count": 87,
   "metadata": {
    "scrolled": true
   },
   "outputs": [
    {
     "data": {
      "image/png": "[encoded data removed]",
      "text/plain": [
       "<Figure size 432x288 with 1 Axes>"
      ]
     },
     "metadata": {
      "needs_background": "light"
     },
     "output_type": "display_data"
    }
   ],
   "source": [
    "sm.qqplot(week_movement_diff, line = 'r');"
   ]
  },
  {
   "cell_type": "code",
   "execution_count": 88,
   "metadata": {},
   "outputs": [
    {
     "data": {
      "text/plain": [
       "(2.280627606265942, 0.022748759569208812)"
      ]
     },
     "execution_count": 88,
     "metadata": {},
     "output_type": "execute_result"
    }
   ],
   "source": [
    "t_wk,p_wk = stats.ttest_rel(a_wk,b_wk)\n",
    "t_wk,p_wk"
   ]
  },
  {
   "cell_type": "code",
   "execution_count": 89,
   "metadata": {},
   "outputs": [
    {
     "name": "stdout",
     "output_type": "stream",
     "text": [
      "x_bar:0.11491650379905088\n",
      " sample_std:1.727952056628913\n",
      " t-score:2.2815970548139832\n"
     ]
    }
   ],
   "source": [
    "x_bar_wk = week_movement_diff.mean()\n",
    "Sdiff_wk = week_movement_diff.std()\n",
    "dof = len(week_movement_diff)-1\n",
    "t_wk = (x_bar_wk - 0)/(Sdiff_wk/np.sqrt(len(week_movement_diff)))\n",
    "\n",
    "print(f\"x_bar:{x_bar_wk}\\n sample_std:{Sdiff_wk}\\n t-score:{t_wk}\")"
   ]
  },
  {
   "cell_type": "code",
   "execution_count": 90,
   "metadata": {},
   "outputs": [
    {
     "name": "stdout",
     "output_type": "stream",
     "text": [
      "confidence interval = 0.03 - 0.2\n"
     ]
    }
   ],
   "source": [
    "tscore = (stats.t.ppf(1-0.05, dof))\n",
    "rangemin_wk = x_bar_wk - (tscore * (Sdiff_wk/np.sqrt(len(week_movement_diff))))\n",
    "rangemax_wk = x_bar_wk + (tscore * (Sdiff_wk/np.sqrt(len(week_movement_diff))))\n",
    "\n",
    "print(f\"confidence interval = {round(rangemin_wk,2)} - {round(rangemax_wk,2)}\")"
   ]
  },
  {
   "cell_type": "code",
   "execution_count": 91,
   "metadata": {},
   "outputs": [
    {
     "name": "stdout",
     "output_type": "stream",
     "text": [
      "effect size = 0.05299164533881036, power = 0.5683236554456359\n"
     ]
    }
   ],
   "source": [
    "spooled_S_wk = np.sqrt(((a_wk.std()**2 + b_wk.std()**2)/2))\n",
    "coh_d_wk = (a_wk.mean() - b_wk.mean()) / spooled_S_wk\n",
    "power_wk = smp.ttest_power(coh_d_wk, nobs=len(week_movement_diff), alpha=0.05, alternative='larger')\n",
    "print(f\"effect size = {coh_d_wk}, power = {power_wk}\")"
   ]
  },
  {
   "cell_type": "code",
   "execution_count": null,
   "metadata": {},
   "outputs": [],
   "source": []
  },
  {
   "cell_type": "code",
   "execution_count": 92,
   "metadata": {
    "scrolled": false
   },
   "outputs": [
    {
     "name": "stdout",
     "output_type": "stream",
     "text": [
      "NormaltestResult(statistic=25.74281541550323, pvalue=2.570506214703398e-06)\n"
     ]
    },
    {
     "data": {
      "image/png": "[encoded data removed]",
      "text/plain": [
       "<Figure size 432x288 with 2 Axes>"
      ]
     },
     "metadata": {
      "needs_background": "light"
     },
     "output_type": "display_data"
    }
   ],
   "source": [
    "a_mo = df_slv_vs_gld['pct_mo_SLV'][25:]\n",
    "b_mo = df_slv_vs_gld['pct_mo_GLD'][25:]\n",
    "\n",
    "mo_movement_diff = np.array(a_mo)-np.array(b_mo)\n",
    "print(stats.normaltest(mo_movement_diff))\n",
    "fig,ax = plt.subplots(1,2, tight_layout=True)\n",
    "sns.boxplot(mo_movement_diff,ax=ax[0])\n",
    "sns.distplot(mo_movement_diff,ax=ax[1]);"
   ]
  },
  {
   "cell_type": "code",
   "execution_count": null,
   "metadata": {},
   "outputs": [],
   "source": []
  },
  {
   "cell_type": "code",
   "execution_count": 93,
   "metadata": {},
   "outputs": [
    {
     "data": {
      "image/png": "[encoded data removed]",
      "text/plain": [
       "<Figure size 432x288 with 1 Axes>"
      ]
     },
     "metadata": {
      "needs_background": "light"
     },
     "output_type": "display_data"
    }
   ],
   "source": [
    "sm.qqplot(mo_movement_diff, line = 'r');"
   ]
  },
  {
   "cell_type": "code",
   "execution_count": 94,
   "metadata": {},
   "outputs": [
    {
     "data": {
      "text/plain": [
       "(4.29977558712008, 1.8415976693070488e-05)"
      ]
     },
     "execution_count": 94,
     "metadata": {},
     "output_type": "execute_result"
    }
   ],
   "source": [
    "t_mo,p_mo = stats.ttest_rel(df_clean_SLV['pct_mo'],df_clean_GLD['pct_mo'])\n",
    "t_mo,p_mo"
   ]
  },
  {
   "cell_type": "code",
   "execution_count": 95,
   "metadata": {},
   "outputs": [
    {
     "name": "stdout",
     "output_type": "stream",
     "text": [
      "0.5186482334374566 3.338318843313473 5.28459571899462\n"
     ]
    }
   ],
   "source": [
    "x_bar_mo = mo_movement_diff.mean()\n",
    "Sdiff_mo = mo_movement_diff.std()\n",
    "dof_mo = len(mo_movement_diff)-1\n",
    "t_mo = (x_bar_mo - 0)/(Sdiff_mo/np.sqrt(len(mo_movement_diff)))\n",
    "\n",
    "print(x_bar_mo,Sdiff_mo,t_mo)"
   ]
  },
  {
   "cell_type": "code",
   "execution_count": 96,
   "metadata": {},
   "outputs": [
    {
     "name": "stdout",
     "output_type": "stream",
     "text": [
      "confidence interval = 0.357 - 0.68\n"
     ]
    }
   ],
   "source": [
    "tscore = (stats.t.ppf(1-0.05, dof))\n",
    "rangemin_mo = x_bar_mo - (tscore * (Sdiff_mo/np.sqrt(len(mo_movement_diff))))\n",
    "rangemax_mo = x_bar_mo + (tscore * (Sdiff_mo/np.sqrt(len(mo_movement_diff))))\n",
    "\n",
    "print(f\"confidence interval = {round(rangemin_mo,3)} - {round(rangemax_mo,3)}\")"
   ]
  },
  {
   "cell_type": "code",
   "execution_count": 112,
   "metadata": {},
   "outputs": [
    {
     "name": "stdout",
     "output_type": "stream",
     "text": [
      "effect size = 0.10889186041552046, power = 0.9801521644442487\n"
     ]
    }
   ],
   "source": [
    "spooled_S_mo = np.sqrt(((a_mo.std()**2 + b_mo.std()**2)/2))\n",
    "coh_d_mo = (a_mo.mean() - b_mo.mean()) / spooled_S_mo \n",
    "power_mo  = smp.ttest_power(coh_d_mo , nobs=len(mo_movement_diff), alpha=0.05, alternative='larger')\n",
    "print(f\"effect size = {coh_d_mo }, power = {power_mo }\")"
   ]
  },
  {
   "cell_type": "code",
   "execution_count": null,
   "metadata": {},
   "outputs": [],
   "source": []
  }
 ],
 "metadata": {
  "kernelspec": {
   "display_name": "Python 3",
   "language": "python",
   "name": "python3"
  },
  "language_info": {
   "codemirror_mode": {
    "name": "ipython",
    "version": 3
   },
   "file_extension": ".py",
   "mimetype": "text/x-python",
   "name": "python",
   "nbconvert_exporter": "python",
   "pygments_lexer": "ipython3",
   "version": "3.7.3"
  }
 },
 "nbformat": 4,
 "nbformat_minor": 2
}
