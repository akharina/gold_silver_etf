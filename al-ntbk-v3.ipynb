{
 "cells": [
  {
   "cell_type": "code",
   "execution_count": 1,
   "metadata": {},
   "outputs": [],
   "source": [
    "import pandas as pd\n",
    "import numpy as np\n",
    "from statsmodels.tsa.arima_model import ARIMA\n",
    "import matplotlib.pyplot as plt\n",
    "from pandas.plotting import lag_plot\n",
    "from pandas.plotting import autocorrelation_plot\n",
    "from statsmodels.formula.api import ols\n",
    "import statsmodels.api as sm"
   ]
  },
  {
   "cell_type": "markdown",
   "metadata": {},
   "source": [
    "# Read in data and set up dataframes"
   ]
  },
  {
   "cell_type": "code",
   "execution_count": 2,
   "metadata": {},
   "outputs": [],
   "source": [
    "df = pd.read_csv('data/clean_data.csv', index_col=0)\n",
    "df.date = pd.to_datetime(df.date)\n",
    "df = df[['date','close','symbol']]\n",
    "df_slv = df.loc[df.symbol == 'SLV']\n",
    "df_sil = df.loc[df.symbol == 'SIL']\n",
    "df_gld = df.loc[df.symbol == 'GLD']\n",
    "df_gdx = df.loc[df.symbol == 'GDX']\n",
    "df_dji = df.loc[df.symbol == 'DJI']"
   ]
  },
  {
   "cell_type": "markdown",
   "metadata": {},
   "source": [
    "# Silver Visualizations"
   ]
  },
  {
   "cell_type": "markdown",
   "metadata": {},
   "source": [
    "## Silver Bullion (SLV) Average Close by Month"
   ]
  },
  {
   "cell_type": "code",
   "execution_count": null,
   "metadata": {},
   "outputs": [],
   "source": [
    "df_slv_mo = df_slv.groupby(pd.Grouper(key='date', freq='M')).mean()\n",
    "df_slv_mo.plot()\n",
    "plt.title('Avg Close of SLV by Month')\n",
    "plt.ylabel('Dollars')\n",
    "plt.xlabel('Time')\n",
    "plt.show()"
   ]
  },
  {
   "cell_type": "markdown",
   "metadata": {},
   "source": [
    "## Silver Bullion (SLV) and Silver Mining (SIL) Average Close by Year"
   ]
  },
  {
   "cell_type": "code",
   "execution_count": null,
   "metadata": {},
   "outputs": [],
   "source": [
    "df_sil_mo = df_sil.groupby(pd.Grouper(key='date', freq='Y')).mean()\n",
    "df_silvers = df_slv_mo.join(df_sil_mo,how='inner',on='date',lsuffix='_sil',rsuffix='_slv')\n",
    "df_silvers.plot()\n",
    "plt.title('Avg Close of SIL and SLV')\n",
    "plt.ylabel('Price ($)')\n",
    "plt.xlabel('Time')\n",
    "plt.show()"
   ]
  },
  {
   "cell_type": "markdown",
   "metadata": {},
   "source": [
    "## Silver Bullion (SLV) and Silver Mining (SIL) Average Percent Change"
   ]
  },
  {
   "cell_type": "code",
   "execution_count": null,
   "metadata": {},
   "outputs": [],
   "source": [
    "df_silvers.pct_change().plot()\n",
    "plt.title('Pct Change in Close of SIL and SLV')\n",
    "plt.show()"
   ]
  },
  {
   "cell_type": "code",
   "execution_count": null,
   "metadata": {},
   "outputs": [],
   "source": [
    "df_dji_yr = df_dji.groupby(pd.Grouper(key='date', freq='Y')).mean()\n",
    "df_dji_mo = df_dji.groupby(pd.Grouper(key='date', freq='M')).mean()\n",
    "df_dji_yr.head();"
   ]
  },
  {
   "cell_type": "markdown",
   "metadata": {},
   "source": [
    "## Silver Bullion (SLV), Silver Mining (SIL), and Market Index Average Percent Change"
   ]
  },
  {
   "cell_type": "code",
   "execution_count": null,
   "metadata": {},
   "outputs": [],
   "source": [
    "df_sv_ind = df_silvers.join(df_dji_mo, how='left',on='date')\n",
    "df_sv_ind.pct_change().plot()\n",
    "plt.title('Pct Change in Close of SIL, SLV, and Market Index')\n",
    "plt.show()"
   ]
  },
  {
   "cell_type": "markdown",
   "metadata": {},
   "source": [
    "# Gold Visualizations\n"
   ]
  },
  {
   "cell_type": "markdown",
   "metadata": {},
   "source": [
    "## Gold Bullion (GLD) and Gold Mining (GDX) Average Close by Year"
   ]
  },
  {
   "cell_type": "code",
   "execution_count": null,
   "metadata": {},
   "outputs": [],
   "source": [
    "df_gld_yr = df_gld.groupby(pd.Grouper(key='date', freq='Y')).mean()\n",
    "df_gdx_yr = df_gdx.groupby(pd.Grouper(key='date', freq='Y')).mean()\n",
    "df_golds_yr = df_gld_yr.join(df_gdx_yr, how='left',on='date',lsuffix='_gld',rsuffix='_gdx')\n",
    "df_gd_ind_yr = df_golds_yr.join(df_dji_yr,how='left',on='date')\n",
    "df_golds_yr.plot()\n",
    "plt.title('Avg Close of GLD and GDX by Year')"
   ]
  },
  {
   "cell_type": "code",
   "execution_count": null,
   "metadata": {},
   "outputs": [],
   "source": [
    "df_gld_mo = df_gld.groupby(pd.Grouper(key='date', freq='M')).mean()\n",
    "df_gdx_mo = df_gdx.groupby(pd.Grouper(key='date', freq='M')).mean()\n",
    "df_golds_mo = df_gld_mo.join(df_gdx_mo, how='left',on='date',lsuffix='_gld',rsuffix='_gdx')\n",
    "df_gd_ind_mo = df_golds_mo.join(df_dji_mo,how='left',on='date')\n",
    "df_golds_mo.plot()\n",
    "plt.title('Avg Close of GLD and GDX by Month')"
   ]
  },
  {
   "cell_type": "markdown",
   "metadata": {},
   "source": [
    "## Gold Bullion (GLD), Gold Mining (GDX), and Market Index Average Percent Change by Year"
   ]
  },
  {
   "cell_type": "code",
   "execution_count": null,
   "metadata": {},
   "outputs": [],
   "source": [
    "df_gd_ind_yr.pct_change().plot()\n",
    "plt.title('Pct Change of GLD, GDX, and Market Index by Year')\n",
    "plt.show()"
   ]
  },
  {
   "cell_type": "code",
   "execution_count": null,
   "metadata": {},
   "outputs": [],
   "source": [
    "df_gd_ind_mo.pct_change().plot()\n",
    "plt.title('Pct Change of GLD, GDX, and Market Index by Month')\n",
    "plt.show()"
   ]
  },
  {
   "cell_type": "markdown",
   "metadata": {},
   "source": [
    "# Step 1: Model Identification"
   ]
  },
  {
   "cell_type": "markdown",
   "metadata": {},
   "source": [
    "## ARIMA Model using Box-Jenkins method"
   ]
  },
  {
   "cell_type": "markdown",
   "metadata": {},
   "source": [
    "### Is there seasonality? "
   ]
  },
  {
   "cell_type": "code",
   "execution_count": null,
   "metadata": {},
   "outputs": [],
   "source": [
    "# look at an autocorrelation plot with a fixed lag of 5 \n",
    "plt.figure(figsize=(10,10))\n",
    "lag_plot(df_gdx_mo, lag=5)\n",
    "plt.title('Multi-Year GDX Autocorrelation plot')\n",
    "plt.show()"
   ]
  },
  {
   "cell_type": "code",
   "execution_count": null,
   "metadata": {},
   "outputs": [],
   "source": [
    "autocorrelation_plot(df_gdx_mo)\n",
    "plt.show()"
   ]
  },
  {
   "cell_type": "code",
   "execution_count": null,
   "metadata": {},
   "outputs": [],
   "source": [
    "plt.figure(figsize=(10,10))\n",
    "plt.plot(df_gdx_mo)\n",
    "plt.xlabel('Months')\n",
    "plt.ylabel('Price')\n",
    "plt.title('Multi-Year GDX Close Price by Month')\n",
    "plt.show()"
   ]
  },
  {
   "cell_type": "code",
   "execution_count": null,
   "metadata": {},
   "outputs": [],
   "source": [
    "# create dataframe with one year's data \n",
    "df_gdx_mo_2019 = df_gdx_mo.loc[(df_gdx_mo.index> '2018-09-01') & (df_gdx_mo.index < '2019-09-01')]\n",
    "df_gdx_mo_2019.shape\n",
    "plt.plot(df_gdx_mo_2019)\n",
    "plt.title('2019 GDX Price Line Plot')\n",
    "plt.ylabel('Price')\n",
    "plt.xlabel('Month')\n",
    "plt.show()"
   ]
  },
  {
   "cell_type": "code",
   "execution_count": null,
   "metadata": {},
   "outputs": [],
   "source": [
    "lag_plot(df_gdx_mo_2019, lag=5)\n",
    "plt.title('2019 GDX Price Lag Plot')\n",
    "plt.show()"
   ]
  },
  {
   "cell_type": "code",
   "execution_count": null,
   "metadata": {},
   "outputs": [],
   "source": [
    "autocorrelation_plot(df_gdx_mo_2019)\n",
    "plt.title('2019 GDX Price Autocorrelation Plot')\n",
    "plt.show()"
   ]
  },
  {
   "cell_type": "code",
   "execution_count": null,
   "metadata": {},
   "outputs": [],
   "source": [
    "df_gdx_mo_2019.plot(kind='kde')\n",
    "plt.title('2019 GDX Price Density Plot')\n",
    "plt.xlabel('Price')\n",
    "plt.show()"
   ]
  },
  {
   "cell_type": "markdown",
   "metadata": {},
   "source": [
    "Three main parameters: <br>\n",
    "p = number of lag observations <br>\n",
    "d = degree of differencing <br>\n",
    "q = the size of the moving average window"
   ]
  },
  {
   "cell_type": "code",
   "execution_count": null,
   "metadata": {},
   "outputs": [],
   "source": [
    "model = ARIMA(df_gdx_mo, order=(5,1,0))\n",
    "model_fit = model.fit(disp=0)\n",
    "print(model_fit.summary())"
   ]
  },
  {
   "cell_type": "markdown",
   "metadata": {},
   "source": [
    "# One-Way Anova\n"
   ]
  },
  {
   "cell_type": "markdown",
   "metadata": {},
   "source": [
    "## ANOVA stands for analysis of variance. "
   ]
  },
  {
   "cell_type": "markdown",
   "metadata": {},
   "source": [
    "### If the null hypothesis is not rejected, the F-statistic follows the F-distribution with $\\alpha - 1 $ and $N - \\alpha$ degrees of freedom. "
   ]
  },
  {
   "cell_type": "markdown",
   "metadata": {},
   "source": [
    "### Assumptions:\n",
    "All populations have common variance <br>\n",
    "Within each sample observations are sampled randomly and independent of each other <br>\n",
    "Each group sample is drawn from normally distributed population <br>\n",
    "Factor effects are additive <br>"
   ]
  },
  {
   "cell_type": "code",
   "execution_count": 70,
   "metadata": {},
   "outputs": [
    {
     "data": {
      "text/html": [
       "<div>\n",
       "<style scoped>\n",
       "    .dataframe tbody tr th:only-of-type {\n",
       "        vertical-align: middle;\n",
       "    }\n",
       "\n",
       "    .dataframe tbody tr th {\n",
       "        vertical-align: top;\n",
       "    }\n",
       "\n",
       "    .dataframe thead th {\n",
       "        text-align: right;\n",
       "    }\n",
       "</style>\n",
       "<table border=\"1\" class=\"dataframe\">\n",
       "  <thead>\n",
       "    <tr style=\"text-align: right;\">\n",
       "      <th></th>\n",
       "      <th>date</th>\n",
       "      <th>close</th>\n",
       "      <th>symbol</th>\n",
       "    </tr>\n",
       "  </thead>\n",
       "  <tbody>\n",
       "    <tr>\n",
       "      <th>0</th>\n",
       "      <td>2019-10-07</td>\n",
       "      <td>16.3049</td>\n",
       "      <td>SLV</td>\n",
       "    </tr>\n",
       "    <tr>\n",
       "      <th>1</th>\n",
       "      <td>2019-10-04</td>\n",
       "      <td>16.4100</td>\n",
       "      <td>SLV</td>\n",
       "    </tr>\n",
       "    <tr>\n",
       "      <th>2</th>\n",
       "      <td>2019-10-03</td>\n",
       "      <td>16.4300</td>\n",
       "      <td>SLV</td>\n",
       "    </tr>\n",
       "    <tr>\n",
       "      <th>3</th>\n",
       "      <td>2019-10-02</td>\n",
       "      <td>16.4300</td>\n",
       "      <td>SLV</td>\n",
       "    </tr>\n",
       "    <tr>\n",
       "      <th>4</th>\n",
       "      <td>2019-10-01</td>\n",
       "      <td>16.1500</td>\n",
       "      <td>SLV</td>\n",
       "    </tr>\n",
       "  </tbody>\n",
       "</table>\n",
       "</div>"
      ],
      "text/plain": [
       "        date    close symbol\n",
       "0 2019-10-07  16.3049    SLV\n",
       "1 2019-10-04  16.4100    SLV\n",
       "2 2019-10-03  16.4300    SLV\n",
       "3 2019-10-02  16.4300    SLV\n",
       "4 2019-10-01  16.1500    SLV"
      ]
     },
     "execution_count": 70,
     "metadata": {},
     "output_type": "execute_result"
    }
   ],
   "source": [
    "df.head()\n",
    "df_recent = df.loc[(df['date'] > '2019-08-01') & (df['symbol'] != 'DJI') & (df['symbol'] != 'GLD')]\n",
    "df_recent.shape\n",
    "#df_recent.groupby('symbol').describe()\n",
    "df_recent.head()"
   ]
  },
  {
   "cell_type": "markdown",
   "metadata": {},
   "source": [
    "Using $\\alpha = 0.05$ <br>\n",
    "<br>\n",
    "$H_{o}: \\mu_{1} = \\mu_{2} = \\mu_{3} $ <br>\n",
    "$H_{a}: $ At least one of the means differs from the other means"
   ]
  },
  {
   "cell_type": "code",
   "execution_count": 71,
   "metadata": {},
   "outputs": [
    {
     "name": "stdout",
     "output_type": "stream",
     "text": [
      "               sum_sq     df            F         PR(>F)\n",
      "symbol    4788.269694    2.0  2656.474363  3.997616e-109\n",
      "Residual   121.668106  135.0          NaN            NaN\n"
     ]
    }
   ],
   "source": [
    "formula = 'close ~ symbol'\n",
    "lm = ols(formula, df_recent).fit()\n",
    "table = sm.stats.anova_lm(lm, typ=2)\n",
    "print(table)"
   ]
  },
  {
   "cell_type": "code",
   "execution_count": 77,
   "metadata": {},
   "outputs": [
    {
     "data": {
      "text/plain": [
       "Text(0.5, 0.98, '')"
      ]
     },
     "execution_count": 77,
     "metadata": {},
     "output_type": "execute_result"
    },
    {
     "data": {
      "image/png": "[encoded data removed]",
      "text/plain": [
       "<Figure size 432x288 with 1 Axes>"
      ]
     },
     "metadata": {},
     "output_type": "display_data"
    }
   ],
   "source": [
    "df_recent.boxplot('close', by='symbol')\n",
    "plt.xlabel('Ticker')\n",
    "plt.ylabel('Price')\n",
    "plt.title('Mean GDX, SIL, and SLV Price since August 1, 2019')\n",
    "plt.style.use('seaborn')\n",
    "plt.suptitle('')"
   ]
  },
  {
   "cell_type": "markdown",
   "metadata": {},
   "source": [
    "### Reject $H_{o}$"
   ]
  },
  {
   "cell_type": "code",
   "execution_count": null,
   "metadata": {},
   "outputs": [],
   "source": []
  }
 ],
 "metadata": {
  "celltoolbar": "Raw Cell Format",
  "kernelspec": {
   "display_name": "Python 3",
   "language": "python",
   "name": "python3"
  },
  "language_info": {
   "codemirror_mode": {
    "name": "ipython",
    "version": 3
   },
   "file_extension": ".py",
   "mimetype": "text/x-python",
   "name": "python",
   "nbconvert_exporter": "python",
   "pygments_lexer": "ipython3",
   "version": "3.7.3"
  }
 },
 "nbformat": 4,
 "nbformat_minor": 2
}
