{
 "cells": [
  {
   "cell_type": "code",
   "execution_count": 1,
   "metadata": {},
   "outputs": [],
   "source": [
    "import pandas as pd\n",
    "import numpy as np\n",
    "import matplotlib.pyplot as plt\n",
    "import seaborn as sns\n",
    "import scipy.stats as stats\n",
    "import datetime"
   ]
  },
  {
   "cell_type": "code",
   "execution_count": 13,
   "metadata": {},
   "outputs": [
    {
     "data": {
      "text/html": [
       "<div>\n",
       "<style scoped>\n",
       "    .dataframe tbody tr th:only-of-type {\n",
       "        vertical-align: middle;\n",
       "    }\n",
       "\n",
       "    .dataframe tbody tr th {\n",
       "        vertical-align: top;\n",
       "    }\n",
       "\n",
       "    .dataframe thead th {\n",
       "        text-align: right;\n",
       "    }\n",
       "</style>\n",
       "<table border=\"1\" class=\"dataframe\">\n",
       "  <thead>\n",
       "    <tr style=\"text-align: right;\">\n",
       "      <th></th>\n",
       "      <th>date</th>\n",
       "      <th>open</th>\n",
       "      <th>high</th>\n",
       "      <th>low</th>\n",
       "      <th>close</th>\n",
       "      <th>volume</th>\n",
       "      <th>symbol</th>\n",
       "    </tr>\n",
       "  </thead>\n",
       "  <tbody>\n",
       "    <tr>\n",
       "      <th>0</th>\n",
       "      <td>2019-10-07</td>\n",
       "      <td>16.38</td>\n",
       "      <td>16.46</td>\n",
       "      <td>16.28</td>\n",
       "      <td>16.3049</td>\n",
       "      <td>6997796.0</td>\n",
       "      <td>SLV</td>\n",
       "    </tr>\n",
       "    <tr>\n",
       "      <th>1</th>\n",
       "      <td>2019-10-04</td>\n",
       "      <td>16.30</td>\n",
       "      <td>16.46</td>\n",
       "      <td>16.25</td>\n",
       "      <td>16.4100</td>\n",
       "      <td>17178596.0</td>\n",
       "      <td>SLV</td>\n",
       "    </tr>\n",
       "    <tr>\n",
       "      <th>2</th>\n",
       "      <td>2019-10-03</td>\n",
       "      <td>16.38</td>\n",
       "      <td>16.65</td>\n",
       "      <td>16.37</td>\n",
       "      <td>16.4300</td>\n",
       "      <td>24412700.0</td>\n",
       "      <td>SLV</td>\n",
       "    </tr>\n",
       "    <tr>\n",
       "      <th>3</th>\n",
       "      <td>2019-10-02</td>\n",
       "      <td>16.33</td>\n",
       "      <td>16.54</td>\n",
       "      <td>16.27</td>\n",
       "      <td>16.4300</td>\n",
       "      <td>21300800.0</td>\n",
       "      <td>SLV</td>\n",
       "    </tr>\n",
       "    <tr>\n",
       "      <th>4</th>\n",
       "      <td>2019-10-01</td>\n",
       "      <td>15.96</td>\n",
       "      <td>16.21</td>\n",
       "      <td>15.91</td>\n",
       "      <td>16.1500</td>\n",
       "      <td>23278100.0</td>\n",
       "      <td>SLV</td>\n",
       "    </tr>\n",
       "  </tbody>\n",
       "</table>\n",
       "</div>"
      ],
      "text/plain": [
       "         date   open   high    low    close      volume symbol\n",
       "0  2019-10-07  16.38  16.46  16.28  16.3049   6997796.0    SLV\n",
       "1  2019-10-04  16.30  16.46  16.25  16.4100  17178596.0    SLV\n",
       "2  2019-10-03  16.38  16.65  16.37  16.4300  24412700.0    SLV\n",
       "3  2019-10-02  16.33  16.54  16.27  16.4300  21300800.0    SLV\n",
       "4  2019-10-01  15.96  16.21  15.91  16.1500  23278100.0    SLV"
      ]
     },
     "execution_count": 13,
     "metadata": {},
     "output_type": "execute_result"
    }
   ],
   "source": [
    "df = pd.read_csv('data/clean_data.csv', index_col=0)\n",
    "df.head()"
   ]
  },
  {
   "cell_type": "code",
   "execution_count": 14,
   "metadata": {},
   "outputs": [
    {
     "data": {
      "text/plain": [
       "dtype('<M8[ns]')"
      ]
     },
     "execution_count": 14,
     "metadata": {},
     "output_type": "execute_result"
    }
   ],
   "source": [
    "df.symbol.unique()\n",
    "df.date = pd.to_datetime(df.date)\n",
    "df.date.dtype"
   ]
  },
  {
   "cell_type": "code",
   "execution_count": 41,
   "metadata": {},
   "outputs": [
    {
     "data": {
      "text/plain": [
       "<matplotlib.axes._subplots.AxesSubplot at 0x1a20034550>"
      ]
     },
     "execution_count": 41,
     "metadata": {},
     "output_type": "execute_result"
    },
    {
     "data": {
      "image/png": "[encoded data removed]",
      "text/plain": [
       "<Figure size 432x288 with 1 Axes>"
      ]
     },
     "metadata": {
      "needs_background": "light"
     },
     "output_type": "display_data"
    }
   ],
   "source": [
    "df.groupby(pd.Grouper(key='symbol')).mean().plot()"
   ]
  },
  {
   "cell_type": "code",
   "execution_count": 19,
   "metadata": {},
   "outputs": [],
   "source": [
    "df_crisis = df.loc[(df['date'] > '2007-01-01') & (df['date'] < '2009-01-01')]"
   ]
  },
  {
   "cell_type": "code",
   "execution_count": 20,
   "metadata": {},
   "outputs": [
    {
     "name": "stderr",
     "output_type": "stream",
     "text": [
      "/Users/alyssaliguori/anaconda3/lib/python3.7/site-packages/ipykernel_launcher.py:1: SettingWithCopyWarning: \n",
      "A value is trying to be set on a copy of a slice from a DataFrame.\n",
      "Try using .loc[row_indexer,col_indexer] = value instead\n",
      "\n",
      "See the caveats in the documentation: http://pandas.pydata.org/pandas-docs/stable/indexing.html#indexing-view-versus-copy\n",
      "  \"\"\"Entry point for launching an IPython kernel.\n"
     ]
    }
   ],
   "source": [
    "df_crisis['date']= pd.to_datetime(df_crisis['date'])"
   ]
  },
  {
   "cell_type": "code",
   "execution_count": 39,
   "metadata": {},
   "outputs": [],
   "source": [
    "df_crisis.head()\n",
    "df_crisis = df_crisis[['date', 'close']]"
   ]
  },
  {
   "cell_type": "code",
   "execution_count": 40,
   "metadata": {},
   "outputs": [
    {
     "data": {
      "text/html": [
       "<div>\n",
       "<style scoped>\n",
       "    .dataframe tbody tr th:only-of-type {\n",
       "        vertical-align: middle;\n",
       "    }\n",
       "\n",
       "    .dataframe tbody tr th {\n",
       "        vertical-align: top;\n",
       "    }\n",
       "\n",
       "    .dataframe thead th {\n",
       "        text-align: right;\n",
       "    }\n",
       "</style>\n",
       "<table border=\"1\" class=\"dataframe\">\n",
       "  <thead>\n",
       "    <tr style=\"text-align: right;\">\n",
       "      <th></th>\n",
       "      <th>close</th>\n",
       "    </tr>\n",
       "    <tr>\n",
       "      <th>date</th>\n",
       "      <th></th>\n",
       "    </tr>\n",
       "  </thead>\n",
       "  <tbody>\n",
       "    <tr>\n",
       "      <th>2007-01-31</th>\n",
       "      <td>3156.563243</td>\n",
       "    </tr>\n",
       "    <tr>\n",
       "      <th>2007-02-28</th>\n",
       "      <td>3187.933242</td>\n",
       "    </tr>\n",
       "    <tr>\n",
       "      <th>2007-03-31</th>\n",
       "      <td>3096.291536</td>\n",
       "    </tr>\n",
       "    <tr>\n",
       "      <th>2007-04-30</th>\n",
       "      <td>3219.244163</td>\n",
       "    </tr>\n",
       "    <tr>\n",
       "      <th>2007-05-31</th>\n",
       "      <td>3381.589918</td>\n",
       "    </tr>\n",
       "    <tr>\n",
       "      <th>2007-06-30</th>\n",
       "      <td>3399.174014</td>\n",
       "    </tr>\n",
       "    <tr>\n",
       "      <th>2007-07-31</th>\n",
       "      <td>3449.404381</td>\n",
       "    </tr>\n",
       "    <tr>\n",
       "      <th>2007-08-31</th>\n",
       "      <td>3338.856022</td>\n",
       "    </tr>\n",
       "    <tr>\n",
       "      <th>2007-09-30</th>\n",
       "      <td>3421.042526</td>\n",
       "    </tr>\n",
       "    <tr>\n",
       "      <th>2007-10-31</th>\n",
       "      <td>3509.120326</td>\n",
       "    </tr>\n",
       "    <tr>\n",
       "      <th>2007-11-30</th>\n",
       "      <td>3335.791006</td>\n",
       "    </tr>\n",
       "    <tr>\n",
       "      <th>2007-12-31</th>\n",
       "      <td>3386.580490</td>\n",
       "    </tr>\n",
       "    <tr>\n",
       "      <th>2008-01-31</th>\n",
       "      <td>3173.132445</td>\n",
       "    </tr>\n",
       "    <tr>\n",
       "      <th>2008-02-29</th>\n",
       "      <td>3144.531980</td>\n",
       "    </tr>\n",
       "    <tr>\n",
       "      <th>2008-03-31</th>\n",
       "      <td>3089.945799</td>\n",
       "    </tr>\n",
       "    <tr>\n",
       "      <th>2008-04-30</th>\n",
       "      <td>3202.897955</td>\n",
       "    </tr>\n",
       "    <tr>\n",
       "      <th>2008-05-31</th>\n",
       "      <td>3240.782455</td>\n",
       "    </tr>\n",
       "    <tr>\n",
       "      <th>2008-06-30</th>\n",
       "      <td>3051.592730</td>\n",
       "    </tr>\n",
       "    <tr>\n",
       "      <th>2008-07-31</th>\n",
       "      <td>2869.881642</td>\n",
       "    </tr>\n",
       "    <tr>\n",
       "      <th>2008-08-31</th>\n",
       "      <td>2916.230014</td>\n",
       "    </tr>\n",
       "    <tr>\n",
       "      <th>2008-09-30</th>\n",
       "      <td>2810.256577</td>\n",
       "    </tr>\n",
       "    <tr>\n",
       "      <th>2008-10-31</th>\n",
       "      <td>2322.574112</td>\n",
       "    </tr>\n",
       "    <tr>\n",
       "      <th>2008-11-30</th>\n",
       "      <td>2180.249261</td>\n",
       "    </tr>\n",
       "    <tr>\n",
       "      <th>2008-12-31</th>\n",
       "      <td>2178.927425</td>\n",
       "    </tr>\n",
       "  </tbody>\n",
       "</table>\n",
       "</div>"
      ],
      "text/plain": [
       "                  close\n",
       "date                   \n",
       "2007-01-31  3156.563243\n",
       "2007-02-28  3187.933242\n",
       "2007-03-31  3096.291536\n",
       "2007-04-30  3219.244163\n",
       "2007-05-31  3381.589918\n",
       "2007-06-30  3399.174014\n",
       "2007-07-31  3449.404381\n",
       "2007-08-31  3338.856022\n",
       "2007-09-30  3421.042526\n",
       "2007-10-31  3509.120326\n",
       "2007-11-30  3335.791006\n",
       "2007-12-31  3386.580490\n",
       "2008-01-31  3173.132445\n",
       "2008-02-29  3144.531980\n",
       "2008-03-31  3089.945799\n",
       "2008-04-30  3202.897955\n",
       "2008-05-31  3240.782455\n",
       "2008-06-30  3051.592730\n",
       "2008-07-31  2869.881642\n",
       "2008-08-31  2916.230014\n",
       "2008-09-30  2810.256577\n",
       "2008-10-31  2322.574112\n",
       "2008-11-30  2180.249261\n",
       "2008-12-31  2178.927425"
      ]
     },
     "execution_count": 40,
     "metadata": {},
     "output_type": "execute_result"
    }
   ],
   "source": [
    "df_crisis.groupby(pd.Grouper(key='date',freq='M')).mean()"
   ]
  },
  {
   "cell_type": "code",
   "execution_count": null,
   "metadata": {},
   "outputs": [],
   "source": [
    "df_crisis = df_crisis.loc[(df_crisis['symbol']=='GLD')|(df_crisis['symbol']=='GDX')|(df_crisis['symbol']=='DJI')]"
   ]
  },
  {
   "cell_type": "code",
   "execution_count": null,
   "metadata": {},
   "outputs": [],
   "source": [
    "df_gld = df_crisis.loc[(df_crisis['symbol']== 'GLD')]\n",
    "df_gdx = df_crisis.loc[(df_crisis['symbol']== 'GDX')]\n",
    "df_dji = df_crisis.loc[(df_crisis['symbol'] == 'DJI')]\n",
    "df_dji.symbol.unique()"
   ]
  },
  {
   "cell_type": "code",
   "execution_count": null,
   "metadata": {},
   "outputs": [],
   "source": [
    "# resample by month for GLD\n",
    "df_gld_mo = df_gld.resample('M',on='date').mean()\n",
    "df_gld_mo.index = df_gld_mo.index.map(lambda x: x.strftime('%m-%y'))\n",
    "df_gld_mo.head()"
   ]
  },
  {
   "cell_type": "code",
   "execution_count": null,
   "metadata": {},
   "outputs": [],
   "source": [
    "# same for GDX \n",
    "df_gdx_mo = df_gdx.resample('M',on='date').mean()\n",
    "df_gdx_mo.index = df_gdx_mo.index.map(lambda x: x.strftime('%m-%y'))\n",
    "df_dji_mo.describe()"
   ]
  },
  {
   "cell_type": "code",
   "execution_count": null,
   "metadata": {},
   "outputs": [],
   "source": [
    "# same for DJI\n",
    "df_dji_mo = df_dji.resample('M',on='date').mean()\n",
    "df_dji_mo.index = df_dji_mo.index.map(lambda x: x.strftime('%m-%y'))\n",
    "df_dji_mo.head()"
   ]
  },
  {
   "cell_type": "code",
   "execution_count": null,
   "metadata": {},
   "outputs": [],
   "source": [
    "df_merged = df_gld_mo.join(df_gdx_mo, lsuffix='_gld',rsuffix='_gdx' )\n",
    "df_merged.head()"
   ]
  },
  {
   "cell_type": "code",
   "execution_count": null,
   "metadata": {},
   "outputs": [],
   "source": [
    "label_list = []\n",
    "\n",
    "for i in df_gld_mo.index:\n",
    "    label_list.append(i);\n",
    "label_list;"
   ]
  },
  {
   "cell_type": "code",
   "execution_count": null,
   "metadata": {},
   "outputs": [],
   "source": [
    "ax1 =sns.lineplot(x= df_merged.index, y='close_gld', data=df_merged, color='darkgreen')\n",
    "plt.title('GLD and GDX Average Closing Price by Month During the Financial Crisis',wrap=True)\n",
    "plt.xlabel('Month-Year')\n",
    "ax2=sns.lineplot(x=df_merged.index, y='close_gdx', data=df_merged, color='lightgreen')\n",
    "ax3 = ax1.twinx()\n",
    "ax3 = sns.lineplot(x=df_dji_mo.index, y='close', data=df_dji_mo, color='lightgrey')\n",
    "ax1.set_xticklabels(labels=label_list,rotation=90)\n",
    "ax1.set_ylabel('avg. close ($) for GLD and GDX', size=10)\n",
    "ax3.set_ylabel('avg. close ($) for market index', size = 10, color='lightgrey')\n",
    "ax3.tick_params(axis='y', colors='lightgrey')\n",
    "ax2.legend(labels=['GLD','GDX'])\n",
    "plt.tight_layout()\n",
    "plt.show()"
   ]
  },
  {
   "cell_type": "code",
   "execution_count": null,
   "metadata": {},
   "outputs": [],
   "source": [
    "# find change in mean from month to month for GLD\n",
    "df_xs_gld = df_gld_mo[['close']]\n",
    "df_xs_gld.head()\n",
    "df_xs_gdx = df_gdx_mo[['close']]\n",
    "df_xs_gdx.head()\n",
    "df_xs_dji = df_dji_mo[['close']]\n",
    "df_xs_dji.head()\n",
    "df_xs_gld.mean()"
   ]
  },
  {
   "cell_type": "code",
   "execution_count": null,
   "metadata": {},
   "outputs": [],
   "source": [
    "df_gld_pc = df_xs_gld.pct_change(axis='rows')\n",
    "df_gld_pc.head()\n",
    "df_gdx_pc = df_xs_gdx.pct_change(axis='rows')\n",
    "df_gdx_pc.head()\n",
    "df_dji_pc = df_xs_dji.pct_change(axis='rows')\n",
    "df_gdx_pc"
   ]
  },
  {
   "cell_type": "code",
   "execution_count": null,
   "metadata": {},
   "outputs": [],
   "source": [
    "ax1 =sns.lineplot(x= df_gld_pc.index, y='close', data=df_gld_pc, color='darkgreen')\n",
    "plt.title('DJI, GLD, and GDX Percent Change in Avg. Closing Price by Month During the Financial Crisis', wrap=True)\n",
    "plt.xlabel('Month-Year')\n",
    "ax2=sns.lineplot(x=df_gdx_pc.index, y='close', data=df_gdx_pc, color='lightgreen')\n",
    "ax3 = sns.lineplot(x=df_dji_pc.index, y='close', data=df_dji_pc, color='lightgrey')\n",
    "ax1.set_xticklabels(labels=label_list,rotation=90)\n",
    "ax1.set_ylabel('avg. close ($) for GLD and GDX', size=10)\n",
    "ax1.legend(labels=['GLD','GDX','DJI'])\n",
    "plt.tight_layout()\n",
    "plt.show()\n"
   ]
  },
  {
   "cell_type": "code",
   "execution_count": null,
   "metadata": {},
   "outputs": [],
   "source": []
  },
  {
   "cell_type": "code",
   "execution_count": null,
   "metadata": {},
   "outputs": [],
   "source": [
    "repeated anova \n",
    "chisquared\n",
    "            ticker \n",
    "months - volumes\n",
    "\n",
    "collinearity \n",
    "\n",
    "\n",
    "y = a"
   ]
  }
 ],
 "metadata": {
  "kernelspec": {
   "display_name": "Python 3",
   "language": "python",
   "name": "python3"
  },
  "language_info": {
   "codemirror_mode": {
    "name": "ipython",
    "version": 3
   },
   "file_extension": ".py",
   "mimetype": "text/x-python",
   "name": "python",
   "nbconvert_exporter": "python",
   "pygments_lexer": "ipython3",
   "version": "3.7.3"
  }
 },
 "nbformat": 4,
 "nbformat_minor": 2
}
