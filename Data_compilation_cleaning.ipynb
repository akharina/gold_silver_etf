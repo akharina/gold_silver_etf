{
 "cells": [
  {
   "cell_type": "code",
   "execution_count": 5,
   "metadata": {},
   "outputs": [],
   "source": [
    "#importing requests to get API data\n",
    "import requests\n",
    "import json\n",
    "\n",
    "#importing pandas\n",
    "import pandas as pd"
   ]
  },
  {
   "cell_type": "code",
   "execution_count": 36,
   "metadata": {},
   "outputs": [
    {
     "name": "stdout",
     "output_type": "stream",
     "text": [
      "SLV response code: 200\n"
     ]
    }
   ],
   "source": [
    "#script to compile data into dataframe per symbol\n",
    "def get_keys(path):\n",
    "    with open(path) as f:\n",
    "        return json.load(f)\n",
    "\n",
    "keys = get_keys(\"/Users/akharina/.secret/alpha_vantage_API.json\")\n",
    "api_key = keys['api_key']\n",
    "\n",
    "def vantage_point(symbol):\n",
    "    URL = 'https://www.alphavantage.co/query?'\n",
    "    PARAMS = {\"function\":'TIME_SERIES_DAILY',\n",
    "              \"symbol\":f'{symbol}',\n",
    "              \"outputsize\":'full',\n",
    "              \"apikey\":api_key}\n",
    "    \n",
    "    response = requests.get(URL,PARAMS)\n",
    "    print(f\"{symbol} response code: {response.status_code}\")\n",
    "    df = pd.DataFrame(response.json()['Time Series (Daily)']).T\n",
    "    df.columns = [f'{symbol}_open',f'{symbol}_high',f'{symbol}_low',f'{symbol}_close',f'{symbol}_volume']\n",
    "    df.to_csv(f\"data/raw/{symbol}.csv\")\n",
    "    return df\n",
    "\n",
    "df_slv=vantage_point('SLV')"
   ]
  },
  {
   "cell_type": "code",
   "execution_count": 16,
   "metadata": {},
   "outputs": [
    {
     "data": {
      "text/html": [
       "<div>\n",
       "<style scoped>\n",
       "    .dataframe tbody tr th:only-of-type {\n",
       "        vertical-align: middle;\n",
       "    }\n",
       "\n",
       "    .dataframe tbody tr th {\n",
       "        vertical-align: top;\n",
       "    }\n",
       "\n",
       "    .dataframe thead th {\n",
       "        text-align: right;\n",
       "    }\n",
       "</style>\n",
       "<table border=\"1\" class=\"dataframe\">\n",
       "  <thead>\n",
       "    <tr style=\"text-align: right;\">\n",
       "      <th></th>\n",
       "      <th>SLV_open</th>\n",
       "      <th>SLV_high</th>\n",
       "      <th>SLV_low</th>\n",
       "      <th>SLV_close</th>\n",
       "      <th>SLV_volume</th>\n",
       "    </tr>\n",
       "  </thead>\n",
       "  <tbody>\n",
       "    <tr>\n",
       "      <th>2019-10-04</th>\n",
       "      <td>16.3000</td>\n",
       "      <td>16.4600</td>\n",
       "      <td>16.2500</td>\n",
       "      <td>16.4100</td>\n",
       "      <td>17178596</td>\n",
       "    </tr>\n",
       "    <tr>\n",
       "      <th>2019-10-03</th>\n",
       "      <td>16.3800</td>\n",
       "      <td>16.6500</td>\n",
       "      <td>16.3700</td>\n",
       "      <td>16.4300</td>\n",
       "      <td>24412700</td>\n",
       "    </tr>\n",
       "    <tr>\n",
       "      <th>2019-10-02</th>\n",
       "      <td>16.3300</td>\n",
       "      <td>16.5400</td>\n",
       "      <td>16.2700</td>\n",
       "      <td>16.4300</td>\n",
       "      <td>21300800</td>\n",
       "    </tr>\n",
       "    <tr>\n",
       "      <th>2019-10-01</th>\n",
       "      <td>15.9600</td>\n",
       "      <td>16.2100</td>\n",
       "      <td>15.9100</td>\n",
       "      <td>16.1500</td>\n",
       "      <td>23278100</td>\n",
       "    </tr>\n",
       "    <tr>\n",
       "      <th>2019-09-30</th>\n",
       "      <td>16.0300</td>\n",
       "      <td>16.1000</td>\n",
       "      <td>15.8300</td>\n",
       "      <td>15.9200</td>\n",
       "      <td>29218300</td>\n",
       "    </tr>\n",
       "  </tbody>\n",
       "</table>\n",
       "</div>"
      ],
      "text/plain": [
       "           SLV_open SLV_high  SLV_low SLV_close SLV_volume\n",
       "2019-10-04  16.3000  16.4600  16.2500   16.4100   17178596\n",
       "2019-10-03  16.3800  16.6500  16.3700   16.4300   24412700\n",
       "2019-10-02  16.3300  16.5400  16.2700   16.4300   21300800\n",
       "2019-10-01  15.9600  16.2100  15.9100   16.1500   23278100\n",
       "2019-09-30  16.0300  16.1000  15.8300   15.9200   29218300"
      ]
     },
     "execution_count": 16,
     "metadata": {},
     "output_type": "execute_result"
    }
   ],
   "source": [
    "df_slv.head()"
   ]
  },
  {
   "cell_type": "code",
   "execution_count": 24,
   "metadata": {},
   "outputs": [
    {
     "name": "stdout",
     "output_type": "stream",
     "text": [
      "SLV response code: 200\n",
      "SIL response code: 200\n",
      "GLD response code: 200\n",
      "GDX response code: 200\n",
      "DJI response code: 200\n"
     ]
    }
   ],
   "source": [
    "#Compile data for all symbols\n",
    "df_slv = vantage_point('SLV')\n",
    "df_sil = vantage_point('SIL')\n",
    "df_gld = vantage_point('GLD')\n",
    "df_gdx = vantage_point('GDX')\n",
    "df_dji = vantage_point('DJI')"
   ]
  },
  {
   "cell_type": "code",
   "execution_count": 25,
   "metadata": {
    "scrolled": true
   },
   "outputs": [
    {
     "data": {
      "text/plain": [
       "((3383, 5), (2383, 5), (3745, 5), (3367, 5), (4971, 5))"
      ]
     },
     "execution_count": 25,
     "metadata": {},
     "output_type": "execute_result"
    }
   ],
   "source": [
    "df_slv.shape,df_sil.shape,df_gld.shape,df_gdx.shape,df_dji.shape"
   ]
  },
  {
   "cell_type": "code",
   "execution_count": 31,
   "metadata": {},
   "outputs": [
    {
     "data": {
      "text/html": [
       "<div>\n",
       "<style scoped>\n",
       "    .dataframe tbody tr th:only-of-type {\n",
       "        vertical-align: middle;\n",
       "    }\n",
       "\n",
       "    .dataframe tbody tr th {\n",
       "        vertical-align: top;\n",
       "    }\n",
       "\n",
       "    .dataframe thead th {\n",
       "        text-align: right;\n",
       "    }\n",
       "</style>\n",
       "<table border=\"1\" class=\"dataframe\">\n",
       "  <thead>\n",
       "    <tr style=\"text-align: right;\">\n",
       "      <th></th>\n",
       "      <th>DJI_open</th>\n",
       "      <th>DJI_high</th>\n",
       "      <th>DJI_low</th>\n",
       "      <th>DJI_close</th>\n",
       "      <th>DJI_volume</th>\n",
       "    </tr>\n",
       "  </thead>\n",
       "  <tbody>\n",
       "    <tr>\n",
       "      <th>2000-01-07</th>\n",
       "      <td>11247.0596</td>\n",
       "      <td>11528.1396</td>\n",
       "      <td>11239.9199</td>\n",
       "      <td>11522.5596</td>\n",
       "      <td>184900000</td>\n",
       "    </tr>\n",
       "    <tr>\n",
       "      <th>2000-01-06</th>\n",
       "      <td>11113.3701</td>\n",
       "      <td>11313.4502</td>\n",
       "      <td>11098.4502</td>\n",
       "      <td>11253.2598</td>\n",
       "      <td>176550000</td>\n",
       "    </tr>\n",
       "    <tr>\n",
       "      <th>2000-01-05</th>\n",
       "      <td>10989.3701</td>\n",
       "      <td>11215.0996</td>\n",
       "      <td>10938.6699</td>\n",
       "      <td>11122.6504</td>\n",
       "      <td>203190000</td>\n",
       "    </tr>\n",
       "    <tr>\n",
       "      <th>2000-01-04</th>\n",
       "      <td>11349.7500</td>\n",
       "      <td>11350.0596</td>\n",
       "      <td>10986.4502</td>\n",
       "      <td>10997.9297</td>\n",
       "      <td>178420000</td>\n",
       "    </tr>\n",
       "    <tr>\n",
       "      <th>2000-01-03</th>\n",
       "      <td>11501.8496</td>\n",
       "      <td>11522.0098</td>\n",
       "      <td>11305.6904</td>\n",
       "      <td>11357.5098</td>\n",
       "      <td>169750000</td>\n",
       "    </tr>\n",
       "  </tbody>\n",
       "</table>\n",
       "</div>"
      ],
      "text/plain": [
       "              DJI_open    DJI_high     DJI_low   DJI_close DJI_volume\n",
       "2000-01-07  11247.0596  11528.1396  11239.9199  11522.5596  184900000\n",
       "2000-01-06  11113.3701  11313.4502  11098.4502  11253.2598  176550000\n",
       "2000-01-05  10989.3701  11215.0996  10938.6699  11122.6504  203190000\n",
       "2000-01-04  11349.7500  11350.0596  10986.4502  10997.9297  178420000\n",
       "2000-01-03  11501.8496  11522.0098  11305.6904  11357.5098  169750000"
      ]
     },
     "execution_count": 31,
     "metadata": {},
     "output_type": "execute_result"
    }
   ],
   "source": [
    "df_dji.tail()"
   ]
  },
  {
   "cell_type": "code",
   "execution_count": 32,
   "metadata": {},
   "outputs": [],
   "source": [
    "#merge all datasets starting from largest\n",
    "\n",
    "df_dji_gld = df_dji.join(df_gld,how='left')\n",
    "df_bullion = df_dji_gld.join(df_slv,how='left')\n",
    "df_all = df_bullion.join(df_gdx,how='left').join(df_sil,how='left')"
   ]
  },
  {
   "cell_type": "code",
   "execution_count": 33,
   "metadata": {},
   "outputs": [
    {
     "data": {
      "text/plain": [
       "DJI_open         0\n",
       "DJI_high         0\n",
       "DJI_low          0\n",
       "DJI_close        0\n",
       "DJI_volume       0\n",
       "GLD_open      1226\n",
       "GLD_high      1226\n",
       "GLD_low       1226\n",
       "GLD_close     1226\n",
       "GLD_volume    1226\n",
       "SLV_open      1588\n",
       "SLV_high      1588\n",
       "SLV_low       1588\n",
       "SLV_close     1588\n",
       "SLV_volume    1588\n",
       "GDX_open      1604\n",
       "GDX_high      1604\n",
       "GDX_low       1604\n",
       "GDX_close     1604\n",
       "GDX_volume    1604\n",
       "SIL_open      2588\n",
       "SIL_high      2588\n",
       "SIL_low       2588\n",
       "SIL_close     2588\n",
       "SIL_volume    2588\n",
       "dtype: int64"
      ]
     },
     "execution_count": 33,
     "metadata": {},
     "output_type": "execute_result"
    }
   ],
   "source": [
    "df_all.isna().sum()"
   ]
  },
  {
   "cell_type": "code",
   "execution_count": null,
   "metadata": {},
   "outputs": [],
   "source": [
    "\n",
    "\n"
   ]
  }
 ],
 "metadata": {
  "kernelspec": {
   "display_name": "Python 3",
   "language": "python",
   "name": "python3"
  },
  "language_info": {
   "codemirror_mode": {
    "name": "ipython",
    "version": 3
   },
   "file_extension": ".py",
   "mimetype": "text/x-python",
   "name": "python",
   "nbconvert_exporter": "python",
   "pygments_lexer": "ipython3",
   "version": "3.7.3"
  }
 },
 "nbformat": 4,
 "nbformat_minor": 2
}
