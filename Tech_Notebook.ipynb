{
 "cells": [
  {
   "cell_type": "code",
   "execution_count": 1,
   "metadata": {},
   "outputs": [],
   "source": [
    "%load_ext autoreload\n",
    "%autoreload 2 \n",
    "import pandas as pd\n",
    "import numpy as np\n",
    "import requests \n",
    "import matplotlib.pyplot as plt\n",
    "import json"
   ]
  },
  {
   "cell_type": "code",
   "execution_count": 2,
   "metadata": {},
   "outputs": [],
   "source": [
    "from data_compilation import call_api_one_symbol\n",
    "from data_compilation import call_all_symbols\n",
    "from data_cleaning import full_clean"
   ]
  },
  {
   "cell_type": "code",
   "execution_count": 3,
   "metadata": {},
   "outputs": [],
   "source": [
    "symbol_list = ['SLV', 'SIL', 'GLD', 'GDX', 'DJI']"
   ]
  },
  {
   "cell_type": "code",
   "execution_count": 4,
   "metadata": {},
   "outputs": [
    {
     "name": "stdout",
     "output_type": "stream",
     "text": [
      "The response code for SLV is 200\n",
      "The response code for SIL is 200\n",
      "The response code for GLD is 200\n",
      "The response code for GDX is 200\n",
      "The response code for DJI is 200\n"
     ]
    }
   ],
   "source": [
    "df = call_all_symbols(symbol_list)"
   ]
  },
  {
   "cell_type": "code",
   "execution_count": 5,
   "metadata": {},
   "outputs": [
    {
     "data": {
      "text/plain": [
       "(17854, 6)"
      ]
     },
     "execution_count": 5,
     "metadata": {},
     "output_type": "execute_result"
    }
   ],
   "source": [
    "df.shape"
   ]
  },
  {
   "cell_type": "code",
   "execution_count": 10,
   "metadata": {},
   "outputs": [
    {
     "data": {
      "text/html": [
       "<div>\n",
       "<style scoped>\n",
       "    .dataframe tbody tr th:only-of-type {\n",
       "        vertical-align: middle;\n",
       "    }\n",
       "\n",
       "    .dataframe tbody tr th {\n",
       "        vertical-align: top;\n",
       "    }\n",
       "\n",
       "    .dataframe thead th {\n",
       "        text-align: right;\n",
       "    }\n",
       "</style>\n",
       "<table border=\"1\" class=\"dataframe\">\n",
       "  <thead>\n",
       "    <tr style=\"text-align: right;\">\n",
       "      <th></th>\n",
       "      <th>Open</th>\n",
       "      <th>High</th>\n",
       "      <th>Low</th>\n",
       "      <th>Close</th>\n",
       "      <th>Volume</th>\n",
       "    </tr>\n",
       "  </thead>\n",
       "  <tbody>\n",
       "    <tr>\n",
       "      <th>count</th>\n",
       "      <td>17854.000000</td>\n",
       "      <td>17854.000000</td>\n",
       "      <td>17854.000000</td>\n",
       "      <td>17854.000000</td>\n",
       "      <td>1.785400e+04</td>\n",
       "    </tr>\n",
       "    <tr>\n",
       "      <th>mean</th>\n",
       "      <td>3900.357812</td>\n",
       "      <td>3922.957111</td>\n",
       "      <td>3876.727750</td>\n",
       "      <td>3901.030922</td>\n",
       "      <td>7.040316e+07</td>\n",
       "    </tr>\n",
       "    <tr>\n",
       "      <th>std</th>\n",
       "      <td>6738.853299</td>\n",
       "      <td>6773.657955</td>\n",
       "      <td>6702.194783</td>\n",
       "      <td>6739.960194</td>\n",
       "      <td>1.084200e+08</td>\n",
       "    </tr>\n",
       "    <tr>\n",
       "      <th>min</th>\n",
       "      <td>6.200000</td>\n",
       "      <td>6.320500</td>\n",
       "      <td>6.040000</td>\n",
       "      <td>6.130000</td>\n",
       "      <td>4.300000e+03</td>\n",
       "    </tr>\n",
       "    <tr>\n",
       "      <th>25%</th>\n",
       "      <td>21.970000</td>\n",
       "      <td>22.250000</td>\n",
       "      <td>21.718750</td>\n",
       "      <td>21.980000</td>\n",
       "      <td>4.352800e+06</td>\n",
       "    </tr>\n",
       "    <tr>\n",
       "      <th>50%</th>\n",
       "      <td>51.345000</td>\n",
       "      <td>51.875000</td>\n",
       "      <td>50.537000</td>\n",
       "      <td>51.330000</td>\n",
       "      <td>1.178775e+07</td>\n",
       "    </tr>\n",
       "    <tr>\n",
       "      <th>75%</th>\n",
       "      <td>9269.795175</td>\n",
       "      <td>9334.510250</td>\n",
       "      <td>9168.057400</td>\n",
       "      <td>9269.814925</td>\n",
       "      <td>1.014075e+08</td>\n",
       "    </tr>\n",
       "    <tr>\n",
       "      <th>max</th>\n",
       "      <td>27364.689500</td>\n",
       "      <td>27398.679700</td>\n",
       "      <td>27294.169900</td>\n",
       "      <td>27359.160200</td>\n",
       "      <td>2.190810e+09</td>\n",
       "    </tr>\n",
       "  </tbody>\n",
       "</table>\n",
       "</div>"
      ],
      "text/plain": [
       "               Open          High           Low         Close        Volume\n",
       "count  17854.000000  17854.000000  17854.000000  17854.000000  1.785400e+04\n",
       "mean    3900.357812   3922.957111   3876.727750   3901.030922  7.040316e+07\n",
       "std     6738.853299   6773.657955   6702.194783   6739.960194  1.084200e+08\n",
       "min        6.200000      6.320500      6.040000      6.130000  4.300000e+03\n",
       "25%       21.970000     22.250000     21.718750     21.980000  4.352800e+06\n",
       "50%       51.345000     51.875000     50.537000     51.330000  1.178775e+07\n",
       "75%     9269.795175   9334.510250   9168.057400   9269.814925  1.014075e+08\n",
       "max    27364.689500  27398.679700  27294.169900  27359.160200  2.190810e+09"
      ]
     },
     "execution_count": 10,
     "metadata": {},
     "output_type": "execute_result"
    }
   ],
   "source": [
    "df_etfs = full_clean()\n",
    "df_etfs.describe()"
   ]
  },
  {
   "cell_type": "code",
   "execution_count": null,
   "metadata": {},
   "outputs": [],
   "source": []
  }
 ],
 "metadata": {
  "kernelspec": {
   "display_name": "Python 3",
   "language": "python",
   "name": "python3"
  },
  "language_info": {
   "codemirror_mode": {
    "name": "ipython",
    "version": 3
   },
   "file_extension": ".py",
   "mimetype": "text/x-python",
   "name": "python",
   "nbconvert_exporter": "python",
   "pygments_lexer": "ipython3",
   "version": "3.7.3"
  }
 },
 "nbformat": 4,
 "nbformat_minor": 2
}
